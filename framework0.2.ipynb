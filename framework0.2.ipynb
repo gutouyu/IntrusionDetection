{
 "cells": [
  {
   "cell_type": "code",
   "execution_count": 135,
   "metadata": {},
   "outputs": [
    {
     "data": {
      "text/plain": [
       "u'autoreload 2'"
      ]
     },
     "execution_count": 135,
     "metadata": {},
     "output_type": "execute_result"
    }
   ],
   "source": [
    "# # Deep Learning\n",
    "# \n",
    "# ## preprocessing training dataset\n",
    "\n",
    "import os\n",
    "from MLP import MLP\n",
    "import numpy as np\n",
    "import pandas as pd\n",
    "import matplotlib.pyplot as plt\n",
    "from sklearn.model_selection import train_test_split\n",
    "\n",
    "u'matplotlib inline'\n",
    "plt.rcParams['figure.figsize'] = (10.0, 8.0) # set default size of plots\n",
    "plt.rcParams['image.interpolation'] = 'nearest'\n",
    "plt.rcParams['image.cmap'] = 'gray'\n",
    "u'load_ext autoreload'\n",
    "u'autoreload 2'"
   ]
  },
  {
   "cell_type": "code",
   "execution_count": 136,
   "metadata": {},
   "outputs": [],
   "source": [
    "def read_data():\n",
    "    input_file_dir = \"../datasets\"\n",
    "    train_file_name = \"kddcup.data_10_percent.txt\"\n",
    "    test_file_name = \"corrected.txt\"\n",
    "    header_file_name = \"header.txt\"\n",
    "    train_files = os.path.join(input_file_dir, train_file_name)\n",
    "    test_files = os.path.join(input_file_dir, test_file_name)\n",
    "    header_files = os.path.join(input_file_dir, header_file_name)\n",
    "    with open(header_files, 'r') as f:\n",
    "        header = f.readline().strip().split(',')\n",
    "    train_dataset = pd.read_csv(train_files)\n",
    "    test_dataset = pd.read_csv(test_files)\n",
    "    train_dataset.columns = header\n",
    "    test_dataset.columns = header\n",
    "    return train_dataset, test_dataset\n",
    "\n",
    "\n",
    "def labels_map(label):\n",
    "    label = str(label).split('.')[0]\n",
    "    \n",
    "    DOS = ['apache2', 'back', 'land', 'mailbomb', 'neptune', 'pod', \n",
    "                  'processtable', 'smurf', 'teardrop', 'udpstorm'] #DOS 10个\n",
    "    PROBE = ['ipsweep', 'mscan', 'nmap', 'portsweep', 'saint', 'satan'] #PROBE\n",
    "    U2R = ['buffer_overflow', 'httptunnel', 'loadmodule', 'perl', 'ps', 'rootkit', 'sqlattack', 'xterm'] #U2R\n",
    "    R2L = ['ftp_write', 'guess_passwd', 'imap', 'multihop', 'named', 'phf', \n",
    "           'sendmail', 'snmpgetattack', 'snmpguess', 'spy', 'warezclient', \n",
    "           'warezmaster', 'worm', 'xlock', 'xsnoop']#R2L\n",
    "        \n",
    "    if label == 'normal':\n",
    "        return 0\n",
    "    if label in PROBE:\n",
    "        return -1 \n",
    "    if label in DOS:\n",
    "        return DOS.index(label) + 1\n",
    "    if label in U2R:\n",
    "        return -1\n",
    "    if label in R2L:\n",
    "        return -1\n",
    "\n",
    "def filter_labels(dataset):\n",
    "    dataset['labels'] = dataset['labels'].apply(labels_map)\n",
    "    #看看要保留哪些数据\n",
    "    dataset = dataset[(dataset['labels']>-1)]\n",
    "    return dataset\n",
    "\n",
    "def split_valid_from_train(train_dataset, valid_size):\n",
    "    # Method 1\n",
    "    train_dataset, valid_dataset, _, _ = train_test_split(train_dataset, train_dataset['labels'], test_size=valid_size, random_state=None)\n",
    "    \n",
    "    # pandas中先重置index再打乱train. 否则只会调整各个行的顺序，而不会改变pandas的index\n",
    "    # 重置\n",
    "    train_dataset = train_dataset.reset_index(drop=True)\n",
    "    # 打乱\n",
    "    indexMask = np.arange(len(train_dataset))\n",
    "    for i in xrange(10):\n",
    "        np.random.shuffle(indexMask)\n",
    "    train_dataset = train_dataset.iloc[indexMask]\n",
    "\n",
    "    # Method 2\n",
    "    #获取验证集\n",
    "    # val_frac=0.25\n",
    "    # valid_dataset_neg = train_dataset[(train_dataset['labels']==0)].sample(frac=val_frac)\n",
    "    # valid_dataset_pos = train_dataset[(train_dataset['labels']==2)].sample(frac=val_frac)\n",
    "    # valid_dataset = pd.concat([valid_dataset_neg, valid_dataset_pos], axis=0)\n",
    "    # #train_dataset中分离出valid_dataset\n",
    "    # train_dataset = train_dataset.select(lambda x: x not in valid_dataset.index, axis=0)\n",
    "    return train_dataset, valid_dataset\n",
    "\n",
    "def combine_train_valid_test(trainDF, validDF, testDF):\n",
    "    all = pd.concat([trainDF, validDF, testDF], axis=0)\n",
    "    return all, (trainDF.shape[0], validDF.shape[0], testDF.shape[0])\n",
    "\n",
    "def process_data_features(all):\n",
    "\n",
    "    # 独热编码 labels\n",
    "    labels_dummies = pd.get_dummies(all['labels'], prefix='label')\n",
    "    all = pd.concat([all,labels_dummies], axis=1)\n",
    "    all = all.drop(['labels'], axis=1)\n",
    "\n",
    "    # 独热编码 protocol_type\n",
    "    protocal_type_dummies = pd.get_dummies(all.protocol_type, prefix='protocol_type')\n",
    "    all = pd.concat([all, protocal_type_dummies], axis=1)\n",
    "    all = all.drop(['protocol_type'], axis=1)\n",
    "\n",
    "    # 独热编码 flag\n",
    "    flag_dummies = pd.get_dummies(all.flag, prefix='flag')\n",
    "    all = pd.concat([all, flag_dummies], axis=1)\n",
    "    all = all.drop(['flag'], axis=1)\n",
    "\n",
    "    # 独热编码 Service 共有66个 暂时先去掉\n",
    "    # all.service.value_counts()\n",
    "    # service_dummies = pd.get_dummies(all.service, prefix='service')\n",
    "    # all = pd.concat([all, service_dummies], axis=1)\n",
    "    all = all.drop(['service'], axis=1)\n",
    "\n",
    "    # 去中心化 src_bytes, dst_bytes\n",
    "    all['src_bytes_norm'] = all.src_bytes - all.src_bytes.mean()\n",
    "    all['dst_bytes_norm'] = all.dst_bytes - all.dst_bytes.mean()\n",
    "    all = all.drop(['src_bytes'], axis=1)\n",
    "    all = all.drop(['dst_bytes'], axis=1)\n",
    "\n",
    "    return all.astype('float')\n",
    "\n",
    "def recover_data_after_process_features(comb, num_comb, labels_list=[0,1,2,3]):\n",
    "    #分离出Train Valid Test\n",
    "    train_dataset_size, valid_dataset_size, test_dataset_size = num_comb\n",
    "    sub_train_dataset = comb.iloc[:train_dataset_size, :].sample(frac=1)\n",
    "    sub_valid_dataset = comb.iloc[train_dataset_size: train_dataset_size+valid_dataset_size, :].sample(frac=1)\n",
    "    sub_test_dataset = comb.iloc[train_dataset_size+valid_dataset_size:, :].sample(frac=1)\n",
    "    # 分离出 label\n",
    "    total_labels = ['label_%d' % i for i in labels_list]\n",
    "    sub_train_labels = sub_train_dataset[total_labels]\n",
    "    sub_valid_labels = sub_valid_dataset[total_labels]\n",
    "    sub_test_labels = sub_test_dataset[total_labels]\n",
    "    sub_train_dataset.drop(total_labels, axis=1, inplace=True)\n",
    "    sub_valid_dataset.drop(total_labels, axis=1, inplace=True)\n",
    "    sub_test_dataset.drop(total_labels, axis=1, inplace=True)\n",
    "    data = {\n",
    "        'X_train': sub_train_dataset.as_matrix(),\n",
    "        'y_train': sub_train_labels.as_matrix(),\n",
    "        'X_val': sub_valid_dataset.as_matrix(),\n",
    "        'y_val': sub_valid_labels.as_matrix(),\n",
    "        'X_test': sub_test_dataset.as_matrix(),\n",
    "        'y_test': sub_test_labels.as_matrix()\n",
    "    }\n",
    "    for k, v in data.iteritems():\n",
    "        print k, v.shape\n",
    "    return data\n",
    "\n",
    "\n",
    "\n",
    "def analysis_plot_loss_and_accuracy(model):\n",
    "    print('Mean Accuracy( -top5 ) of train, valid, test: '), np.mean(model.train_acc_history[-5:]),np.mean(model.val_acc_history[-5:]), np.mean(model.test_acc_history[-5])\n",
    "    fig = plt.figure()\n",
    "    ax = fig.add_subplot(2,1,1)\n",
    "    ax.plot(range(len(model.loss_history)), model.loss_history, '-o')\n",
    "    plt.plot()\n",
    "\n",
    "    plt_len = len(model.train_acc_history)\n",
    "    plt.subplot(2,1,2)\n",
    "    plt.title('Accuracy')\n",
    "    plt.plot(model.train_acc_history, '-o', label='train')\n",
    "    plt.plot(model.test_acc_history, '-o', label='test')\n",
    "    plt.plot(model.val_acc_history, '-o', label='valid')\n",
    "    # plt.plot([90] * plt_len, 'k--')\n",
    "    plt.xlabel('Iteration')\n",
    "    plt.legend(loc='lower right')\n",
    "    plt.gcf().set_size_inches(15,9)\n",
    "    plt.show()\n",
    "\n",
    "def accuracy(predictions, labels):\n",
    "    return (100.0 * np.sum(np.argmax(predictions, 1) == np.argmax(labels, 1))\n",
    "            / predictions.shape[0])\n",
    "\n",
    "def analysis_confusion_matrix(X,y, model, header, verbose=True):\n",
    "    y_pred = model.predict(X)\n",
    "    m = len(header)\n",
    "    y_true = np.argmax(y, axis=1)\n",
    "    y_predIdx = np.argmax(y_pred, axis=1)\n",
    "    mat = np.mat(np.zeros((m,m)))\n",
    "    for real, pred in zip(y_true,y_predIdx):\n",
    "        mat[real,pred] = mat[real,pred] + 1\n",
    "    confMatrix = pd.DataFrame(data=mat, index= header, columns=header, dtype=int)\n",
    "    if verbose:\n",
    "        print ('Accuracy: %.2f', accuracy(y_pred, y))\n",
    "#         print confMatrix\n",
    "    return confMatrix"
   ]
  },
  {
   "cell_type": "code",
   "execution_count": 137,
   "metadata": {
    "collapsed": true
   },
   "outputs": [],
   "source": [
    "# Prepare Data\n",
    "trainDF, testDF = read_data()"
   ]
  },
  {
   "cell_type": "code",
   "execution_count": 138,
   "metadata": {},
   "outputs": [],
   "source": [
    "trainDF = filter_labels(trainDF)\n",
    "testDF = filter_labels(testDF)\n",
    "testDF = testDF[(testDF['labels'] != 1) & (testDF['labels'] != 4) & (testDF['labels']!=7 ) & (testDF['labels']<10)]\n",
    "trainDF, validDF = split_valid_from_train(trainDF, 0.25)\n",
    "combine, num_combine = combine_train_valid_test(trainDF, validDF, testDF)"
   ]
  },
  {
   "cell_type": "code",
   "execution_count": 139,
   "metadata": {
    "collapsed": true
   },
   "outputs": [],
   "source": [
    "combine = process_data_features(combine)"
   ]
  },
  {
   "cell_type": "code",
   "execution_count": 140,
   "metadata": {},
   "outputs": [
    {
     "name": "stdout",
     "output_type": "stream",
     "text": [
      "X_val (122184, 51)\n",
      "X_train (366551, 51)\n",
      "X_test (283890, 51)\n",
      "y_val (122184, 7)\n",
      "y_train (366551, 7)\n",
      "y_test (283890, 7)\n"
     ]
    }
   ],
   "source": [
    "data = recover_data_after_process_features(combine, num_combine, [0,2,3,5,6,8,9])"
   ]
  },
  {
   "cell_type": "code",
   "execution_count": 141,
   "metadata": {},
   "outputs": [
    {
     "name": "stdout",
     "output_type": "stream",
     "text": [
      "[[ 0.  0.  0. ...,  0.  1.  0.]\n",
      " [ 0.  0.  0. ...,  0.  1.  0.]\n",
      " [ 0.  0.  0. ...,  0.  0.  0.]\n",
      " ..., \n",
      " [ 1.  0.  0. ...,  0.  0.  0.]\n",
      " [ 0.  0.  0. ...,  0.  0.  0.]\n",
      " [ 0.  0.  0. ...,  0.  1.  0.]]\n"
     ]
    }
   ],
   "source": [
    "print data['y_val']"
   ]
  },
  {
   "cell_type": "code",
   "execution_count": 155,
   "metadata": {},
   "outputs": [
    {
     "name": "stdout",
     "output_type": "stream",
     "text": [
      "(Iteration 0 / 1832) train acc: 65.50%; val_acc: 64.05%; test_acc: 58.33%\n",
      "(Iteration 200 / 1832) train acc: 100.00%; val_acc: 98.49%; test_acc: 90.86%\n",
      "(Iteration 400 / 1832) train acc: 99.00%; val_acc: 99.21%; test_acc: 99.33%\n",
      "(Iteration 600 / 1832) train acc: 99.50%; val_acc: 99.42%; test_acc: 99.56%\n",
      "(Iteration 800 / 1832) train acc: 98.50%; val_acc: 99.42%; test_acc: 99.41%\n",
      "(Iteration 1000 / 1832) train acc: 100.00%; val_acc: 99.27%; test_acc: 99.34%\n",
      "(Iteration 1200 / 1832) train acc: 100.00%; val_acc: 99.54%; test_acc: 99.53%\n",
      "(Iteration 1400 / 1832) train acc: 99.50%; val_acc: 99.37%; test_acc: 99.30%\n",
      "(Iteration 1600 / 1832) train acc: 99.50%; val_acc: 99.32%; test_acc: 92.61%\n",
      "(Iteration 1800 / 1832) train acc: 99.50%; val_acc: 99.43%; test_acc: 99.21%\n"
     ]
    }
   ],
   "source": [
    "# Model\n",
    "input_dim = data['X_train'].shape[1]\n",
    "output_dim = data['y_train'].shape[1]\n",
    "model = MLP(data, input_dim, [512],output_dim,\n",
    "                learning_rate=1e-4, #1e-6\n",
    "                dropout_prob=0.0,\n",
    "                l2_strength=0.0,\n",
    "                batch_size=200,\n",
    "                num_epochs=1,\n",
    "                print_every=200,\n",
    "                verbose=True)\n",
    "\n",
    "model.train()"
   ]
  },
  {
   "cell_type": "code",
   "execution_count": 156,
   "metadata": {},
   "outputs": [
    {
     "name": "stdout",
     "output_type": "stream",
     "text": [
      "('Accuracy: %.2f', 99.1996900207827)\n",
      "          normal  back  land  neptune  pod   smurf  teardrop\n",
      "normal     58813    19     0      902    0     716       142\n",
      "back           7  1091     0        0    0       0         0\n",
      "land           7     0     0        2    0       0         0\n",
      "neptune       88     0     0    57913    0       0         0\n",
      "pod           87     0     0        0    0       0         0\n",
      "smurf        290     0     0        0    0  163801         0\n",
      "teardrop       5     0     0        7    0       0         0\n",
      "\n",
      "\n",
      "('Accuracy: %.2f', 99.31333071433248)\n",
      "          normal  back  land  neptune  pod  smurf  teardrop\n",
      "normal     23785    15     0      365    0     30        40\n",
      "back           7   575     0        0    0      0         0\n",
      "land          10     0     0        0    0      0         0\n",
      "neptune       10     0     0    26975    0      0         0\n",
      "pod           69     0     0        0    0      0         0\n",
      "smurf         24     0     0        0    0  70010         0\n",
      "teardrop      41     0     0      228    0      0         0\n"
     ]
    }
   ],
   "source": [
    "# Analysis\n",
    "DOS = ['normal', 'apache2', 'back', 'land', 'mailbomb', 'neptune', 'pod', \n",
    "                  'processtable', 'smurf', 'teardrop', 'udpstorm'] #DOS 10个\n",
    "DOS = np.array(DOS)[[0,2,3,5,6,8,9]].tolist()\n",
    "ATTACK = ['normal', 'probe', 'dos', 'u2r', 'r2l']\n",
    "\n",
    "print analysis_confusion_matrix(data['X_test'],data['y_test'], model, DOS)\n",
    "print '\\n'\n",
    "print analysis_confusion_matrix(data['X_val'],data['y_val'], model, DOS)"
   ]
  },
  {
   "cell_type": "code",
   "execution_count": 157,
   "metadata": {},
   "outputs": [
    {
     "name": "stdout",
     "output_type": "stream",
     "text": [
      "Mean Accuracy( -top5 ) of train, valid, test:  0.997 0.99386 0.993445\n"
     ]
    },
    {
     "data": {
      "image/png": "[encoded data removed]",
      "text/plain": [
       "<matplotlib.figure.Figure at 0x11a4a8310>"
      ]
     },
     "metadata": {},
     "output_type": "display_data"
    }
   ],
   "source": [
    "analysis_plot_loss_and_accuracy(model)"
   ]
  },
  {
   "cell_type": "code",
   "execution_count": null,
   "metadata": {
    "collapsed": true
   },
   "outputs": [],
   "source": [
    "ceshi"
   ]
  }
 ],
 "metadata": {
  "kernelspec": {
   "display_name": "Python 2",
   "language": "python",
   "name": "python2"
  },
  "language_info": {
   "codemirror_mode": {
    "name": "ipython",
    "version": 2
   },
   "file_extension": ".py",
   "mimetype": "text/x-python",
   "name": "python",
   "nbconvert_exporter": "python",
   "pygments_lexer": "ipython2",
   "version": "2.7.13"
  },
  "toc": {
   "colors": {
    "hover_highlight": "#DAA520",
    "navigate_num": "#000000",
    "navigate_text": "#333333",
    "running_highlight": "#FF0000",
    "selected_highlight": "#FFD700",
    "sidebar_border": "#EEEEEE",
    "wrapper_background": "#FFFFFF"
   },
   "moveMenuLeft": true,
   "nav_menu": {
    "height": "12px",
    "width": "252px"
   },
   "navigate_menu": true,
   "number_sections": true,
   "sideBar": true,
   "threshold": 4,
   "toc_cell": false,
   "toc_section_display": "block",
   "toc_window_display": false,
   "widenNotebook": false
  }
 },
 "nbformat": 4,
 "nbformat_minor": 2
}
