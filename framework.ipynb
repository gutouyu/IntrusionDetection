{
 "cells": [
  {
   "cell_type": "markdown",
   "metadata": {
    "colab_type": "text",
    "id": "4embtkV0pNxM"
   },
   "source": [
    "# Deep Learning\n",
    "\n",
    "## preprocessing training dataset"
   ]
  },
  {
   "cell_type": "code",
   "execution_count": 2,
   "metadata": {
    "collapsed": true
   },
   "outputs": [],
   "source": [
    "import os\n",
    "import numpy as np\n",
    "import tensorflow as tf\n",
    "import pandas as pd\n",
    "import matplotlib.pyplot as plt\n",
    "from MLP import MLP\n",
    "\n",
    "%matplotlib inline\n",
    "plt.rcParams['figure.figsize'] = (10.0, 8.0) # set default size of plots\n",
    "plt.rcParams['image.interpolation'] = 'nearest'\n",
    "plt.rcParams['image.cmap'] = 'gray'\n",
    "%load_ext autoreload\n",
    "%autoreload 2"
   ]
  },
  {
   "cell_type": "code",
   "execution_count": 3,
   "metadata": {
    "collapsed": true
   },
   "outputs": [],
   "source": [
    "input_file_dir = \"../datasets\"\n",
    "train_file_name = \"kddcup.data_10_percent.txt\"\n",
    "test_file_name = \"corrected.txt\"\n",
    "header_file_name = \"header.txt\"\n",
    "train_files = os.path.join(input_file_dir, train_file_name)\n",
    "test_files = os.path.join(input_file_dir, test_file_name)\n",
    "header_files = os.path.join(input_file_dir, header_file_name)\n",
    "with open(header_files, 'r') as f:\n",
    "    header = f.readline().strip().split(',')\n",
    "train_dataset = pd.read_csv(train_files)\n",
    "test_dataset = pd.read_csv(test_files)\n",
    "train_dataset.columns = header\n",
    "test_dataset.columns = header"
   ]
  },
  {
   "cell_type": "code",
   "execution_count": 4,
   "metadata": {
    "collapsed": true
   },
   "outputs": [],
   "source": [
    "def labels_map(label):\n",
    "    label = str(label).split('.')[0]\n",
    "    if label == 'normal':\n",
    "        return 0\n",
    "    if label in ['ipsweep', 'mscan', 'nmap', 'portsweep', 'saint', 'satan']: #PROBE\n",
    "        return 1\n",
    "    if label in ['apache2', 'back', 'land', 'mailbomb', 'neptune', 'pod', 'processtable', 'smurf', 'teardrop', 'udpstorm']: #DOS\n",
    "        return 2\n",
    "    if label in ['buffer_overflow', 'httptunnel', 'loadmodule', 'perl', 'ps', 'rootkit', 'sqlattack', 'xterm']: #U2R\n",
    "        return 3\n",
    "    if label in ['ftp_write', 'guess_passwd', 'imap', 'multihop', 'named', 'phf', 'sendmail', 'snmpgetattack', 'snmpguess', 'spy', 'warezclient', 'warezmaster', 'worm', 'xlock', 'xsnoop']: #R2L\n",
    "        return 4\n",
    "    \n",
    "train_dataset['labels'] = train_dataset['labels'].apply(labels_map)\n",
    "test_dataset['labels'] = test_dataset['labels'].apply(labels_map)"
   ]
  },
  {
   "cell_type": "code",
   "execution_count": null,
   "metadata": {
    "collapsed": true
   },
   "outputs": [],
   "source": [
    "mask = train_dataset['labels']==0\n",
    "print len(mask[mask==True]) # normal \n",
    "print len(mask[mask==False]) # DOS\n",
    "\n",
    "mask = test_dataset['labels'] == 0\n",
    "print len(mask[mask==True])\n",
    "print len(mask[mask==False]) #1:4"
   ]
  },
  {
   "cell_type": "code",
   "execution_count": 5,
   "metadata": {
    "collapsed": true
   },
   "outputs": [],
   "source": [
    "#只保留DOS 和 Normal\n",
    "train_dataset = train_dataset[(train_dataset['labels']==0) | (train_dataset['labels']==2)]\n",
    "test_dataset = test_dataset[(test_dataset['labels']==0) | (test_dataset['labels'] == 2)]"
   ]
  },
  {
   "cell_type": "code",
   "execution_count": 6,
   "metadata": {},
   "outputs": [
    {
     "name": "stdout",
     "output_type": "stream",
     "text": [
      "Train dataset:  474073\n",
      "Valid dataset:  14662\n",
      "Test  dataset:  290445\n"
     ]
    }
   ],
   "source": [
    "#获取验证集\n",
    "val_frac=0.25\n",
    "valid_dataset_neg = train_dataset[(train_dataset['labels']==0)].sample(frac=val_frac)\n",
    "valid_dataset_pos = train_dataset[(train_dataset['labels']==2)].sample(frac=val_frac)\n",
    "valid_dataset = pd.concat([valid_dataset_neg, valid_dataset_pos], axis=0)\n",
    "\n",
    "#train_dataset中分离出valid_dataset\n",
    "train_dataset = train_dataset.select(lambda x: x not in valid_dataset.index, axis=0)\n",
    "\n",
    "\n",
    "train_dataset_size = train_dataset.shape[0]\n",
    "valid_dataset_size = valid_dataset.shape[0]\n",
    "test_dataset_size = test_dataset.shape[0]\n",
    "\n",
    "print 'Train dataset: ', train_dataset_size\n",
    "print 'Valid dataset: ', valid_dataset_size\n",
    "print 'Test  dataset: ', test_dataset_size"
   ]
  },
  {
   "cell_type": "code",
   "execution_count": 7,
   "metadata": {
    "collapsed": true
   },
   "outputs": [],
   "source": [
    "combine_dataset = pd.concat([train_dataset,valid_dataset, test_dataset], axis=0)"
   ]
  },
  {
   "cell_type": "code",
   "execution_count": 8,
   "metadata": {
    "collapsed": true
   },
   "outputs": [],
   "source": [
    "# labels独热编码\n",
    "labels_dummies = pd.get_dummies(combine_dataset['labels'], prefix='label')\n",
    "combine_dataset = pd.concat([combine_dataset,labels_dummies], axis=1)"
   ]
  },
  {
   "cell_type": "code",
   "execution_count": 9,
   "metadata": {
    "scrolled": true
   },
   "outputs": [
    {
     "data": {
      "text/html": [
       "<div>\n",
       "<style>\n",
       "    .dataframe thead tr:only-child th {\n",
       "        text-align: right;\n",
       "    }\n",
       "\n",
       "    .dataframe thead th {\n",
       "        text-align: left;\n",
       "    }\n",
       "\n",
       "    .dataframe tbody tr th {\n",
       "        vertical-align: top;\n",
       "    }\n",
       "</style>\n",
       "<table border=\"1\" class=\"dataframe\">\n",
       "  <thead>\n",
       "    <tr style=\"text-align: right;\">\n",
       "      <th></th>\n",
       "      <th>duration</th>\n",
       "      <th>protocol_type</th>\n",
       "      <th>service</th>\n",
       "      <th>flag</th>\n",
       "      <th>src_bytes</th>\n",
       "      <th>dst_bytes</th>\n",
       "      <th>land</th>\n",
       "      <th>wrong_fragment</th>\n",
       "      <th>urgent</th>\n",
       "      <th>hot</th>\n",
       "      <th>...</th>\n",
       "      <th>dst_host_diff_srv_rate</th>\n",
       "      <th>dst_host_same_src_port_rate</th>\n",
       "      <th>dst_host_srv_diff_host_rate</th>\n",
       "      <th>dst_host_serror_rate</th>\n",
       "      <th>dst_host_srv_serror_rate</th>\n",
       "      <th>dst_host_rerror_rate</th>\n",
       "      <th>dst_host_srv_rerror_rate</th>\n",
       "      <th>labels</th>\n",
       "      <th>label_0</th>\n",
       "      <th>label_2</th>\n",
       "    </tr>\n",
       "  </thead>\n",
       "  <tbody>\n",
       "    <tr>\n",
       "      <th>0</th>\n",
       "      <td>0</td>\n",
       "      <td>tcp</td>\n",
       "      <td>http</td>\n",
       "      <td>SF</td>\n",
       "      <td>239</td>\n",
       "      <td>486</td>\n",
       "      <td>0</td>\n",
       "      <td>0</td>\n",
       "      <td>0</td>\n",
       "      <td>0</td>\n",
       "      <td>...</td>\n",
       "      <td>0.0</td>\n",
       "      <td>0.05</td>\n",
       "      <td>0.0</td>\n",
       "      <td>0.0</td>\n",
       "      <td>0.0</td>\n",
       "      <td>0.0</td>\n",
       "      <td>0.0</td>\n",
       "      <td>0</td>\n",
       "      <td>1</td>\n",
       "      <td>0</td>\n",
       "    </tr>\n",
       "    <tr>\n",
       "      <th>1</th>\n",
       "      <td>0</td>\n",
       "      <td>tcp</td>\n",
       "      <td>http</td>\n",
       "      <td>SF</td>\n",
       "      <td>235</td>\n",
       "      <td>1337</td>\n",
       "      <td>0</td>\n",
       "      <td>0</td>\n",
       "      <td>0</td>\n",
       "      <td>0</td>\n",
       "      <td>...</td>\n",
       "      <td>0.0</td>\n",
       "      <td>0.03</td>\n",
       "      <td>0.0</td>\n",
       "      <td>0.0</td>\n",
       "      <td>0.0</td>\n",
       "      <td>0.0</td>\n",
       "      <td>0.0</td>\n",
       "      <td>0</td>\n",
       "      <td>1</td>\n",
       "      <td>0</td>\n",
       "    </tr>\n",
       "    <tr>\n",
       "      <th>2</th>\n",
       "      <td>0</td>\n",
       "      <td>tcp</td>\n",
       "      <td>http</td>\n",
       "      <td>SF</td>\n",
       "      <td>219</td>\n",
       "      <td>1337</td>\n",
       "      <td>0</td>\n",
       "      <td>0</td>\n",
       "      <td>0</td>\n",
       "      <td>0</td>\n",
       "      <td>...</td>\n",
       "      <td>0.0</td>\n",
       "      <td>0.03</td>\n",
       "      <td>0.0</td>\n",
       "      <td>0.0</td>\n",
       "      <td>0.0</td>\n",
       "      <td>0.0</td>\n",
       "      <td>0.0</td>\n",
       "      <td>0</td>\n",
       "      <td>1</td>\n",
       "      <td>0</td>\n",
       "    </tr>\n",
       "    <tr>\n",
       "      <th>3</th>\n",
       "      <td>0</td>\n",
       "      <td>tcp</td>\n",
       "      <td>http</td>\n",
       "      <td>SF</td>\n",
       "      <td>217</td>\n",
       "      <td>2032</td>\n",
       "      <td>0</td>\n",
       "      <td>0</td>\n",
       "      <td>0</td>\n",
       "      <td>0</td>\n",
       "      <td>...</td>\n",
       "      <td>0.0</td>\n",
       "      <td>0.02</td>\n",
       "      <td>0.0</td>\n",
       "      <td>0.0</td>\n",
       "      <td>0.0</td>\n",
       "      <td>0.0</td>\n",
       "      <td>0.0</td>\n",
       "      <td>0</td>\n",
       "      <td>1</td>\n",
       "      <td>0</td>\n",
       "    </tr>\n",
       "    <tr>\n",
       "      <th>4</th>\n",
       "      <td>0</td>\n",
       "      <td>tcp</td>\n",
       "      <td>http</td>\n",
       "      <td>SF</td>\n",
       "      <td>217</td>\n",
       "      <td>2032</td>\n",
       "      <td>0</td>\n",
       "      <td>0</td>\n",
       "      <td>0</td>\n",
       "      <td>0</td>\n",
       "      <td>...</td>\n",
       "      <td>0.0</td>\n",
       "      <td>0.02</td>\n",
       "      <td>0.0</td>\n",
       "      <td>0.0</td>\n",
       "      <td>0.0</td>\n",
       "      <td>0.0</td>\n",
       "      <td>0.0</td>\n",
       "      <td>0</td>\n",
       "      <td>1</td>\n",
       "      <td>0</td>\n",
       "    </tr>\n",
       "  </tbody>\n",
       "</table>\n",
       "<p>5 rows × 44 columns</p>\n",
       "</div>"
      ],
      "text/plain": [
       "   duration protocol_type service flag  src_bytes  dst_bytes  land  \\\n",
       "0         0           tcp    http   SF        239        486     0   \n",
       "1         0           tcp    http   SF        235       1337     0   \n",
       "2         0           tcp    http   SF        219       1337     0   \n",
       "3         0           tcp    http   SF        217       2032     0   \n",
       "4         0           tcp    http   SF        217       2032     0   \n",
       "\n",
       "   wrong_fragment  urgent  hot   ...     dst_host_diff_srv_rate  \\\n",
       "0               0       0    0   ...                        0.0   \n",
       "1               0       0    0   ...                        0.0   \n",
       "2               0       0    0   ...                        0.0   \n",
       "3               0       0    0   ...                        0.0   \n",
       "4               0       0    0   ...                        0.0   \n",
       "\n",
       "   dst_host_same_src_port_rate  dst_host_srv_diff_host_rate  \\\n",
       "0                         0.05                          0.0   \n",
       "1                         0.03                          0.0   \n",
       "2                         0.03                          0.0   \n",
       "3                         0.02                          0.0   \n",
       "4                         0.02                          0.0   \n",
       "\n",
       "   dst_host_serror_rate  dst_host_srv_serror_rate  dst_host_rerror_rate  \\\n",
       "0                   0.0                       0.0                   0.0   \n",
       "1                   0.0                       0.0                   0.0   \n",
       "2                   0.0                       0.0                   0.0   \n",
       "3                   0.0                       0.0                   0.0   \n",
       "4                   0.0                       0.0                   0.0   \n",
       "\n",
       "   dst_host_srv_rerror_rate  labels  label_0  label_2  \n",
       "0                       0.0       0        1        0  \n",
       "1                       0.0       0        1        0  \n",
       "2                       0.0       0        1        0  \n",
       "3                       0.0       0        1        0  \n",
       "4                       0.0       0        1        0  \n",
       "\n",
       "[5 rows x 44 columns]"
      ]
     },
     "execution_count": 9,
     "metadata": {},
     "output_type": "execute_result"
    }
   ],
   "source": [
    "combine_dataset.head()"
   ]
  },
  {
   "cell_type": "code",
   "execution_count": null,
   "metadata": {
    "collapsed": true
   },
   "outputs": [],
   "source": [
    "# Service \n",
    "# 共有66个 暂时先去掉\n",
    "# combine_dataset.service.value_counts()\n",
    "# service_dummies = pd.get_dummies(combine_dataset.service, prefix='service')"
   ]
  },
  {
   "cell_type": "code",
   "execution_count": 10,
   "metadata": {
    "collapsed": true
   },
   "outputs": [],
   "source": [
    "# flag\n",
    "print combine_dataset.flag.value_counts()\n",
    "flag_dummies = pd.get_dummies(combine_dataset.flag, prefix='flag')"
   ]
  },
  {
   "cell_type": "code",
   "execution_count": null,
   "metadata": {
    "collapsed": true
   },
   "outputs": [],
   "source": [
    "# src_bytes & dst_bytes 去中心化\n",
    "\n",
    "# Method 1: 去中心化\n",
    "combine_dataset['src_bytes_norm'] = combine_dataset.src_bytes - combine_dataset.src_bytes.mean()\n",
    "combine_dataset['dst_bytes_norm'] = combine_dataset.dst_bytes - combine_dataset.dst_bytes.mean()\n",
    "\n",
    "# Method 2: 规范化\n",
    "# max1 = combine_dataset.src_bytes.max(); min1 = combine_dataset.src_bytes.min();\n",
    "# max2 = combine_dataset.dst_bytes.max(); min2 = combine_dataset.dst_bytes.min();\n",
    "# combine_dataset['src_bytes_norm'] = (combine_dataset.src_bytes - min1) / float(max1 - min1)\n",
    "# combine_dataset['dst_bytes_norm'] = (combine_dataset.dst_bytes - min2) / float(max2 - min2)"
   ]
  },
  {
   "cell_type": "code",
   "execution_count": 11,
   "metadata": {
    "collapsed": true
   },
   "outputs": [],
   "source": [
    "# 组合\n",
    "# 各个独热编码 protocal_type, flag , 暂时去掉 service_dummies\n",
    "combine_dataset = pd.concat([combine_dataset, protocal_type_dummies, flag_dummies], axis=1)\n",
    "\n",
    "# 删除不用的属性\n",
    "combine_dataset = combine_dataset.drop(['protocol_type', 'service', 'flag', 'src_bytes', 'dst_bytes','labels'], axis=1)\n",
    "combine_dataset = combine_dataset.astype('float')"
   ]
  },
  {
   "cell_type": "markdown",
   "metadata": {},
   "source": [
    "## preprocessing labels"
   ]
  },
  {
   "cell_type": "code",
   "execution_count": 13,
   "metadata": {
    "collapsed": true
   },
   "outputs": [],
   "source": [
    "#分离出Train Valid Test \n",
    "sub_train_dataset = combine_dataset.iloc[:train_dataset_size, :].sample(frac=1)\n",
    "sub_valid_dataset = combine_dataset.iloc[train_dataset_size: train_dataset_size+valid_dataset_size, :].sample(frac=1)\n",
    "sub_test_dataset = combine_dataset.iloc[train_dataset_size+valid_dataset_size:, :].sample(frac=1)\n",
    "for i in range(4):\n",
    "    sub_train_dataset.sample(frac=1, replace=True)\n",
    "    sub_valid_dataset.sample(frac=1, replace=True)\n",
    "    sub_test_dataset.sample(frac=1, replace=True)"
   ]
  },
  {
   "cell_type": "code",
   "execution_count": 14,
   "metadata": {},
   "outputs": [
    {
     "name": "stdout",
     "output_type": "stream",
     "text": [
      "Sub Trian:  (474073, 117) (474073, 2)\n",
      "Sub Valid:  (14662, 117) (14662, 2)\n",
      "Sub Test :  (290445, 117) (290445, 2)\n"
     ]
    }
   ],
   "source": [
    "# 分离出 label\n",
    "sub_train_labels = sub_train_dataset[['label_0', 'label_2']] # Normal DOS\n",
    "sub_valid_labels = sub_valid_dataset[['label_0', 'label_2']]\n",
    "sub_test_labels = sub_test_dataset[['label_0', 'label_2']]\n",
    "sub_train_dataset.drop(['label_0',  'label_2'], axis=1, inplace=True)\n",
    "sub_valid_dataset.drop(['label_0', 'label_2'], axis=1, inplace=True)\n",
    "sub_test_dataset.drop(['label_0', 'label_2'], axis=1, inplace=True)\n",
    "\n",
    "# sub_train_labels = sub_train_dataset[['label_0', 'label_1', 'label_2', 'label_3', 'label_4']]\n",
    "# sub_test_labels = sub_test_dataset[['label_0', 'label_1', 'label_2', 'label_3', 'label_4']]\n",
    "# sub_train_dataset.drop(['label_0', 'label_1', 'label_2', 'label_3', 'label_4'], axis=1, inplace=True)\n",
    "# sub_test_dataset.drop(['label_0', 'label_1', 'label_2', 'label_3', 'label_4'], axis=1, inplace=True)\n",
    "\n",
    "print 'Sub Trian: ', sub_train_dataset.shape, sub_train_labels.shape\n",
    "print 'Sub Valid: ', sub_valid_dataset.shape, sub_valid_labels.shape\n",
    "print 'Sub Test : ', sub_test_dataset.shape, sub_test_labels.shape"
   ]
  },
  {
   "cell_type": "code",
   "execution_count": 15,
   "metadata": {
    "collapsed": true
   },
   "outputs": [],
   "source": [
    "data = {\n",
    "    'X_train': sub_train_dataset.values[:,:],\n",
    "    'y_train': sub_train_labels.values[:,:],\n",
    "    'X_val': sub_valid_dataset.as_matrix(),\n",
    "    'y_val': sub_valid_labels.as_matrix(),\n",
    "    'X_test': sub_test_dataset.as_matrix(),\n",
    "    'y_test': sub_test_labels.as_matrix()\n",
    "}\n",
    "for k, v in data.iteritems():\n",
    "    print k, v.shape"
   ]
  },
  {
   "cell_type": "code",
   "execution_count": null,
   "metadata": {
    "collapsed": true
   },
   "outputs": [],
   "source": [
    "input_dim = data['X_train'].shape[1]\n",
    "output_dim = data['y_train'].shape[1]\n",
    "model = MLP(data, input_dim, [512],output_dim,\n",
    "            learning_rate=1e-5, #1e-6\n",
    "            dropout_prob=0.0,\n",
    "            l2_strength=0.0,\n",
    "            batch_size=200,\n",
    "            num_epochs=15,\n",
    "            print_every=500,\n",
    "            verbose=True)"
   ]
  },
  {
   "cell_type": "code",
   "execution_count": null,
   "metadata": {
    "collapsed": true
   },
   "outputs": [],
   "source": [
    "model.train()"
   ]
  },
  {
   "cell_type": "code",
   "execution_count": null,
   "metadata": {
    "collapsed": true
   },
   "outputs": [],
   "source": [
    "fig = plt.figure()\n",
    "ax = fig.add_subplot(1,1,1)\n",
    "ax.plot(range(len(model.loss_history)), model.loss_history, '-o')\n",
    "plt.plot()"
   ]
  },
  {
   "cell_type": "code",
   "execution_count": null,
   "metadata": {
    "collapsed": true
   },
   "outputs": [],
   "source": [
    "plt_len = len(model.train_acc_history)\n",
    "print plt_len\n",
    "print np.mean(model.train_acc_history), np.mean(model.val_acc_history), np.mean(model.test_acc_history)\n",
    "plt.subplot(1,1,1)\n",
    "plt.title('Accuracy')\n",
    "plt.plot(model.train_acc_history, '-o', label='train')\n",
    "plt.plot(model.test_acc_history, '-o', label='test')\n",
    "plt.plot(model.val_acc_history, '-o', label='valid')\n",
    "# plt.plot([90] * plt_len, 'k--')\n",
    "plt.xlabel('Iteration/300')\n",
    "plt.legend(loc='lower right')\n",
    "plt.gcf().set_size_inches(12,8)\n",
    "plt.show()"
   ]
  },
  {
   "cell_type": "markdown",
   "metadata": {},
   "source": [
    "## model1: MLP"
   ]
  },
  {
   "cell_type": "code",
   "execution_count": 16,
   "metadata": {
    "collapsed": true
   },
   "outputs": [],
   "source": [
    "def accuracy(predictions, labels):\n",
    "  return (100.0 * np.sum(np.argmax(predictions, 1) == np.argmax(labels, 1))\n",
    "          / predictions.shape[0])"
   ]
  },
  {
   "cell_type": "code",
   "execution_count": 55,
   "metadata": {
    "collapsed": true
   },
   "outputs": [],
   "source": [
    "batch_size = 200\n",
    "feature_size = 117\n",
    "num_labels = 2\n",
    "hidden_size = 512\n",
    "hidden_size2 = 128\n",
    "dropout = True\n",
    "dropout_rate = 0.5\n",
    "hidden_dim = [512, 128]\n",
    "\n",
    "graph = tf.Graph()\n",
    "with graph.as_default():\n",
    "\n",
    "  # Input data. For the training data, we use a placeholder that will be fed\n",
    "  # at run time with a training minibatch.\n",
    "  tf_train_dataset = tf.placeholder(tf.float32,\n",
    "                                    shape=(batch_size, feature_size))\n",
    "  tf_train_labels = tf.placeholder(tf.float32, shape=(batch_size, num_labels))\n",
    "  tf_valid_dataset = tf.constant(sub_valid_dataset)\n",
    "  tf_test_dataset = tf.constant(sub_test_dataset.values[:,:])\n",
    "  \n",
    "  # Variables.\n",
    "  hidden_weights = tf.Variable(\n",
    "    tf.truncated_normal([feature_size, hidden_size]))\n",
    "  hidden_weights2 = tf.Variable(tf.truncated_normal([hidden_size, hidden_size2]))\n",
    "  output_weights = tf.Variable(\n",
    "    tf.truncated_normal([hidden_size2, num_labels]))\n",
    "\n",
    "  weights = [hidden_weights, hidden_weights2, output_weights]\n",
    "  hidden_biases = tf.Variable(tf.zeros([hidden_size]))\n",
    "  hidden_biases2 = tf.Variable(tf.zeros([hidden_size2]))\n",
    "  output_biases = tf.Variable(tf.zeros([num_labels]))\n",
    "  biases = [hidden_biases, hidden_biases2, output_biases]\n",
    "  \n",
    "  # Training computation.\n",
    "  hidden_layer = tf.add(tf.matmul(tf_train_dataset, tf.cast(weights[0], tf.float32)), biases[0])\n",
    "  hidden_layer = tf.nn.relu(hidden_layer)\n",
    "  if dropout:\n",
    "      hidden_layer = tf.nn.dropout(hidden_layer, dropout_rate)\n",
    "  hidden_layer2 = tf.add(tf.matmul(hidden_layer, tf.cast(weights[1], tf.float32)), biases[1])\n",
    "  hidden_layer2 = tf.nn.relu(hidden_layer2)\n",
    "  if dropout:\n",
    "      hidden_layer2 = tf.nn.dropout(hidden_layer2, dropout_rate)\n",
    "  logits = tf.add(tf.matmul(hidden_layer2, tf.cast(weights[2], tf.float32)), biases[2])\n",
    "  loss = tf.reduce_mean(\n",
    "    tf.nn.softmax_cross_entropy_with_logits(logits=logits, labels=tf_train_labels))\n",
    "  l2Loss = tf.nn.l2_loss(weights[0]) + tf.nn.l2_loss(weights[1]) + tf.nn.l2_loss(weights[2])\n",
    "  loss = loss + 1*l2Loss #23 10\n",
    "  # Optimizer.\n",
    "  optimizer = tf.train.GradientDescentOptimizer(1e-6).minimize(loss)#5e-3 1e-3 5e-5\n",
    "  \n",
    "  # Predictions for the training, validation, and test data.\n",
    "  train_prediction = tf.nn.softmax(logits)\n",
    "    \n",
    "  # ValidPrediction\n",
    "  val_a = tf.add(tf.matmul(tf.cast(tf_valid_dataset, tf.float32), weights[0]), biases[0])\n",
    "  val_hidden = tf.nn.relu(val_a)\n",
    "  val_a2 = tf.add(tf.matmul(val_hidden,weights[1]), biases[1])\n",
    "  val_hidden2 = tf.nn.relu(val_a2)\n",
    "  val_logits = tf.matmul(val_hidden2, weights[2]) + biases[2]\n",
    "  valid_prediction = tf.nn.softmax(val_logits)\n",
    "\n",
    "  # TestPrediction\n",
    "  test_a = tf.add(tf.matmul(tf.cast(tf_test_dataset, tf.float32), weights[0]), biases[0])\n",
    "  test_hidden = tf.nn.relu(test_a)\n",
    "  test_a2 = tf.add(tf.matmul(tf.cast(test_hidden, tf.float32), weights[1]), biases[1])\n",
    "  test_hidden2 = tf.nn.relu(test_a2)\n",
    "  test_logits = tf.add(tf.matmul(tf.cast(test_hidden2, tf.float32), weights[2]), biases[2])\n",
    "  test_prediction = tf.nn.softmax(test_logits)"
   ]
  },
  {
   "cell_type": "code",
   "execution_count": 56,
   "metadata": {
    "scrolled": false
   },
   "outputs": [
    {
     "name": "stdout",
     "output_type": "stream",
     "text": [
      "Initialized\n",
      "Minibatch loss at step 0: 70225.734375\n",
      "Minibatch accuracy: 68.5%\n",
      "Validation accuracy: 81.1%\n",
      "Test accuracy: 78.8%\n",
      "Minibatch loss at step 300: 54451.781250\n",
      "Minibatch accuracy: 84.0%\n",
      "Validation accuracy: 98.1%\n",
      "Test accuracy: 96.2%\n",
      "Minibatch loss at step 600: 51842.128906\n",
      "Minibatch accuracy: 92.0%\n",
      "Validation accuracy: 98.4%\n",
      "Test accuracy: 96.3%\n",
      "Minibatch loss at step 900: 49552.613281\n",
      "Minibatch accuracy: 95.0%\n",
      "Validation accuracy: 98.5%\n",
      "Test accuracy: 96.0%\n",
      "Minibatch loss at step 1200: 51316.707031\n",
      "Minibatch accuracy: 90.0%\n",
      "Validation accuracy: 98.5%\n",
      "Test accuracy: 95.7%\n",
      "Minibatch loss at step 1500: 50183.183594\n",
      "Minibatch accuracy: 92.5%\n",
      "Validation accuracy: 98.5%\n",
      "Test accuracy: 95.5%\n",
      "Minibatch loss at step 1800: 49083.167969\n",
      "Minibatch accuracy: 95.0%\n",
      "Validation accuracy: 98.5%\n",
      "Test accuracy: 95.2%\n",
      "Minibatch loss at step 2100: 51195.648438\n",
      "Minibatch accuracy: 94.5%\n",
      "Validation accuracy: 98.5%\n",
      "Test accuracy: 94.9%\n",
      "Minibatch loss at step 2400: 50939.675781\n",
      "Minibatch accuracy: 95.5%\n",
      "Validation accuracy: 98.5%\n",
      "Test accuracy: 94.8%\n",
      "Minibatch loss at step 2700: 48723.183594\n",
      "Minibatch accuracy: 97.5%\n",
      "Validation accuracy: 98.6%\n",
      "Test accuracy: 94.6%\n",
      "Minibatch loss at step 3000: 49188.574219\n",
      "Minibatch accuracy: 97.5%\n",
      "Validation accuracy: 98.6%\n",
      "Test accuracy: 94.6%\n",
      "Minibatch loss at step 3300: 49957.449219\n",
      "Minibatch accuracy: 95.0%\n",
      "Validation accuracy: 98.5%\n",
      "Test accuracy: 94.5%\n",
      "Minibatch loss at step 3600: 48537.648438\n",
      "Minibatch accuracy: 98.0%\n",
      "Validation accuracy: 98.6%\n",
      "Test accuracy: 94.5%\n",
      "Minibatch loss at step 3900: 49339.652344\n",
      "Minibatch accuracy: 95.0%\n",
      "Validation accuracy: 98.6%\n",
      "Test accuracy: 94.1%\n",
      "Minibatch loss at step 4200: 49741.355469\n",
      "Minibatch accuracy: 95.5%\n",
      "Validation accuracy: 98.6%\n",
      "Test accuracy: 94.3%\n",
      "Minibatch loss at step 4500: 49600.523438\n",
      "Minibatch accuracy: 96.0%\n",
      "Validation accuracy: 98.6%\n",
      "Test accuracy: 94.1%\n",
      "Minibatch loss at step 4800: 49228.175781\n",
      "Minibatch accuracy: 93.5%\n",
      "Validation accuracy: 98.6%\n",
      "Test accuracy: 94.1%\n",
      "Minibatch loss at step 5100: 48566.687500\n",
      "Minibatch accuracy: 98.0%\n",
      "Validation accuracy: 98.6%\n",
      "Test accuracy: 93.8%\n",
      "Minibatch loss at step 5400: 49113.144531\n",
      "Minibatch accuracy: 94.0%\n",
      "Validation accuracy: 98.6%\n",
      "Test accuracy: 93.8%\n",
      "Minibatch loss at step 5700: 48708.421875\n",
      "Minibatch accuracy: 97.5%\n",
      "Validation accuracy: 98.6%\n",
      "Test accuracy: 93.8%\n"
     ]
    },
    {
     "ename": "KeyboardInterrupt",
     "evalue": "",
     "output_type": "error",
     "traceback": [
      "\u001b[0;31m---------------------------------------------------------------------------\u001b[0m",
      "\u001b[0;31mKeyboardInterrupt\u001b[0m                         Traceback (most recent call last)",
      "\u001b[0;32m<ipython-input-56-cfbba9783866>\u001b[0m in \u001b[0;36m<module>\u001b[0;34m()\u001b[0m\n\u001b[1;32m     21\u001b[0m     \u001b[0mfeed_dict\u001b[0m \u001b[0;34m=\u001b[0m \u001b[0;34m{\u001b[0m\u001b[0mtf_train_dataset\u001b[0m \u001b[0;34m:\u001b[0m \u001b[0mbatch_data\u001b[0m\u001b[0;34m,\u001b[0m \u001b[0mtf_train_labels\u001b[0m \u001b[0;34m:\u001b[0m \u001b[0mbatch_labels\u001b[0m\u001b[0;34m}\u001b[0m\u001b[0;34m\u001b[0m\u001b[0m\n\u001b[1;32m     22\u001b[0m     _, l, predictions = session.run(\n\u001b[0;32m---> 23\u001b[0;31m       [optimizer, loss, train_prediction], feed_dict=feed_dict)\n\u001b[0m\u001b[1;32m     24\u001b[0m \u001b[0;34m\u001b[0m\u001b[0m\n\u001b[1;32m     25\u001b[0m     \u001b[0;31m#record\u001b[0m\u001b[0;34m\u001b[0m\u001b[0;34m\u001b[0m\u001b[0m\n",
      "\u001b[0;32m/home/ninglee/.local/lib/python2.7/site-packages/tensorflow/python/client/session.pyc\u001b[0m in \u001b[0;36mrun\u001b[0;34m(self, fetches, feed_dict, options, run_metadata)\u001b[0m\n\u001b[1;32m    787\u001b[0m     \u001b[0;32mtry\u001b[0m\u001b[0;34m:\u001b[0m\u001b[0;34m\u001b[0m\u001b[0m\n\u001b[1;32m    788\u001b[0m       result = self._run(None, fetches, feed_dict, options_ptr,\n\u001b[0;32m--> 789\u001b[0;31m                          run_metadata_ptr)\n\u001b[0m\u001b[1;32m    790\u001b[0m       \u001b[0;32mif\u001b[0m \u001b[0mrun_metadata\u001b[0m\u001b[0;34m:\u001b[0m\u001b[0;34m\u001b[0m\u001b[0m\n\u001b[1;32m    791\u001b[0m         \u001b[0mproto_data\u001b[0m \u001b[0;34m=\u001b[0m \u001b[0mtf_session\u001b[0m\u001b[0;34m.\u001b[0m\u001b[0mTF_GetBuffer\u001b[0m\u001b[0;34m(\u001b[0m\u001b[0mrun_metadata_ptr\u001b[0m\u001b[0;34m)\u001b[0m\u001b[0;34m\u001b[0m\u001b[0m\n",
      "\u001b[0;32m/home/ninglee/.local/lib/python2.7/site-packages/tensorflow/python/client/session.pyc\u001b[0m in \u001b[0;36m_run\u001b[0;34m(self, handle, fetches, feed_dict, options, run_metadata)\u001b[0m\n\u001b[1;32m    995\u001b[0m     \u001b[0;32mif\u001b[0m \u001b[0mfinal_fetches\u001b[0m \u001b[0;32mor\u001b[0m \u001b[0mfinal_targets\u001b[0m\u001b[0;34m:\u001b[0m\u001b[0;34m\u001b[0m\u001b[0m\n\u001b[1;32m    996\u001b[0m       results = self._do_run(handle, final_targets, final_fetches,\n\u001b[0;32m--> 997\u001b[0;31m                              feed_dict_string, options, run_metadata)\n\u001b[0m\u001b[1;32m    998\u001b[0m     \u001b[0;32melse\u001b[0m\u001b[0;34m:\u001b[0m\u001b[0;34m\u001b[0m\u001b[0m\n\u001b[1;32m    999\u001b[0m       \u001b[0mresults\u001b[0m \u001b[0;34m=\u001b[0m \u001b[0;34m[\u001b[0m\u001b[0;34m]\u001b[0m\u001b[0;34m\u001b[0m\u001b[0m\n",
      "\u001b[0;32m/home/ninglee/.local/lib/python2.7/site-packages/tensorflow/python/client/session.pyc\u001b[0m in \u001b[0;36m_do_run\u001b[0;34m(self, handle, target_list, fetch_list, feed_dict, options, run_metadata)\u001b[0m\n\u001b[1;32m   1130\u001b[0m     \u001b[0;32mif\u001b[0m \u001b[0mhandle\u001b[0m \u001b[0;32mis\u001b[0m \u001b[0mNone\u001b[0m\u001b[0;34m:\u001b[0m\u001b[0;34m\u001b[0m\u001b[0m\n\u001b[1;32m   1131\u001b[0m       return self._do_call(_run_fn, self._session, feed_dict, fetch_list,\n\u001b[0;32m-> 1132\u001b[0;31m                            target_list, options, run_metadata)\n\u001b[0m\u001b[1;32m   1133\u001b[0m     \u001b[0;32melse\u001b[0m\u001b[0;34m:\u001b[0m\u001b[0;34m\u001b[0m\u001b[0m\n\u001b[1;32m   1134\u001b[0m       return self._do_call(_prun_fn, self._session, handle, feed_dict,\n",
      "\u001b[0;32m/home/ninglee/.local/lib/python2.7/site-packages/tensorflow/python/client/session.pyc\u001b[0m in \u001b[0;36m_do_call\u001b[0;34m(self, fn, *args)\u001b[0m\n\u001b[1;32m   1137\u001b[0m   \u001b[0;32mdef\u001b[0m \u001b[0m_do_call\u001b[0m\u001b[0;34m(\u001b[0m\u001b[0mself\u001b[0m\u001b[0;34m,\u001b[0m \u001b[0mfn\u001b[0m\u001b[0;34m,\u001b[0m \u001b[0;34m*\u001b[0m\u001b[0margs\u001b[0m\u001b[0;34m)\u001b[0m\u001b[0;34m:\u001b[0m\u001b[0;34m\u001b[0m\u001b[0m\n\u001b[1;32m   1138\u001b[0m     \u001b[0;32mtry\u001b[0m\u001b[0;34m:\u001b[0m\u001b[0;34m\u001b[0m\u001b[0m\n\u001b[0;32m-> 1139\u001b[0;31m       \u001b[0;32mreturn\u001b[0m \u001b[0mfn\u001b[0m\u001b[0;34m(\u001b[0m\u001b[0;34m*\u001b[0m\u001b[0margs\u001b[0m\u001b[0;34m)\u001b[0m\u001b[0;34m\u001b[0m\u001b[0m\n\u001b[0m\u001b[1;32m   1140\u001b[0m     \u001b[0;32mexcept\u001b[0m \u001b[0merrors\u001b[0m\u001b[0;34m.\u001b[0m\u001b[0mOpError\u001b[0m \u001b[0;32mas\u001b[0m \u001b[0me\u001b[0m\u001b[0;34m:\u001b[0m\u001b[0;34m\u001b[0m\u001b[0m\n\u001b[1;32m   1141\u001b[0m       \u001b[0mmessage\u001b[0m \u001b[0;34m=\u001b[0m \u001b[0mcompat\u001b[0m\u001b[0;34m.\u001b[0m\u001b[0mas_text\u001b[0m\u001b[0;34m(\u001b[0m\u001b[0me\u001b[0m\u001b[0;34m.\u001b[0m\u001b[0mmessage\u001b[0m\u001b[0;34m)\u001b[0m\u001b[0;34m\u001b[0m\u001b[0m\n",
      "\u001b[0;32m/home/ninglee/.local/lib/python2.7/site-packages/tensorflow/python/client/session.pyc\u001b[0m in \u001b[0;36m_run_fn\u001b[0;34m(session, feed_dict, fetch_list, target_list, options, run_metadata)\u001b[0m\n\u001b[1;32m   1119\u001b[0m         return tf_session.TF_Run(session, options,\n\u001b[1;32m   1120\u001b[0m                                  \u001b[0mfeed_dict\u001b[0m\u001b[0;34m,\u001b[0m \u001b[0mfetch_list\u001b[0m\u001b[0;34m,\u001b[0m \u001b[0mtarget_list\u001b[0m\u001b[0;34m,\u001b[0m\u001b[0;34m\u001b[0m\u001b[0m\n\u001b[0;32m-> 1121\u001b[0;31m                                  status, run_metadata)\n\u001b[0m\u001b[1;32m   1122\u001b[0m \u001b[0;34m\u001b[0m\u001b[0m\n\u001b[1;32m   1123\u001b[0m     \u001b[0;32mdef\u001b[0m \u001b[0m_prun_fn\u001b[0m\u001b[0;34m(\u001b[0m\u001b[0msession\u001b[0m\u001b[0;34m,\u001b[0m \u001b[0mhandle\u001b[0m\u001b[0;34m,\u001b[0m \u001b[0mfeed_dict\u001b[0m\u001b[0;34m,\u001b[0m \u001b[0mfetch_list\u001b[0m\u001b[0;34m)\u001b[0m\u001b[0;34m:\u001b[0m\u001b[0;34m\u001b[0m\u001b[0m\n",
      "\u001b[0;31mKeyboardInterrupt\u001b[0m: "
     ]
    }
   ],
   "source": [
    "num_steps = 102000\n",
    "loss_history = []\n",
    "train_acc_history = []\n",
    "valid_acc_history = []\n",
    "test_acc_history = []\n",
    "last_test_pred = None\n",
    "with tf.Session(graph=graph) as session:\n",
    "  #tf.initialize_all_variables().run()\n",
    "  tf.global_variables_initializer().run()\n",
    "  print(\"Initialized\")\n",
    "  for step in range(num_steps):\n",
    "    # Pick an offset within the training data, which has been randomized.\n",
    "    # Note: we could use better randomization across epochs.\n",
    "    offset = (step * batch_size) % (sub_train_labels.shape[0] - batch_size)\n",
    "    # Generate a minibatch.\n",
    "    batch_data = sub_train_dataset.iloc[offset:(offset + batch_size), :].values[:,:]\n",
    "    batch_labels = sub_train_labels.iloc[offset:(offset + batch_size), :].values[:,:]\n",
    "    # Prepare a dictionary telling the session where to feed the minibatch.\n",
    "    # The key of the dictionary is the placeholder node of the graph to be fed,\n",
    "    # and the value is the numpy array to feed to it.\n",
    "    feed_dict = {tf_train_dataset : batch_data, tf_train_labels : batch_labels}\n",
    "    _, l, predictions = session.run(\n",
    "      [optimizer, loss, train_prediction], feed_dict=feed_dict)\n",
    "    \n",
    "    #record\n",
    "    first_it = (step == 0)\n",
    "    last_it = (step == num_steps - 1)\n",
    "    loss_history.append(l);\n",
    "    if first_it or last_it or (step % 300 == 0) or (step < 0):\n",
    "        train_acc_history.append(accuracy(predictions, batch_labels))\n",
    "        valid_acc_history.append(accuracy(valid_prediction.eval(), sub_valid_labels.as_matrix()))\n",
    "        test_acc_history.append(accuracy(test_prediction.eval(), sub_test_labels.as_matrix()))\n",
    "    if last_it:\n",
    "        last_test_pred = test_prediction.eval()\n",
    "    if (step % 300 == 0):\n",
    "      print(\"Minibatch loss at step %d: %f\" % (step, l))\n",
    "      print(\"Minibatch accuracy: %.1f%%\" % accuracy(predictions, batch_labels))\n",
    "      print(\"Validation accuracy: %.1f%%\" % accuracy(\n",
    "        valid_prediction.eval(), sub_valid_labels.as_matrix()))\n",
    "      print(\"Test accuracy: %.1f%%\" % accuracy(test_prediction.eval(), sub_test_labels.as_matrix()))"
   ]
  },
  {
   "cell_type": "code",
   "execution_count": null,
   "metadata": {
    "collapsed": true
   },
   "outputs": [],
   "source": []
  },
  {
   "cell_type": "code",
   "execution_count": 48,
   "metadata": {
    "scrolled": false
   },
   "outputs": [
    {
     "data": {
      "image/png": "[encoded data removed]",
      "text/plain": [
       "<matplotlib.figure.Figure at 0x7ff28120e2d0>"
      ]
     },
     "metadata": {},
     "output_type": "display_data"
    }
   ],
   "source": [
    "# plot the loss\n",
    "plt.subplot(2,1,1)\n",
    "plt.title('Training Batch Loss')\n",
    "plt.plot(loss_history, 'o')\n",
    "plt.xlabel('Iteration')\n",
    "\n",
    "plt.subplot(2,1,2)\n",
    "plt.title('Accuracy')\n",
    "plt.plot(train_acc_history, '-o', label='train')\n",
    "plt.plot(test_acc_history, '-o', label='test')\n",
    "plt.plot(valid_acc_history, '-o', label='valid')\n",
    "plt.plot([90] * len(train_acc_history), 'k--')\n",
    "plt.xlabel('Iteration/300')\n",
    "plt.legend(loc='lower right')\n",
    "plt.gcf().set_size_inches(15,13)\n",
    "plt.show()\n"
   ]
  },
  {
   "cell_type": "code",
   "execution_count": 156,
   "metadata": {
    "collapsed": true
   },
   "outputs": [],
   "source": [
    "#统计每个列别的precision TP/(TP + FN)检测率   Recall: TP/(TP + FP)对应误报率\n",
    "\n",
    "#negative对应的是正常的，positive对应的是attack.以此转换成二分类问题\n",
    "def precission_recall(predictions, actuals, negative=[0], positive=[1,2,3,4]):\n",
    "    pred_labels = np.argmax(predictions,axis=1)\n",
    "    actual_labels = np.argmax(actuals, axis=1)\n",
    "    TP = 0.0\n",
    "    TN = 0.0\n",
    "    FP = 0.0\n",
    "    FN = 0.0\n",
    "    test_size = predictions.shape[0]\n",
    "    for i in xrange(test_size):\n",
    "        if pred_labels[i] in positive:\n",
    "            if actual_labels[i] in positive:\n",
    "                TP += 1.0\n",
    "            else:\n",
    "                FP += 1.0\n",
    "        else:\n",
    "            if actual_labels[i] in negative:\n",
    "                TN += 1.0\n",
    "            else:\n",
    "                FN += 1.0\n",
    "    if TP + FN == 0:\n",
    "        print 'There is no positive in test'\n",
    "        precission = -1\n",
    "    else:\n",
    "        precission = TP / (TP + FN)\n",
    "    if TP + FP == 0:\n",
    "        print 'There is no positive in the prediction'\n",
    "        recall = -1\n",
    "    else:\n",
    "        recall = TP / (TP + FP)\n",
    "    return precission, recall"
   ]
  },
  {
   "cell_type": "code",
   "execution_count": 157,
   "metadata": {},
   "outputs": [
    {
     "name": "stdout",
     "output_type": "stream",
     "text": [
      "(290445,) (290445,)\n",
      "检测率: 96.63%\n",
      "误报率： 1.28%\n"
     ]
    }
   ],
   "source": [
    "#normal: 0 PROBE:1 DOS:2 U2R:3 R2L:4 Positive:1-4攻击； Negative:0 正常；\n",
    "\n",
    "last_test_pred_idx = np.argmax(last_test_pred, axis=1)\n",
    "sub_test_idx = np.argmax(sub_test_labels.values[::],axis=1)\n",
    "print last_test_pred_idx.shape, sub_test_idx.shape\n",
    "\n",
    "precission, recall = precission_recall(last_test_pred, sub_test_labels.values[::], negative=[0], positive=[1])\n",
    "\n",
    "print '检测率: %.2f%%' % (precission * 100)\n",
    "print '误报率： %.2f%%' % (100 - recall * 100)"
   ]
  },
  {
   "cell_type": "code",
   "execution_count": 158,
   "metadata": {},
   "outputs": [
    {
     "name": "stdout",
     "output_type": "stream",
     "text": [
      "Test\n",
      "290445\n",
      "0: 60592\n",
      "2: 229853\n"
     ]
    }
   ],
   "source": [
    "print 'Test'\n",
    "print len(sub_test_labels)\n",
    "print '0:', np.sum(sub_test_labels.label_0 == 1)\n",
    "# print '1:', np.sum(sub_test_labels.label_1 == 1)\n",
    "print '2:', np.sum(sub_test_labels.label_2 == 1)\n",
    "# print '3:', np.sum(sub_test_labels.label_3 == 1)\n",
    "# print '4:', np.sum(sub_test_labels.label_4 == 1)"
   ]
  },
  {
   "cell_type": "code",
   "execution_count": 159,
   "metadata": {},
   "outputs": [
    {
     "name": "stdout",
     "output_type": "stream",
     "text": [
      "Prediction\n",
      "tot: 290445\n",
      "0: 65452\n",
      "1: 224993\n"
     ]
    }
   ],
   "source": [
    "pred = np.argmax(last_test_pred, axis=1)\n",
    "print 'Prediction'\n",
    "print 'tot:', pred.shape[0]\n",
    "print '0:', pred[pred==0].shape[0]\n",
    "print '1:', pred[pred==1].shape[0]\n",
    "# print '2:', pred[pred==2].shape[0]\n",
    "# print '3:', pred[pred==3].shape[0]\n",
    "# print '4:', pred[pred==4].shape[0]"
   ]
  },
  {
   "cell_type": "code",
   "execution_count": null,
   "metadata": {
    "collapsed": true
   },
   "outputs": [],
   "source": []
  }
 ],
 "metadata": {
  "colab": {
   "default_view": {},
   "name": "4_convolutions.ipynb",
   "provenance": [],
   "version": "0.3.2",
   "views": {}
  },
  "kernelspec": {
   "display_name": "Python 2",
   "language": "python",
   "name": "python2"
  },
  "language_info": {
   "codemirror_mode": {
    "name": "ipython",
    "version": 2
   },
   "file_extension": ".py",
   "mimetype": "text/x-python",
   "name": "python",
   "nbconvert_exporter": "python",
   "pygments_lexer": "ipython2",
   "version": "2.7.13"
  },
  "toc": {
   "colors": {
    "hover_highlight": "#DAA520",
    "navigate_num": "#000000",
    "navigate_text": "#333333",
    "running_highlight": "#FF0000",
    "selected_highlight": "#FFD700",
    "sidebar_border": "#EEEEEE",
    "wrapper_background": "#FFFFFF"
   },
   "moveMenuLeft": true,
   "nav_menu": {
    "height": "86px",
    "width": "252px"
   },
   "navigate_menu": true,
   "number_sections": true,
   "sideBar": true,
   "threshold": 4,
   "toc_cell": false,
   "toc_section_display": "block",
   "toc_window_display": false,
   "widenNotebook": false
  }
 },
 "nbformat": 4,
 "nbformat_minor": 1
}
