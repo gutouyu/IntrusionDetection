{
 "cells": [
  {
   "cell_type": "markdown",
   "metadata": {
    "colab_type": "text",
    "id": "4embtkV0pNxM"
   },
   "source": [
    "# Deep Learning\n",
    "\n",
    "## preprocessing training dataset"
   ]
  },
  {
   "cell_type": "code",
   "execution_count": 1,
   "metadata": {
    "collapsed": true
   },
   "outputs": [],
   "source": [
    "import os\n",
    "import numpy as np\n",
    "import tensorflow as tf\n",
    "import pandas as pd\n",
    "import matplotlib.pyplot as plt\n",
    "from MLP import MLP\n",
    "\n",
    "%matplotlib inline\n",
    "plt.rcParams['figure.figsize'] = (10.0, 8.0) # set default size of plots\n",
    "plt.rcParams['image.interpolation'] = 'nearest'\n",
    "plt.rcParams['image.cmap'] = 'gray'\n",
    "%load_ext autoreload\n",
    "%autoreload 2"
   ]
  },
  {
   "cell_type": "code",
   "execution_count": 2,
   "metadata": {
    "collapsed": true
   },
   "outputs": [],
   "source": [
    "input_file_dir = \"../datasets\"\n",
    "train_file_name = \"kddcup.data_10_percent.txt\"\n",
    "test_file_name = \"corrected.txt\"\n",
    "header_file_name = \"header.txt\"\n",
    "train_files = os.path.join(input_file_dir, train_file_name)\n",
    "test_files = os.path.join(input_file_dir, test_file_name)\n",
    "header_files = os.path.join(input_file_dir, header_file_name)\n",
    "with open(header_files, 'r') as f:\n",
    "    header = f.readline().strip().split(',')\n",
    "train_dataset = pd.read_csv(train_files)\n",
    "test_dataset = pd.read_csv(test_files)\n",
    "train_dataset.columns = header\n",
    "test_dataset.columns = header"
   ]
  },
  {
   "cell_type": "code",
   "execution_count": 3,
   "metadata": {
    "collapsed": true
   },
   "outputs": [],
   "source": [
    "def labels_map(label):\n",
    "    label = str(label).split('.')[0]\n",
    "    if label == 'normal':\n",
    "        return 0\n",
    "    if label in ['ipsweep', 'mscan', 'nmap', 'portsweep', 'saint', 'satan']: #PROBE\n",
    "        return 1\n",
    "    if label in ['apache2', 'back', 'land', 'mailbomb', 'neptune', 'pod', 'processtable', 'smurf', 'teardrop', 'udpstorm']: #DOS\n",
    "        return 2\n",
    "    if label in ['buffer_overflow', 'httptunnel', 'loadmodule', 'perl', 'ps', 'rootkit', 'sqlattack', 'xterm']: #U2R\n",
    "        return 3\n",
    "    if label in ['ftp_write', 'guess_passwd', 'imap', 'multihop', 'named', 'phf', 'sendmail', 'snmpgetattack', 'snmpguess', 'spy', 'warezclient', 'warezmaster', 'worm', 'xlock', 'xsnoop']: #R2L\n",
    "        return 4\n",
    "    \n",
    "train_dataset['labels'] = train_dataset['labels'].apply(labels_map)\n",
    "test_dataset['labels'] = test_dataset['labels'].apply(labels_map)"
   ]
  },
  {
   "cell_type": "code",
   "execution_count": 4,
   "metadata": {},
   "outputs": [
    {
     "name": "stdout",
     "output_type": "stream",
     "text": [
      "97276\n",
      "396744\n",
      "60592\n",
      "250436\n"
     ]
    }
   ],
   "source": [
    "mask = train_dataset['labels']==0\n",
    "print len(mask[mask==True]) # normal \n",
    "print len(mask[mask==False]) # DOS\n",
    "\n",
    "mask = test_dataset['labels'] == 0\n",
    "print len(mask[mask==True])\n",
    "print len(mask[mask==False]) #1:4"
   ]
  },
  {
   "cell_type": "code",
   "execution_count": 5,
   "metadata": {
    "collapsed": true
   },
   "outputs": [],
   "source": [
    "#只保留DOS 和 Normal\n",
    "train_dataset = train_dataset[(train_dataset['labels']==0) | (train_dataset['labels']==2)]\n",
    "test_dataset = test_dataset[(test_dataset['labels']==0) | (test_dataset['labels'] == 2)]"
   ]
  },
  {
   "cell_type": "code",
   "execution_count": 6,
   "metadata": {},
   "outputs": [
    {
     "name": "stdout",
     "output_type": "stream",
     "text": [
      "Train dataset:  366551\n",
      "Valid dataset:  122184\n",
      "Test  dataset:  290445\n"
     ]
    }
   ],
   "source": [
    "#获取验证集\n",
    "val_frac=0.25\n",
    "valid_dataset_neg = train_dataset[(train_dataset['labels']==0)].sample(frac=val_frac)\n",
    "valid_dataset_pos = train_dataset[(train_dataset['labels']==2)].sample(frac=val_frac)\n",
    "valid_dataset = pd.concat([valid_dataset_neg, valid_dataset_pos], axis=0)\n",
    "\n",
    "#train_dataset中分离出valid_dataset\n",
    "train_dataset = train_dataset.select(lambda x: x not in valid_dataset.index, axis=0)\n",
    "\n",
    "\n",
    "train_dataset_size = train_dataset.shape[0]\n",
    "valid_dataset_size = valid_dataset.shape[0]\n",
    "test_dataset_size = test_dataset.shape[0]\n",
    "\n",
    "print 'Train dataset: ', train_dataset_size\n",
    "print 'Valid dataset: ', valid_dataset_size\n",
    "print 'Test  dataset: ', test_dataset_size"
   ]
  },
  {
   "cell_type": "code",
   "execution_count": 7,
   "metadata": {
    "collapsed": true
   },
   "outputs": [],
   "source": [
    "combine_dataset = pd.concat([train_dataset,valid_dataset, test_dataset], axis=0)"
   ]
  },
  {
   "cell_type": "code",
   "execution_count": 8,
   "metadata": {
    "collapsed": true
   },
   "outputs": [],
   "source": [
    "# labels独热编码\n",
    "labels_dummies = pd.get_dummies(combine_dataset['labels'], prefix='label')\n",
    "combine_dataset = pd.concat([combine_dataset,labels_dummies], axis=1)"
   ]
  },
  {
   "cell_type": "code",
   "execution_count": 9,
   "metadata": {
    "scrolled": true
   },
   "outputs": [
    {
     "data": {
      "text/html": [
       "<div>\n",
       "<style>\n",
       "    .dataframe thead tr:only-child th {\n",
       "        text-align: right;\n",
       "    }\n",
       "\n",
       "    .dataframe thead th {\n",
       "        text-align: left;\n",
       "    }\n",
       "\n",
       "    .dataframe tbody tr th {\n",
       "        vertical-align: top;\n",
       "    }\n",
       "</style>\n",
       "<table border=\"1\" class=\"dataframe\">\n",
       "  <thead>\n",
       "    <tr style=\"text-align: right;\">\n",
       "      <th></th>\n",
       "      <th>duration</th>\n",
       "      <th>protocol_type</th>\n",
       "      <th>service</th>\n",
       "      <th>flag</th>\n",
       "      <th>src_bytes</th>\n",
       "      <th>dst_bytes</th>\n",
       "      <th>land</th>\n",
       "      <th>wrong_fragment</th>\n",
       "      <th>urgent</th>\n",
       "      <th>hot</th>\n",
       "      <th>...</th>\n",
       "      <th>dst_host_diff_srv_rate</th>\n",
       "      <th>dst_host_same_src_port_rate</th>\n",
       "      <th>dst_host_srv_diff_host_rate</th>\n",
       "      <th>dst_host_serror_rate</th>\n",
       "      <th>dst_host_srv_serror_rate</th>\n",
       "      <th>dst_host_rerror_rate</th>\n",
       "      <th>dst_host_srv_rerror_rate</th>\n",
       "      <th>labels</th>\n",
       "      <th>label_0</th>\n",
       "      <th>label_2</th>\n",
       "    </tr>\n",
       "  </thead>\n",
       "  <tbody>\n",
       "    <tr>\n",
       "      <th>0</th>\n",
       "      <td>0</td>\n",
       "      <td>tcp</td>\n",
       "      <td>http</td>\n",
       "      <td>SF</td>\n",
       "      <td>239</td>\n",
       "      <td>486</td>\n",
       "      <td>0</td>\n",
       "      <td>0</td>\n",
       "      <td>0</td>\n",
       "      <td>0</td>\n",
       "      <td>...</td>\n",
       "      <td>0.0</td>\n",
       "      <td>0.05</td>\n",
       "      <td>0.00</td>\n",
       "      <td>0.0</td>\n",
       "      <td>0.0</td>\n",
       "      <td>0.0</td>\n",
       "      <td>0.0</td>\n",
       "      <td>0</td>\n",
       "      <td>1</td>\n",
       "      <td>0</td>\n",
       "    </tr>\n",
       "    <tr>\n",
       "      <th>2</th>\n",
       "      <td>0</td>\n",
       "      <td>tcp</td>\n",
       "      <td>http</td>\n",
       "      <td>SF</td>\n",
       "      <td>219</td>\n",
       "      <td>1337</td>\n",
       "      <td>0</td>\n",
       "      <td>0</td>\n",
       "      <td>0</td>\n",
       "      <td>0</td>\n",
       "      <td>...</td>\n",
       "      <td>0.0</td>\n",
       "      <td>0.03</td>\n",
       "      <td>0.00</td>\n",
       "      <td>0.0</td>\n",
       "      <td>0.0</td>\n",
       "      <td>0.0</td>\n",
       "      <td>0.0</td>\n",
       "      <td>0</td>\n",
       "      <td>1</td>\n",
       "      <td>0</td>\n",
       "    </tr>\n",
       "    <tr>\n",
       "      <th>3</th>\n",
       "      <td>0</td>\n",
       "      <td>tcp</td>\n",
       "      <td>http</td>\n",
       "      <td>SF</td>\n",
       "      <td>217</td>\n",
       "      <td>2032</td>\n",
       "      <td>0</td>\n",
       "      <td>0</td>\n",
       "      <td>0</td>\n",
       "      <td>0</td>\n",
       "      <td>...</td>\n",
       "      <td>0.0</td>\n",
       "      <td>0.02</td>\n",
       "      <td>0.00</td>\n",
       "      <td>0.0</td>\n",
       "      <td>0.0</td>\n",
       "      <td>0.0</td>\n",
       "      <td>0.0</td>\n",
       "      <td>0</td>\n",
       "      <td>1</td>\n",
       "      <td>0</td>\n",
       "    </tr>\n",
       "    <tr>\n",
       "      <th>4</th>\n",
       "      <td>0</td>\n",
       "      <td>tcp</td>\n",
       "      <td>http</td>\n",
       "      <td>SF</td>\n",
       "      <td>217</td>\n",
       "      <td>2032</td>\n",
       "      <td>0</td>\n",
       "      <td>0</td>\n",
       "      <td>0</td>\n",
       "      <td>0</td>\n",
       "      <td>...</td>\n",
       "      <td>0.0</td>\n",
       "      <td>0.02</td>\n",
       "      <td>0.00</td>\n",
       "      <td>0.0</td>\n",
       "      <td>0.0</td>\n",
       "      <td>0.0</td>\n",
       "      <td>0.0</td>\n",
       "      <td>0</td>\n",
       "      <td>1</td>\n",
       "      <td>0</td>\n",
       "    </tr>\n",
       "    <tr>\n",
       "      <th>5</th>\n",
       "      <td>0</td>\n",
       "      <td>tcp</td>\n",
       "      <td>http</td>\n",
       "      <td>SF</td>\n",
       "      <td>212</td>\n",
       "      <td>1940</td>\n",
       "      <td>0</td>\n",
       "      <td>0</td>\n",
       "      <td>0</td>\n",
       "      <td>0</td>\n",
       "      <td>...</td>\n",
       "      <td>0.0</td>\n",
       "      <td>1.00</td>\n",
       "      <td>0.04</td>\n",
       "      <td>0.0</td>\n",
       "      <td>0.0</td>\n",
       "      <td>0.0</td>\n",
       "      <td>0.0</td>\n",
       "      <td>0</td>\n",
       "      <td>1</td>\n",
       "      <td>0</td>\n",
       "    </tr>\n",
       "  </tbody>\n",
       "</table>\n",
       "<p>5 rows × 44 columns</p>\n",
       "</div>"
      ],
      "text/plain": [
       "   duration protocol_type service flag  src_bytes  dst_bytes  land  \\\n",
       "0         0           tcp    http   SF        239        486     0   \n",
       "2         0           tcp    http   SF        219       1337     0   \n",
       "3         0           tcp    http   SF        217       2032     0   \n",
       "4         0           tcp    http   SF        217       2032     0   \n",
       "5         0           tcp    http   SF        212       1940     0   \n",
       "\n",
       "   wrong_fragment  urgent  hot   ...     dst_host_diff_srv_rate  \\\n",
       "0               0       0    0   ...                        0.0   \n",
       "2               0       0    0   ...                        0.0   \n",
       "3               0       0    0   ...                        0.0   \n",
       "4               0       0    0   ...                        0.0   \n",
       "5               0       0    0   ...                        0.0   \n",
       "\n",
       "   dst_host_same_src_port_rate  dst_host_srv_diff_host_rate  \\\n",
       "0                         0.05                         0.00   \n",
       "2                         0.03                         0.00   \n",
       "3                         0.02                         0.00   \n",
       "4                         0.02                         0.00   \n",
       "5                         1.00                         0.04   \n",
       "\n",
       "   dst_host_serror_rate  dst_host_srv_serror_rate  dst_host_rerror_rate  \\\n",
       "0                   0.0                       0.0                   0.0   \n",
       "2                   0.0                       0.0                   0.0   \n",
       "3                   0.0                       0.0                   0.0   \n",
       "4                   0.0                       0.0                   0.0   \n",
       "5                   0.0                       0.0                   0.0   \n",
       "\n",
       "   dst_host_srv_rerror_rate  labels  label_0  label_2  \n",
       "0                       0.0       0        1        0  \n",
       "2                       0.0       0        1        0  \n",
       "3                       0.0       0        1        0  \n",
       "4                       0.0       0        1        0  \n",
       "5                       0.0       0        1        0  \n",
       "\n",
       "[5 rows x 44 columns]"
      ]
     },
     "execution_count": 9,
     "metadata": {},
     "output_type": "execute_result"
    }
   ],
   "source": [
    "combine_dataset.head()"
   ]
  },
  {
   "cell_type": "code",
   "execution_count": 14,
   "metadata": {},
   "outputs": [
    {
     "name": "stdout",
     "output_type": "stream",
     "text": [
      "icmp    446898\n",
      "tcp     296016\n",
      "udp      36266\n",
      "Name: protocol_type, dtype: int64\n"
     ]
    }
   ],
   "source": [
    "# 独热编码 protocol_type\n",
    "print combine_dataset.protocol_type.value_counts()\n",
    "protocal_type_dummies = pd.get_dummies(combine_dataset.protocol_type, prefix='protocol_type')"
   ]
  },
  {
   "cell_type": "code",
   "execution_count": 10,
   "metadata": {
    "collapsed": true
   },
   "outputs": [],
   "source": [
    "# Service \n",
    "# 共有66个 暂时先去掉\n",
    "# combine_dataset.service.value_counts()\n",
    "# service_dummies = pd.get_dummies(combine_dataset.service, prefix='service')"
   ]
  },
  {
   "cell_type": "code",
   "execution_count": 15,
   "metadata": {},
   "outputs": [
    {
     "name": "stdout",
     "output_type": "stream",
     "text": [
      "SF        606989\n",
      "S0        104535\n",
      "REJ        64983\n",
      "RSTO        1498\n",
      "RSTR         764\n",
      "S3           292\n",
      "S1            74\n",
      "S2            43\n",
      "RSTOS0         1\n",
      "OTH            1\n",
      "Name: flag, dtype: int64\n"
     ]
    }
   ],
   "source": [
    "# flag\n",
    "print combine_dataset.flag.value_counts()\n",
    "flag_dummies = pd.get_dummies(combine_dataset.flag, prefix='flag')"
   ]
  },
  {
   "cell_type": "code",
   "execution_count": 12,
   "metadata": {
    "collapsed": true
   },
   "outputs": [],
   "source": [
    "# src_bytes & dst_bytes 去中心化\n",
    "\n",
    "# Method 1: 去中心化\n",
    "combine_dataset['src_bytes_norm'] = combine_dataset.src_bytes - combine_dataset.src_bytes.mean()\n",
    "combine_dataset['dst_bytes_norm'] = combine_dataset.dst_bytes - combine_dataset.dst_bytes.mean()\n",
    "\n",
    "# Method 2: 规范化\n",
    "# max1 = combine_dataset.src_bytes.max(); min1 = combine_dataset.src_bytes.min();\n",
    "# max2 = combine_dataset.dst_bytes.max(); min2 = combine_dataset.dst_bytes.min();\n",
    "# combine_dataset['src_bytes_norm'] = (combine_dataset.src_bytes - min1) / float(max1 - min1)\n",
    "# combine_dataset['dst_bytes_norm'] = (combine_dataset.dst_bytes - min2) / float(max2 - min2)"
   ]
  },
  {
   "cell_type": "code",
   "execution_count": 16,
   "metadata": {},
   "outputs": [],
   "source": [
    "# 组合\n",
    "# 各个独热编码 protocal_type, flag , 暂时去掉 service_dummies\n",
    "combine_dataset = pd.concat([combine_dataset, protocal_type_dummies, flag_dummies], axis=1)\n",
    "\n",
    "# 删除不用的属性\n",
    "combine_dataset = combine_dataset.drop(['protocol_type', 'service', 'flag', 'src_bytes', 'dst_bytes','labels'], axis=1)\n",
    "combine_dataset = combine_dataset.astype('float')"
   ]
  },
  {
   "cell_type": "markdown",
   "metadata": {},
   "source": [
    "## preprocessing labels"
   ]
  },
  {
   "cell_type": "code",
   "execution_count": 17,
   "metadata": {
    "collapsed": true
   },
   "outputs": [],
   "source": [
    "#分离出Train Valid Test \n",
    "sub_train_dataset = combine_dataset.iloc[:train_dataset_size, :].sample(frac=1)\n",
    "sub_valid_dataset = combine_dataset.iloc[train_dataset_size: train_dataset_size+valid_dataset_size, :].sample(frac=1)\n",
    "sub_test_dataset = combine_dataset.iloc[train_dataset_size+valid_dataset_size:, :].sample(frac=1)\n",
    "for i in range(4):\n",
    "    sub_train_dataset.sample(frac=1, replace=True)\n",
    "    sub_valid_dataset.sample(frac=1, replace=True)\n",
    "    sub_test_dataset.sample(frac=1, replace=True)"
   ]
  },
  {
   "cell_type": "code",
   "execution_count": 18,
   "metadata": {},
   "outputs": [
    {
     "name": "stdout",
     "output_type": "stream",
     "text": [
      "Sub Trian:  (366551, 51) (366551, 2)\n",
      "Sub Valid:  (122184, 51) (122184, 2)\n",
      "Sub Test :  (290445, 51) (290445, 2)\n"
     ]
    }
   ],
   "source": [
    "# 分离出 label\n",
    "sub_train_labels = sub_train_dataset[['label_0', 'label_2']] # Normal DOS\n",
    "sub_valid_labels = sub_valid_dataset[['label_0', 'label_2']]\n",
    "sub_test_labels = sub_test_dataset[['label_0', 'label_2']]\n",
    "sub_train_dataset.drop(['label_0',  'label_2'], axis=1, inplace=True)\n",
    "sub_valid_dataset.drop(['label_0', 'label_2'], axis=1, inplace=True)\n",
    "sub_test_dataset.drop(['label_0', 'label_2'], axis=1, inplace=True)\n",
    "\n",
    "# sub_train_labels = sub_train_dataset[['label_0', 'label_1', 'label_2', 'label_3', 'label_4']]\n",
    "# sub_test_labels = sub_test_dataset[['label_0', 'label_1', 'label_2', 'label_3', 'label_4']]\n",
    "# sub_train_dataset.drop(['label_0', 'label_1', 'label_2', 'label_3', 'label_4'], axis=1, inplace=True)\n",
    "# sub_test_dataset.drop(['label_0', 'label_1', 'label_2', 'label_3', 'label_4'], axis=1, inplace=True)\n",
    "\n",
    "print 'Sub Trian: ', sub_train_dataset.shape, sub_train_labels.shape\n",
    "print 'Sub Valid: ', sub_valid_dataset.shape, sub_valid_labels.shape\n",
    "print 'Sub Test : ', sub_test_dataset.shape, sub_test_labels.shape"
   ]
  },
  {
   "cell_type": "markdown",
   "metadata": {},
   "source": [
    "## model1: MLP"
   ]
  },
  {
   "cell_type": "code",
   "execution_count": 19,
   "metadata": {},
   "outputs": [
    {
     "name": "stdout",
     "output_type": "stream",
     "text": [
      "X_val (122184, 51)\n",
      "X_train (366551, 51)\n",
      "X_test (290445, 51)\n",
      "y_val (122184, 2)\n",
      "y_train (366551, 2)\n",
      "y_test (290445, 2)\n"
     ]
    }
   ],
   "source": [
    "data = {\n",
    "    'X_train': sub_train_dataset.values[:,:],\n",
    "    'y_train': sub_train_labels.values[:,:],\n",
    "    'X_val': sub_valid_dataset.as_matrix(),\n",
    "    'y_val': sub_valid_labels.as_matrix(),\n",
    "    'X_test': sub_test_dataset.as_matrix(),\n",
    "    'y_test': sub_test_labels.as_matrix()\n",
    "}\n",
    "for k, v in data.iteritems():\n",
    "    print k, v.shape"
   ]
  },
  {
   "cell_type": "code",
   "execution_count": 20,
   "metadata": {
    "collapsed": true
   },
   "outputs": [],
   "source": [
    "input_dim = data['X_train'].shape[1]\n",
    "output_dim = data['y_train'].shape[1]\n",
    "model = MLP(data, input_dim, [512],output_dim,\n",
    "            learning_rate=1e-5, #1e-6\n",
    "            dropout_prob=0.0,\n",
    "            l2_strength=0.0,\n",
    "            batch_size=200,\n",
    "            num_epochs=15,\n",
    "            print_every=500,\n",
    "            verbose=True)"
   ]
  },
  {
   "cell_type": "code",
   "execution_count": 21,
   "metadata": {},
   "outputs": [
    {
     "name": "stdout",
     "output_type": "stream",
     "text": [
      "(Iteration 0 / 27480) train acc: 25.00%; val_acc: 26.71%; test_acc: 34.64%\n",
      "(Iteration 500 / 27480) train acc: 99.00%; val_acc: 99.32%; test_acc: 97.20%\n",
      "(Iteration 1000 / 27480) train acc: 100.00%; val_acc: 99.53%; test_acc: 95.92%\n",
      "(Iteration 1500 / 27480) train acc: 100.00%; val_acc: 99.51%; test_acc: 97.99%\n",
      "(Iteration 2000 / 27480) train acc: 100.00%; val_acc: 99.69%; test_acc: 97.17%\n",
      "(Iteration 2500 / 27480) train acc: 99.50%; val_acc: 99.64%; test_acc: 97.27%\n",
      "(Iteration 3000 / 27480) train acc: 100.00%; val_acc: 99.68%; test_acc: 97.23%\n",
      "(Iteration 3500 / 27480) train acc: 99.50%; val_acc: 99.72%; test_acc: 97.30%\n",
      "(Iteration 4000 / 27480) train acc: 100.00%; val_acc: 99.76%; test_acc: 97.33%\n",
      "(Iteration 4500 / 27480) train acc: 99.50%; val_acc: 99.62%; test_acc: 97.26%\n",
      "(Iteration 5000 / 27480) train acc: 100.00%; val_acc: 99.75%; test_acc: 97.32%\n",
      "(Iteration 5500 / 27480) train acc: 100.00%; val_acc: 99.54%; test_acc: 97.26%\n",
      "(Iteration 6000 / 27480) train acc: 100.00%; val_acc: 99.62%; test_acc: 97.23%\n",
      "(Iteration 6500 / 27480) train acc: 100.00%; val_acc: 99.69%; test_acc: 97.29%\n",
      "(Iteration 7000 / 27480) train acc: 100.00%; val_acc: 99.70%; test_acc: 97.28%\n",
      "(Iteration 7500 / 27480) train acc: 100.00%; val_acc: 99.82%; test_acc: 97.32%\n",
      "(Iteration 8000 / 27480) train acc: 99.00%; val_acc: 99.63%; test_acc: 97.28%\n",
      "(Iteration 8500 / 27480) train acc: 100.00%; val_acc: 99.77%; test_acc: 97.31%\n",
      "(Iteration 9000 / 27480) train acc: 98.50%; val_acc: 99.71%; test_acc: 97.29%\n",
      "(Iteration 9500 / 27480) train acc: 99.00%; val_acc: 99.68%; test_acc: 97.25%\n",
      "(Iteration 10000 / 27480) train acc: 100.00%; val_acc: 99.49%; test_acc: 97.18%\n",
      "(Iteration 10500 / 27480) train acc: 100.00%; val_acc: 99.78%; test_acc: 97.30%\n",
      "(Iteration 11000 / 27480) train acc: 99.50%; val_acc: 99.81%; test_acc: 97.30%\n",
      "(Iteration 11500 / 27480) train acc: 100.00%; val_acc: 99.82%; test_acc: 90.03%\n",
      "(Iteration 12000 / 27480) train acc: 99.50%; val_acc: 99.70%; test_acc: 97.18%\n",
      "(Iteration 12500 / 27480) train acc: 99.00%; val_acc: 99.78%; test_acc: 97.31%\n",
      "(Iteration 13000 / 27480) train acc: 100.00%; val_acc: 99.70%; test_acc: 97.26%\n",
      "(Iteration 13500 / 27480) train acc: 100.00%; val_acc: 99.64%; test_acc: 97.21%\n",
      "(Iteration 14000 / 27480) train acc: 100.00%; val_acc: 99.64%; test_acc: 97.22%\n",
      "(Iteration 14500 / 27480) train acc: 99.00%; val_acc: 99.68%; test_acc: 97.27%\n",
      "(Iteration 15000 / 27480) train acc: 100.00%; val_acc: 99.77%; test_acc: 97.31%\n",
      "(Iteration 15500 / 27480) train acc: 99.50%; val_acc: 99.68%; test_acc: 97.29%\n",
      "(Iteration 16000 / 27480) train acc: 100.00%; val_acc: 99.72%; test_acc: 97.27%\n",
      "(Iteration 16500 / 27480) train acc: 100.00%; val_acc: 99.81%; test_acc: 97.32%\n",
      "(Iteration 17000 / 27480) train acc: 100.00%; val_acc: 99.72%; test_acc: 97.28%\n",
      "(Iteration 17500 / 27480) train acc: 99.50%; val_acc: 99.51%; test_acc: 97.19%\n",
      "(Iteration 18000 / 27480) train acc: 100.00%; val_acc: 99.72%; test_acc: 97.25%\n",
      "(Iteration 18500 / 27480) train acc: 100.00%; val_acc: 99.64%; test_acc: 97.18%\n",
      "(Iteration 19000 / 27480) train acc: 99.50%; val_acc: 99.79%; test_acc: 97.28%\n",
      "(Iteration 19500 / 27480) train acc: 99.50%; val_acc: 99.80%; test_acc: 97.27%\n",
      "(Iteration 20000 / 27480) train acc: 99.00%; val_acc: 99.59%; test_acc: 97.17%\n",
      "(Iteration 20500 / 27480) train acc: 100.00%; val_acc: 99.81%; test_acc: 97.31%\n",
      "(Iteration 21000 / 27480) train acc: 100.00%; val_acc: 99.76%; test_acc: 97.27%\n",
      "(Iteration 21500 / 27480) train acc: 100.00%; val_acc: 99.81%; test_acc: 89.44%\n",
      "(Iteration 22000 / 27480) train acc: 99.50%; val_acc: 99.83%; test_acc: 96.96%\n",
      "(Iteration 22500 / 27480) train acc: 100.00%; val_acc: 99.74%; test_acc: 97.26%\n",
      "(Iteration 23000 / 27480) train acc: 99.00%; val_acc: 99.69%; test_acc: 97.29%\n",
      "(Iteration 23500 / 27480) train acc: 99.50%; val_acc: 99.71%; test_acc: 97.29%\n",
      "(Iteration 24000 / 27480) train acc: 100.00%; val_acc: 99.57%; test_acc: 97.40%\n",
      "(Iteration 24500 / 27480) train acc: 99.50%; val_acc: 99.79%; test_acc: 97.33%\n",
      "(Iteration 25000 / 27480) train acc: 100.00%; val_acc: 99.79%; test_acc: 97.31%\n",
      "(Iteration 25500 / 27480) train acc: 99.50%; val_acc: 99.80%; test_acc: 97.31%\n",
      "(Iteration 26000 / 27480) train acc: 99.50%; val_acc: 99.82%; test_acc: 97.33%\n",
      "(Iteration 26500 / 27480) train acc: 99.50%; val_acc: 99.75%; test_acc: 97.30%\n",
      "(Iteration 27000 / 27480) train acc: 99.50%; val_acc: 99.61%; test_acc: 97.18%\n"
     ]
    }
   ],
   "source": [
    "model.train()"
   ]
  },
  {
   "cell_type": "code",
   "execution_count": 22,
   "metadata": {},
   "outputs": [
    {
     "data": {
      "text/plain": [
       "[]"
      ]
     },
     "execution_count": 22,
     "metadata": {},
     "output_type": "execute_result"
    },
    {
     "data": {
      "image/png": "[encoded data removed]",
      "text/plain": [
       "<matplotlib.figure.Figure at 0x10c121210>"
      ]
     },
     "metadata": {},
     "output_type": "display_data"
    }
   ],
   "source": [
    "fig = plt.figure()\n",
    "ax = fig.add_subplot(1,1,1)\n",
    "ax.plot(range(len(model.loss_history)), model.loss_history, '-o')\n",
    "plt.plot()"
   ]
  },
  {
   "cell_type": "code",
   "execution_count": 23,
   "metadata": {},
   "outputs": [
    {
     "name": "stdout",
     "output_type": "stream",
     "text": [
      "55\n",
      "0.983364 0.983702 0.958394\n"
     ]
    },
    {
     "data": {
      "image/png": "[encoded data removed]",
      "text/plain": [
       "<matplotlib.figure.Figure at 0x11c565450>"
      ]
     },
     "metadata": {},
     "output_type": "display_data"
    }
   ],
   "source": [
    "plt_len = len(model.train_acc_history)\n",
    "print plt_len\n",
    "print np.mean(model.train_acc_history), np.mean(model.val_acc_history), np.mean(model.test_acc_history)\n",
    "plt.subplot(1,1,1)\n",
    "plt.title('Accuracy')\n",
    "plt.plot(model.train_acc_history, '-o', label='train')\n",
    "plt.plot(model.test_acc_history, '-o', label='test')\n",
    "plt.plot(model.val_acc_history, '-o', label='valid')\n",
    "# plt.plot([90] * plt_len, 'k--')\n",
    "plt.xlabel('Iteration/300')\n",
    "plt.legend(loc='lower right')\n",
    "plt.gcf().set_size_inches(12,8)\n",
    "plt.show()"
   ]
  },
  {
   "cell_type": "markdown",
   "metadata": {},
   "source": [
    "## Analysis"
   ]
  },
  {
   "cell_type": "code",
   "execution_count": 24,
   "metadata": {
    "collapsed": true
   },
   "outputs": [],
   "source": [
    "def accuracy(predictions, labels):\n",
    "  return (100.0 * np.sum(np.argmax(predictions, 1) == np.argmax(labels, 1))\n",
    "          / predictions.shape[0])"
   ]
  },
  {
   "cell_type": "code",
   "execution_count": 25,
   "metadata": {
    "collapsed": true
   },
   "outputs": [],
   "source": [
    "#统计每个列别的precision TP/(TP + FN)检测率   Recall: TP/(TP + FP)对应误报率\n",
    "\n",
    "#negative对应的是正常的，positive对应的是attack.以此转换成二分类问题\n",
    "def precission_recall(predictions, actuals, negative=[0], positive=[1,2,3,4]):\n",
    "    pred_labels = np.argmax(predictions,axis=1)\n",
    "    actual_labels = np.argmax(actuals, axis=1)\n",
    "    TP = 0.0\n",
    "    TN = 0.0\n",
    "    FP = 0.0\n",
    "    FN = 0.0\n",
    "    test_size = predictions.shape[0]\n",
    "    for i in xrange(test_size):\n",
    "        if pred_labels[i] in positive:\n",
    "            if actual_labels[i] in positive:\n",
    "                TP += 1.0\n",
    "            else:\n",
    "                FP += 1.0\n",
    "        else:\n",
    "            if actual_labels[i] in negative:\n",
    "                TN += 1.0\n",
    "            else:\n",
    "                FN += 1.0\n",
    "    if TP + FN == 0:\n",
    "        print 'There is no positive in test'\n",
    "        precission = -1\n",
    "    else:\n",
    "        precission = TP / (TP + FN)\n",
    "    if TP + FP == 0:\n",
    "        print 'There is no positive in the prediction'\n",
    "        recall = -1\n",
    "    else:\n",
    "        recall = TP / (TP + FP)\n",
    "    return precission, recall"
   ]
  },
  {
   "cell_type": "code",
   "execution_count": 26,
   "metadata": {},
   "outputs": [
    {
     "ename": "AttributeError",
     "evalue": "'MLP' object has no attribute 'prediction'",
     "output_type": "error",
     "traceback": [
      "\u001b[0;31m---------------------------------------------------------------------------\u001b[0m",
      "\u001b[0;31mAttributeError\u001b[0m                            Traceback (most recent call last)",
      "\u001b[0;32m<ipython-input-26-17b5b22fd014>\u001b[0m in \u001b[0;36m<module>\u001b[0;34m()\u001b[0m\n\u001b[1;32m      1\u001b[0m \u001b[0;31m#normal: 0 PROBE:1 DOS:2 U2R:3 R2L:4 Positive:1-4攻击； Negative:0 正常；\u001b[0m\u001b[0;34m\u001b[0m\u001b[0;34m\u001b[0m\u001b[0m\n\u001b[0;32m----> 2\u001b[0;31m \u001b[0mlast_test_pred\u001b[0m \u001b[0;34m=\u001b[0m \u001b[0mmodel\u001b[0m\u001b[0;34m.\u001b[0m\u001b[0mprediction\u001b[0m\u001b[0;34m(\u001b[0m\u001b[0mdata\u001b[0m\u001b[0;34m[\u001b[0m\u001b[0;34m'X_test'\u001b[0m\u001b[0;34m]\u001b[0m\u001b[0;34m)\u001b[0m\u001b[0;34m\u001b[0m\u001b[0m\n\u001b[0m\u001b[1;32m      3\u001b[0m \u001b[0mlast_test_pred_idx\u001b[0m \u001b[0;34m=\u001b[0m \u001b[0mnp\u001b[0m\u001b[0;34m.\u001b[0m\u001b[0margmax\u001b[0m\u001b[0;34m(\u001b[0m\u001b[0mlast_test_pred\u001b[0m\u001b[0;34m,\u001b[0m \u001b[0maxis\u001b[0m\u001b[0;34m=\u001b[0m\u001b[0;36m1\u001b[0m\u001b[0;34m)\u001b[0m\u001b[0;34m\u001b[0m\u001b[0m\n\u001b[1;32m      4\u001b[0m \u001b[0msub_test_idx\u001b[0m \u001b[0;34m=\u001b[0m \u001b[0mnp\u001b[0m\u001b[0;34m.\u001b[0m\u001b[0margmax\u001b[0m\u001b[0;34m(\u001b[0m\u001b[0msub_test_labels\u001b[0m\u001b[0;34m.\u001b[0m\u001b[0mvalues\u001b[0m\u001b[0;34m[\u001b[0m\u001b[0;34m:\u001b[0m\u001b[0;34m:\u001b[0m\u001b[0;34m]\u001b[0m\u001b[0;34m,\u001b[0m\u001b[0maxis\u001b[0m\u001b[0;34m=\u001b[0m\u001b[0;36m1\u001b[0m\u001b[0;34m)\u001b[0m\u001b[0;34m\u001b[0m\u001b[0m\n\u001b[1;32m      5\u001b[0m \u001b[0;32mprint\u001b[0m \u001b[0mlast_test_pred_idx\u001b[0m\u001b[0;34m.\u001b[0m\u001b[0mshape\u001b[0m\u001b[0;34m,\u001b[0m \u001b[0msub_test_idx\u001b[0m\u001b[0;34m.\u001b[0m\u001b[0mshape\u001b[0m\u001b[0;34m\u001b[0m\u001b[0m\n",
      "\u001b[0;31mAttributeError\u001b[0m: 'MLP' object has no attribute 'prediction'"
     ]
    }
   ],
   "source": [
    "#normal: 0 PROBE:1 DOS:2 U2R:3 R2L:4 Positive:1-4攻击； Negative:0 正常；\n",
    "last_test_pred = model.prediction(data['X_test'])\n",
    "last_test_pred_idx = np.argmax(last_test_pred, axis=1)\n",
    "sub_test_idx = np.argmax(sub_test_labels.values[::],axis=1)\n",
    "print last_test_pred_idx.shape, sub_test_idx.shape\n",
    "\n",
    "precission, recall = precission_recall(last_test_pred, sub_test_labels.values[::], negative=[0], positive=[1])\n",
    "\n",
    "print '检测率: %.2f%%' % (precission * 100)\n",
    "print '误报率： %.2f%%' % (100 - recall * 100)"
   ]
  },
  {
   "cell_type": "code",
   "execution_count": null,
   "metadata": {},
   "outputs": [],
   "source": [
    "print 'Test'\n",
    "print len(sub_test_labels)\n",
    "print '0:', np.sum(sub_test_labels.label_0 == 1)\n",
    "# print '1:', np.sum(sub_test_labels.label_1 == 1)\n",
    "print '2:', np.sum(sub_test_labels.label_2 == 1)\n",
    "# print '3:', np.sum(sub_test_labels.label_3 == 1)\n",
    "# print '4:', np.sum(sub_test_labels.label_4 == 1)"
   ]
  },
  {
   "cell_type": "code",
   "execution_count": null,
   "metadata": {},
   "outputs": [],
   "source": [
    "pred = np.argmax(last_test_pred, axis=1)\n",
    "print 'Prediction'\n",
    "print 'tot:', pred.shape[0]\n",
    "print '0:', pred[pred==0].shape[0]\n",
    "print '1:', pred[pred==1].shape[0]\n",
    "# print '2:', pred[pred==2].shape[0]\n",
    "# print '3:', pred[pred==3].shape[0]\n",
    "# print '4:', pred[pred==4].shape[0]"
   ]
  },
  {
   "cell_type": "code",
   "execution_count": null,
   "metadata": {
    "collapsed": true
   },
   "outputs": [],
   "source": []
  }
 ],
 "metadata": {
  "colab": {
   "default_view": {},
   "name": "4_convolutions.ipynb",
   "provenance": [],
   "version": "0.3.2",
   "views": {}
  },
  "kernelspec": {
   "display_name": "Python 2",
   "language": "python",
   "name": "python2"
  },
  "language_info": {
   "codemirror_mode": {
    "name": "ipython",
    "version": 2
   },
   "file_extension": ".py",
   "mimetype": "text/x-python",
   "name": "python",
   "nbconvert_exporter": "python",
   "pygments_lexer": "ipython2",
   "version": "2.7.13"
  },
  "toc": {
   "colors": {
    "hover_highlight": "#DAA520",
    "navigate_num": "#000000",
    "navigate_text": "#333333",
    "running_highlight": "#FF0000",
    "selected_highlight": "#FFD700",
    "sidebar_border": "#EEEEEE",
    "wrapper_background": "#FFFFFF"
   },
   "moveMenuLeft": true,
   "nav_menu": {
    "height": "86px",
    "width": "252px"
   },
   "navigate_menu": true,
   "number_sections": true,
   "sideBar": true,
   "threshold": 4,
   "toc_cell": false,
   "toc_section_display": "block",
   "toc_window_display": false,
   "widenNotebook": false
  }
 },
 "nbformat": 4,
 "nbformat_minor": 1
}
