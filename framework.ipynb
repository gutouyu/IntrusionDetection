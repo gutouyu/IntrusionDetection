{
 "cells": [
  {
   "cell_type": "markdown",
   "metadata": {
    "colab_type": "text",
    "id": "4embtkV0pNxM"
   },
   "source": [
    "# Deep Learning\n",
    "\n",
    "## preprocessing training dataset"
   ]
  },
  {
   "cell_type": "code",
   "execution_count": 137,
   "metadata": {},
   "outputs": [
    {
     "name": "stdout",
     "output_type": "stream",
     "text": [
      "The autoreload extension is already loaded. To reload it, use:\n",
      "  %reload_ext autoreload\n"
     ]
    }
   ],
   "source": [
    "import os\n",
    "import numpy as np\n",
    "import tensorflow as tf\n",
    "import pandas as pd\n",
    "import matplotlib.pyplot as plt\n",
    "from MLP import MLP\n",
    "\n",
    "%matplotlib inline\n",
    "plt.rcParams['figure.figsize'] = (10.0, 8.0) # set default size of plots\n",
    "plt.rcParams['image.interpolation'] = 'nearest'\n",
    "plt.rcParams['image.cmap'] = 'gray'\n",
    "%load_ext autoreload\n",
    "%autoreload 2"
   ]
  },
  {
   "cell_type": "code",
   "execution_count": 138,
   "metadata": {},
   "outputs": [],
   "source": [
    "input_file_dir = \"../datasets\"\n",
    "train_file_name = \"kddcup.data_10_percent.txt\"\n",
    "test_file_name = \"corrected.txt\"\n",
    "header_file_name = \"header.txt\"\n",
    "train_files = os.path.join(input_file_dir, train_file_name)\n",
    "test_files = os.path.join(input_file_dir, test_file_name)\n",
    "header_files = os.path.join(input_file_dir, header_file_name)\n",
    "with open(header_files, 'r') as f:\n",
    "    header = f.readline().strip().split(',')\n",
    "train_dataset = pd.read_csv(train_files)\n",
    "test_dataset = pd.read_csv(test_files)\n",
    "train_dataset.columns = header\n",
    "test_dataset.columns = header"
   ]
  },
  {
   "cell_type": "code",
   "execution_count": 139,
   "metadata": {
    "collapsed": true
   },
   "outputs": [],
   "source": [
    "def labels_map(label):\n",
    "    label = str(label).split('.')[0]\n",
    "    if label == 'normal':\n",
    "        return 0\n",
    "    if label in ['ipsweep', 'mscan', 'nmap', 'portsweep', 'saint', 'satan']: #PROBE\n",
    "        return 1\n",
    "    if label in ['apache2', 'back', 'land', 'mailbomb', 'neptune', 'pod', 'processtable', 'smurf', 'teardrop', 'udpstorm']: #DOS\n",
    "        return 2\n",
    "    if label in ['buffer_overflow', 'httptunnel', 'loadmodule', 'perl', 'ps', 'rootkit', 'sqlattack', 'xterm']: #U2R\n",
    "        return 3\n",
    "    if label in ['ftp_write', 'guess_passwd', 'imap', 'multihop', 'named', 'phf', 'sendmail', 'snmpgetattack', 'snmpguess', 'spy', 'warezclient', 'warezmaster', 'worm', 'xlock', 'xsnoop']: #R2L\n",
    "        return 4\n",
    "    \n",
    "train_dataset['labels'] = train_dataset['labels'].apply(labels_map)\n",
    "test_dataset['labels'] = test_dataset['labels'].apply(labels_map)"
   ]
  },
  {
   "cell_type": "code",
   "execution_count": 140,
   "metadata": {},
   "outputs": [
    {
     "data": {
      "text/plain": [
       "2    391459\n",
       "0     97276\n",
       "1      4107\n",
       "4      1126\n",
       "3        52\n",
       "Name: labels, dtype: int64"
      ]
     },
     "execution_count": 140,
     "metadata": {},
     "output_type": "execute_result"
    }
   ],
   "source": [
    "# 查看各个类别的个数、比例\n",
    "train_dataset['labels'].value_counts()"
   ]
  },
  {
   "cell_type": "code",
   "execution_count": 141,
   "metadata": {},
   "outputs": [],
   "source": [
    "# mask = train_dataset['labels']==0\n",
    "# print len(mask[mask==True]) # normal \n",
    "# print len(mask[mask==False]) # DOS\n",
    "# mask = test_dataset['labels'] == 0\n",
    "# print len(mask[mask==True])\n",
    "# print len(mask[mask==False]) #1:4"
   ]
  },
  {
   "cell_type": "code",
   "execution_count": 142,
   "metadata": {},
   "outputs": [],
   "source": [
    "#只保留DOS 和 Normal\n",
    "# train_dataset = train_dataset[(train_dataset['labels']==0) | (train_dataset['labels']==2)]\n",
    "# test_dataset = test_dataset[(test_dataset['labels']==0) | (test_dataset['labels'] == 2)]"
   ]
  },
  {
   "cell_type": "code",
   "execution_count": 143,
   "metadata": {},
   "outputs": [
    {
     "name": "stdout",
     "output_type": "stream",
     "text": [
      "Train dataset:  370515\n",
      "Valid dataset:  123505\n",
      "Test  dataset:  311028\n"
     ]
    }
   ],
   "source": [
    "from sklearn.model_selection import train_test_split\n",
    "# dataset\n",
    "train_dataset, valid_dataset, _, _ = train_test_split(train_dataset, train_dataset['labels'], test_size=0.25, random_state=42)\n",
    "train_dataset_size = train_dataset.shape[0]\n",
    "valid_dataset_size = valid_dataset.shape[0]\n",
    "test_dataset_size = test_dataset.shape[0]\n",
    "print 'Train dataset: ', train_dataset_size\n",
    "print 'Valid dataset: ', valid_dataset_size\n",
    "print 'Test  dataset: ', test_dataset_size"
   ]
  },
  {
   "cell_type": "code",
   "execution_count": 144,
   "metadata": {},
   "outputs": [],
   "source": [
    "#获取验证集\n",
    "# val_frac=0.25\n",
    "# valid_dataset_neg = train_dataset[(train_dataset['labels']==0)].sample(frac=val_frac)\n",
    "# valid_dataset_pos = train_dataset[(train_dataset['labels']==2)].sample(frac=val_frac)\n",
    "# valid_dataset = pd.concat([valid_dataset_neg, valid_dataset_pos], axis=0)\n",
    "\n",
    "# #train_dataset中分离出valid_dataset\n",
    "# train_dataset = train_dataset.select(lambda x: x not in valid_dataset.index, axis=0)\n",
    "\n",
    "\n",
    "# train_dataset_size = train_dataset.shape[0]\n",
    "# valid_dataset_size = valid_dataset.shape[0]\n",
    "# test_dataset_size = test_dataset.shape[0]\n",
    "\n",
    "# print 'Train dataset: ', train_dataset_size\n",
    "# print 'Valid dataset: ', valid_dataset_size\n",
    "# print 'Test  dataset: ', test_dataset_size"
   ]
  },
  {
   "cell_type": "code",
   "execution_count": 145,
   "metadata": {
    "collapsed": true
   },
   "outputs": [],
   "source": [
    "combine = pd.concat([train_dataset,valid_dataset, test_dataset], axis=0)"
   ]
  },
  {
   "cell_type": "code",
   "execution_count": 146,
   "metadata": {},
   "outputs": [],
   "source": [
    "# labels独热编码\n",
    "labels_dummies = pd.get_dummies(combine['labels'], prefix='label')\n",
    "combine = pd.concat([combine,labels_dummies], axis=1)"
   ]
  },
  {
   "cell_type": "code",
   "execution_count": 147,
   "metadata": {
    "scrolled": true
   },
   "outputs": [
    {
     "data": {
      "text/html": [
       "<div>\n",
       "<style>\n",
       "    .dataframe thead tr:only-child th {\n",
       "        text-align: right;\n",
       "    }\n",
       "\n",
       "    .dataframe thead th {\n",
       "        text-align: left;\n",
       "    }\n",
       "\n",
       "    .dataframe tbody tr th {\n",
       "        vertical-align: top;\n",
       "    }\n",
       "</style>\n",
       "<table border=\"1\" class=\"dataframe\">\n",
       "  <thead>\n",
       "    <tr style=\"text-align: right;\">\n",
       "      <th></th>\n",
       "      <th>duration</th>\n",
       "      <th>protocol_type</th>\n",
       "      <th>service</th>\n",
       "      <th>flag</th>\n",
       "      <th>src_bytes</th>\n",
       "      <th>dst_bytes</th>\n",
       "      <th>land</th>\n",
       "      <th>wrong_fragment</th>\n",
       "      <th>urgent</th>\n",
       "      <th>hot</th>\n",
       "      <th>...</th>\n",
       "      <th>dst_host_serror_rate</th>\n",
       "      <th>dst_host_srv_serror_rate</th>\n",
       "      <th>dst_host_rerror_rate</th>\n",
       "      <th>dst_host_srv_rerror_rate</th>\n",
       "      <th>labels</th>\n",
       "      <th>label_0</th>\n",
       "      <th>label_1</th>\n",
       "      <th>label_2</th>\n",
       "      <th>label_3</th>\n",
       "      <th>label_4</th>\n",
       "    </tr>\n",
       "  </thead>\n",
       "  <tbody>\n",
       "    <tr>\n",
       "      <th>0</th>\n",
       "      <td>0</td>\n",
       "      <td>tcp</td>\n",
       "      <td>ftp_data</td>\n",
       "      <td>SF</td>\n",
       "      <td>383</td>\n",
       "      <td>0</td>\n",
       "      <td>0</td>\n",
       "      <td>0</td>\n",
       "      <td>0</td>\n",
       "      <td>0</td>\n",
       "      <td>...</td>\n",
       "      <td>0.00</td>\n",
       "      <td>0.00</td>\n",
       "      <td>0.0</td>\n",
       "      <td>0.0</td>\n",
       "      <td>0</td>\n",
       "      <td>1</td>\n",
       "      <td>0</td>\n",
       "      <td>0</td>\n",
       "      <td>0</td>\n",
       "      <td>0</td>\n",
       "    </tr>\n",
       "    <tr>\n",
       "      <th>1</th>\n",
       "      <td>0</td>\n",
       "      <td>icmp</td>\n",
       "      <td>ecr_i</td>\n",
       "      <td>SF</td>\n",
       "      <td>1032</td>\n",
       "      <td>0</td>\n",
       "      <td>0</td>\n",
       "      <td>0</td>\n",
       "      <td>0</td>\n",
       "      <td>0</td>\n",
       "      <td>...</td>\n",
       "      <td>0.00</td>\n",
       "      <td>0.00</td>\n",
       "      <td>0.0</td>\n",
       "      <td>0.0</td>\n",
       "      <td>2</td>\n",
       "      <td>0</td>\n",
       "      <td>0</td>\n",
       "      <td>1</td>\n",
       "      <td>0</td>\n",
       "      <td>0</td>\n",
       "    </tr>\n",
       "    <tr>\n",
       "      <th>2</th>\n",
       "      <td>64</td>\n",
       "      <td>tcp</td>\n",
       "      <td>ftp</td>\n",
       "      <td>SF</td>\n",
       "      <td>1205</td>\n",
       "      <td>3380</td>\n",
       "      <td>0</td>\n",
       "      <td>0</td>\n",
       "      <td>0</td>\n",
       "      <td>24</td>\n",
       "      <td>...</td>\n",
       "      <td>0.02</td>\n",
       "      <td>0.05</td>\n",
       "      <td>0.0</td>\n",
       "      <td>0.0</td>\n",
       "      <td>0</td>\n",
       "      <td>1</td>\n",
       "      <td>0</td>\n",
       "      <td>0</td>\n",
       "      <td>0</td>\n",
       "      <td>0</td>\n",
       "    </tr>\n",
       "    <tr>\n",
       "      <th>3</th>\n",
       "      <td>0</td>\n",
       "      <td>icmp</td>\n",
       "      <td>ecr_i</td>\n",
       "      <td>SF</td>\n",
       "      <td>1032</td>\n",
       "      <td>0</td>\n",
       "      <td>0</td>\n",
       "      <td>0</td>\n",
       "      <td>0</td>\n",
       "      <td>0</td>\n",
       "      <td>...</td>\n",
       "      <td>0.00</td>\n",
       "      <td>0.00</td>\n",
       "      <td>0.0</td>\n",
       "      <td>0.0</td>\n",
       "      <td>2</td>\n",
       "      <td>0</td>\n",
       "      <td>0</td>\n",
       "      <td>1</td>\n",
       "      <td>0</td>\n",
       "      <td>0</td>\n",
       "    </tr>\n",
       "    <tr>\n",
       "      <th>4</th>\n",
       "      <td>0</td>\n",
       "      <td>icmp</td>\n",
       "      <td>ecr_i</td>\n",
       "      <td>SF</td>\n",
       "      <td>1032</td>\n",
       "      <td>0</td>\n",
       "      <td>0</td>\n",
       "      <td>0</td>\n",
       "      <td>0</td>\n",
       "      <td>0</td>\n",
       "      <td>...</td>\n",
       "      <td>0.00</td>\n",
       "      <td>0.00</td>\n",
       "      <td>0.0</td>\n",
       "      <td>0.0</td>\n",
       "      <td>2</td>\n",
       "      <td>0</td>\n",
       "      <td>0</td>\n",
       "      <td>1</td>\n",
       "      <td>0</td>\n",
       "      <td>0</td>\n",
       "    </tr>\n",
       "  </tbody>\n",
       "</table>\n",
       "<p>5 rows × 47 columns</p>\n",
       "</div>"
      ],
      "text/plain": [
       "   duration protocol_type   service flag  src_bytes  dst_bytes  land  \\\n",
       "0         0           tcp  ftp_data   SF        383          0     0   \n",
       "1         0          icmp     ecr_i   SF       1032          0     0   \n",
       "2        64           tcp       ftp   SF       1205       3380     0   \n",
       "3         0          icmp     ecr_i   SF       1032          0     0   \n",
       "4         0          icmp     ecr_i   SF       1032          0     0   \n",
       "\n",
       "   wrong_fragment  urgent  hot   ...     dst_host_serror_rate  \\\n",
       "0               0       0    0   ...                     0.00   \n",
       "1               0       0    0   ...                     0.00   \n",
       "2               0       0   24   ...                     0.02   \n",
       "3               0       0    0   ...                     0.00   \n",
       "4               0       0    0   ...                     0.00   \n",
       "\n",
       "   dst_host_srv_serror_rate  dst_host_rerror_rate  dst_host_srv_rerror_rate  \\\n",
       "0                      0.00                   0.0                       0.0   \n",
       "1                      0.00                   0.0                       0.0   \n",
       "2                      0.05                   0.0                       0.0   \n",
       "3                      0.00                   0.0                       0.0   \n",
       "4                      0.00                   0.0                       0.0   \n",
       "\n",
       "   labels  label_0  label_1  label_2  label_3  label_4  \n",
       "0       0        1        0        0        0        0  \n",
       "1       2        0        0        1        0        0  \n",
       "2       0        1        0        0        0        0  \n",
       "3       2        0        0        1        0        0  \n",
       "4       2        0        0        1        0        0  \n",
       "\n",
       "[5 rows x 47 columns]"
      ]
     },
     "execution_count": 147,
     "metadata": {},
     "output_type": "execute_result"
    }
   ],
   "source": [
    "combine.index = range(len(combine))\n",
    "combine.head()"
   ]
  },
  {
   "cell_type": "code",
   "execution_count": 148,
   "metadata": {},
   "outputs": [
    {
     "name": "stdout",
     "output_type": "stream",
     "text": [
      "icmp    448571\n",
      "tcp     309421\n",
      "udp      47056\n",
      "Name: protocol_type, dtype: int64\n"
     ]
    }
   ],
   "source": [
    "# 独热编码 protocol_type\n",
    "print combine.protocol_type.value_counts()\n",
    "protocal_type_dummies = pd.get_dummies(combine.protocol_type, prefix='protocol_type')"
   ]
  },
  {
   "cell_type": "code",
   "execution_count": 149,
   "metadata": {},
   "outputs": [
    {
     "data": {
      "text/plain": [
       "protocol_type  labels\n",
       "icmp           2         445232\n",
       "               1           1669\n",
       "               0           1666\n",
       "               4              4\n",
       "tcp            2         175087\n",
       "               0         120929\n",
       "               4           7159\n",
       "               1           5969\n",
       "               3            277\n",
       "udp            0          35273\n",
       "               4          10152\n",
       "               2            993\n",
       "               1            635\n",
       "               3              3\n",
       "Name: labels, dtype: int64"
      ]
     },
     "execution_count": 149,
     "metadata": {},
     "output_type": "execute_result"
    }
   ],
   "source": [
    "combine.groupby(['protocol_type'])['labels'].value_counts()"
   ]
  },
  {
   "cell_type": "code",
   "execution_count": 150,
   "metadata": {},
   "outputs": [],
   "source": [
    "# Service \n",
    "# 共有66个 暂时先去掉\n",
    "# combine.service.value_counts()\n",
    "# combine.groupby(['labels'])['service'].value_counts()\n",
    "# service_dummies = pd.get_dummies(combine.service, prefix='service')"
   ]
  },
  {
   "cell_type": "code",
   "execution_count": 151,
   "metadata": {},
   "outputs": [
    {
     "name": "stdout",
     "output_type": "stream",
     "text": [
      "SF        626816\n",
      "S0        105020\n",
      "REJ        68820\n",
      "RSTO        1972\n",
      "RSTR        1775\n",
      "S3           299\n",
      "SH           191\n",
      "S1            84\n",
      "S2            46\n",
      "RSTOS0        13\n",
      "OTH           12\n",
      "Name: flag, dtype: int64\n"
     ]
    }
   ],
   "source": [
    "# flag\n",
    "print combine.flag.value_counts()\n",
    "flag_dummies = pd.get_dummies(combine.flag, prefix='flag')\n",
    "# combine.groupby(['flag'])['labels'].value_counts()"
   ]
  },
  {
   "cell_type": "code",
   "execution_count": 152,
   "metadata": {
    "collapsed": true
   },
   "outputs": [],
   "source": [
    "# src_bytes & dst_bytes 去中心化\n",
    "\n",
    "# Method 1: 去中心化\n",
    "combine['src_bytes_norm'] = combine.src_bytes - combine.src_bytes.mean()\n",
    "combine['dst_bytes_norm'] = combine.dst_bytes - combine.dst_bytes.mean()"
   ]
  },
  {
   "cell_type": "code",
   "execution_count": 153,
   "metadata": {
    "collapsed": true
   },
   "outputs": [],
   "source": [
    "# 组合\n",
    "# 各个独热编码 protocal_type, flag , 暂时去掉 service_dummies\n",
    "combine = pd.concat([combine, protocal_type_dummies, flag_dummies], axis=1)\n",
    "\n",
    "# 删除不用的属性\n",
    "combine = combine.drop(['protocol_type', 'service', 'flag', 'src_bytes', 'dst_bytes', 'labels'], axis=1)\n",
    "combine = combine.astype('float')"
   ]
  },
  {
   "cell_type": "markdown",
   "metadata": {},
   "source": [
    "## preprocessing labels"
   ]
  },
  {
   "cell_type": "code",
   "execution_count": 154,
   "metadata": {},
   "outputs": [],
   "source": [
    "#分离出Train Valid Test \n",
    "sub_train_dataset = combine.iloc[:train_dataset_size, :].sample(frac=1)\n",
    "sub_valid_dataset = combine.iloc[train_dataset_size: train_dataset_size+valid_dataset_size, :].sample(frac=1)\n",
    "sub_test_dataset = combine.iloc[train_dataset_size+valid_dataset_size:, :].sample(frac=1)"
   ]
  },
  {
   "cell_type": "code",
   "execution_count": 155,
   "metadata": {},
   "outputs": [
    {
     "name": "stdout",
     "output_type": "stream",
     "text": [
      "Sub Trian:  (370515, 53) (370515, 4)\n",
      "Sub Valid:  (123505, 53) (123505, 4)\n",
      "Sub Test :  (311028, 53) (311028, 4)\n"
     ]
    }
   ],
   "source": [
    "# 分离出 label\n",
    "total_labels = ['label_%d' % i  for i in [0,1,2,3]]\n",
    "\n",
    "sub_train_labels = sub_train_dataset[total_labels]\n",
    "sub_valid_labels = sub_valid_dataset[total_labels]\n",
    "sub_test_labels = sub_test_dataset[total_labels]\n",
    "sub_train_dataset.drop(total_labels, axis=1, inplace=True)\n",
    "sub_valid_dataset.drop(total_labels, axis=1, inplace=True)\n",
    "sub_test_dataset.drop(total_labels, axis=1, inplace=True)\n",
    "\n",
    "print 'Sub Trian: ', sub_train_dataset.shape, sub_train_labels.shape\n",
    "print 'Sub Valid: ', sub_valid_dataset.shape, sub_valid_labels.shape\n",
    "print 'Sub Test : ', sub_test_dataset.shape, sub_test_labels.shape"
   ]
  },
  {
   "cell_type": "markdown",
   "metadata": {},
   "source": [
    "## model1: MLP"
   ]
  },
  {
   "cell_type": "code",
   "execution_count": 162,
   "metadata": {},
   "outputs": [
    {
     "name": "stdout",
     "output_type": "stream",
     "text": [
      "X_val (123505, 53)\n",
      "X_train (370515, 53)\n",
      "X_test (311028, 53)\n",
      "y_val (123505, 4)\n",
      "y_train (370515, 4)\n",
      "y_test (311028, 4)\n"
     ]
    }
   ],
   "source": [
    "data = {\n",
    "    'X_train': sub_train_dataset.values[:,:],\n",
    "    'y_train': sub_train_labels.values[:,:],\n",
    "    'X_val': sub_valid_dataset.as_matrix(),\n",
    "    'y_val': sub_valid_labels.as_matrix(),\n",
    "    'X_test': sub_test_dataset.as_matrix(),\n",
    "    'y_test': sub_test_labels.as_matrix()\n",
    "}\n",
    "for k, v in data.iteritems():\n",
    "    print k, v.shape"
   ]
  },
  {
   "cell_type": "code",
   "execution_count": 165,
   "metadata": {
    "collapsed": true
   },
   "outputs": [],
   "source": [
    "input_dim = data['X_train'].shape[1]\n",
    "output_dim = data['y_train'].shape[1]\n",
    "model = MLP(data, input_dim, [512],output_dim,\n",
    "            learning_rate=1e-5, #1e-6\n",
    "            dropout_prob=0.0,\n",
    "            l2_strength=0.0,\n",
    "            batch_size=200,\n",
    "            num_epochs=1,\n",
    "            print_every=500,\n",
    "            verbose=True)"
   ]
  },
  {
   "cell_type": "code",
   "execution_count": 167,
   "metadata": {},
   "outputs": [
    {
     "name": "stdout",
     "output_type": "stream",
     "text": [
      "(Iteration 0 / 1852) train acc: 89.50%; val_acc: 84.80%; test_acc: 78.03%\n",
      "(Iteration 500 / 1852) train acc: 95.50%; val_acc: 97.20%; test_acc: 95.57%\n",
      "(Iteration 1000 / 1852) train acc: 98.00%; val_acc: 95.96%; test_acc: 94.47%\n",
      "(Iteration 1500 / 1852) train acc: 93.50%; val_acc: 92.59%; test_acc: 90.47%\n"
     ]
    }
   ],
   "source": [
    "model.train()"
   ]
  },
  {
   "cell_type": "code",
   "execution_count": 168,
   "metadata": {},
   "outputs": [
    {
     "data": {
      "text/plain": [
       "[]"
      ]
     },
     "execution_count": 168,
     "metadata": {},
     "output_type": "execute_result"
    },
    {
     "data": {
      "image/png": "[encoded data removed]",
      "text/plain": [
       "<matplotlib.figure.Figure at 0x117b75f90>"
      ]
     },
     "metadata": {},
     "output_type": "display_data"
    }
   ],
   "source": [
    "fig = plt.figure()\n",
    "ax = fig.add_subplot(1,1,1)\n",
    "ax.plot(range(len(model.loss_history)), model.loss_history, '-o')\n",
    "plt.plot()"
   ]
  },
  {
   "cell_type": "code",
   "execution_count": 169,
   "metadata": {},
   "outputs": [
    {
     "name": "stdout",
     "output_type": "stream",
     "text": [
      "5\n",
      "0.924 0.913351 0.876487\n"
     ]
    },
    {
     "data": {
      "image/png": "[encoded data removed]",
      "text/plain": [
       "<matplotlib.figure.Figure at 0x132384650>"
      ]
     },
     "metadata": {},
     "output_type": "display_data"
    }
   ],
   "source": [
    "plt_len = len(model.train_acc_history)\n",
    "print plt_len\n",
    "print np.mean(model.train_acc_history), np.mean(model.val_acc_history), np.mean(model.test_acc_history)\n",
    "plt.subplot(1,1,1)\n",
    "plt.title('Accuracy')\n",
    "plt.plot(model.train_acc_history, '-o', label='train')\n",
    "plt.plot(model.test_acc_history, '-o', label='test')\n",
    "plt.plot(model.val_acc_history, '-o', label='valid')\n",
    "# plt.plot([90] * plt_len, 'k--')\n",
    "plt.xlabel('Iteration/300')\n",
    "plt.legend(loc='lower right')\n",
    "plt.gcf().set_size_inches(12,8)\n",
    "plt.show()"
   ]
  },
  {
   "cell_type": "markdown",
   "metadata": {},
   "source": [
    "## Analysis"
   ]
  },
  {
   "cell_type": "code",
   "execution_count": 179,
   "metadata": {},
   "outputs": [],
   "source": [
    "def getConfusionMatrix(y_true, y_pred, header):\n",
    "    m = len(header)\n",
    "    y_true = np.argmax(y_true, axis=1)\n",
    "    y_pred = np.argmax(y_pred, axis=1)\n",
    "    mat = np.mat(np.zeros((m,m)))\n",
    "    for real, pred in zip(y_true,y_pred):\n",
    "        mat[real,pred] = mat[real,pred] + 1\n",
    "    return pd.DataFrame(data=mat, index= header, columns=header, dtype=int)\n",
    "\n",
    "def accuracy(predictions, labels):\n",
    "  return (100.0 * np.sum(np.argmax(predictions, 1) == np.argmax(labels, 1))\n",
    "          / predictions.shape[0])"
   ]
  },
  {
   "cell_type": "code",
   "execution_count": 180,
   "metadata": {},
   "outputs": [
    {
     "name": "stdout",
     "output_type": "stream",
     "text": [
      "79.6076237509\n"
     ]
    }
   ],
   "source": [
    "y_pred = model.predict(data['X_test'])\n",
    "print accuracy(y_pred, data['y_test'])"
   ]
  },
  {
   "cell_type": "code",
   "execution_count": 181,
   "metadata": {},
   "outputs": [
    {
     "data": {
      "text/html": [
       "<div>\n",
       "<style>\n",
       "    .dataframe thead tr:only-child th {\n",
       "        text-align: right;\n",
       "    }\n",
       "\n",
       "    .dataframe thead th {\n",
       "        text-align: left;\n",
       "    }\n",
       "\n",
       "    .dataframe tbody tr th {\n",
       "        vertical-align: top;\n",
       "    }\n",
       "</style>\n",
       "<table border=\"1\" class=\"dataframe\">\n",
       "  <thead>\n",
       "    <tr style=\"text-align: right;\">\n",
       "      <th></th>\n",
       "      <th>normal</th>\n",
       "      <th>probe</th>\n",
       "      <th>dos</th>\n",
       "      <th>u2r</th>\n",
       "      <th>r2l</th>\n",
       "    </tr>\n",
       "  </thead>\n",
       "  <tbody>\n",
       "    <tr>\n",
       "      <th>normal</th>\n",
       "      <td>30987</td>\n",
       "      <td>3851</td>\n",
       "      <td>41943</td>\n",
       "      <td>0</td>\n",
       "      <td>0</td>\n",
       "    </tr>\n",
       "    <tr>\n",
       "      <th>probe</th>\n",
       "      <td>1581</td>\n",
       "      <td>589</td>\n",
       "      <td>1996</td>\n",
       "      <td>0</td>\n",
       "      <td>0</td>\n",
       "    </tr>\n",
       "    <tr>\n",
       "      <th>dos</th>\n",
       "      <td>11992</td>\n",
       "      <td>1835</td>\n",
       "      <td>216026</td>\n",
       "      <td>0</td>\n",
       "      <td>0</td>\n",
       "    </tr>\n",
       "    <tr>\n",
       "      <th>u2r</th>\n",
       "      <td>177</td>\n",
       "      <td>49</td>\n",
       "      <td>2</td>\n",
       "      <td>0</td>\n",
       "      <td>0</td>\n",
       "    </tr>\n",
       "    <tr>\n",
       "      <th>r2l</th>\n",
       "      <td>0</td>\n",
       "      <td>0</td>\n",
       "      <td>0</td>\n",
       "      <td>0</td>\n",
       "      <td>0</td>\n",
       "    </tr>\n",
       "  </tbody>\n",
       "</table>\n",
       "</div>"
      ],
      "text/plain": [
       "        normal  probe     dos  u2r  r2l\n",
       "normal   30987   3851   41943    0    0\n",
       "probe     1581    589    1996    0    0\n",
       "dos      11992   1835  216026    0    0\n",
       "u2r        177     49       2    0    0\n",
       "r2l          0      0       0    0    0"
      ]
     },
     "execution_count": 181,
     "metadata": {},
     "output_type": "execute_result"
    }
   ],
   "source": [
    "confMatrix = getConfusionMatrix(data['y_test'], y_pred, ['normal', 'probe', 'dos', 'u2r', 'r2l'])\n",
    "confMatrix"
   ]
  },
  {
   "cell_type": "code",
   "execution_count": 79,
   "metadata": {
    "collapsed": true
   },
   "outputs": [],
   "source": [
    "#统计每个列别的precision TP/(TP + FN)检测率   Recall: TP/(TP + FP)对应误报率\n",
    "\n",
    "#negative对应的是正常的，positive对应的是attack.以此转换成二分类问题\n",
    "def precission_recall(predictions, actuals, negative=[0], positive=[1,2,3,4]):\n",
    "    pred_labels = np.argmax(predictions,axis=1)\n",
    "    actual_labels = np.argmax(actuals, axis=1)\n",
    "    TP = 0.0\n",
    "    TN = 0.0\n",
    "    FP = 0.0\n",
    "    FN = 0.0\n",
    "    test_size = predictions.shape[0]\n",
    "    for i in xrange(test_size):\n",
    "        if pred_labels[i] in positive:\n",
    "            if actual_labels[i] in positive:\n",
    "                TP += 1.0\n",
    "            else:\n",
    "                FP += 1.0\n",
    "        else:\n",
    "            if actual_labels[i] in negative:\n",
    "                TN += 1.0\n",
    "            else:\n",
    "                FN += 1.0\n",
    "    if TP + FN == 0:\n",
    "        print 'There is no positive in test'\n",
    "        precission = -1\n",
    "    else:\n",
    "        precission = TP / (TP + FN)\n",
    "    if TP + FP == 0:\n",
    "        print 'There is no positive in the prediction'\n",
    "        recall = -1\n",
    "    else:\n",
    "        recall = TP / (TP + FP)\n",
    "    return precission, recall"
   ]
  },
  {
   "cell_type": "code",
   "execution_count": 80,
   "metadata": {},
   "outputs": [
    {
     "name": "stdout",
     "output_type": "stream",
     "text": [
      "(290445,) (290445,)\n",
      "检测率: 96.97%\n",
      "误报率： 0.49%\n"
     ]
    }
   ],
   "source": [
    "#normal: 0 PROBE:1 DOS:2 U2R:3 R2L:4 Positive:1-4攻击； Negative:0 正常；\n",
    "last_test_pred = model.predict(data['X_test'])\n",
    "last_test_pred_idx = np.argmax(last_test_pred, axis=1)\n",
    "sub_test_idx = np.argmax(sub_test_labels.values[::],axis=1)\n",
    "print last_test_pred_idx.shape, sub_test_idx.shape\n",
    "\n",
    "precission, recall = precission_recall(last_test_pred, sub_test_labels.values[::], negative=[0], positive=[1])\n",
    "\n",
    "print '检测率: %.2f%%' % (precission * 100)\n",
    "print '误报率： %.2f%%' % (100 - recall * 100)"
   ]
  },
  {
   "cell_type": "code",
   "execution_count": 81,
   "metadata": {},
   "outputs": [
    {
     "name": "stdout",
     "output_type": "stream",
     "text": [
      "Test\n",
      "290445\n",
      "0: 60592\n",
      "2: 229853\n"
     ]
    }
   ],
   "source": [
    "print 'Test'\n",
    "print len(sub_test_labels)\n",
    "print '0:', np.sum(sub_test_labels.label_0 == 1)\n",
    "# print '1:', np.sum(sub_test_labels.label_1 == 1)\n",
    "print '2:', np.sum(sub_test_labels.label_2 == 1)\n",
    "# print '3:', np.sum(sub_test_labels.label_3 == 1)\n",
    "# print '4:', np.sum(sub_test_labels.label_4 == 1)"
   ]
  },
  {
   "cell_type": "code",
   "execution_count": 82,
   "metadata": {},
   "outputs": [
    {
     "name": "stdout",
     "output_type": "stream",
     "text": [
      "Prediction\n",
      "tot: 290445\n",
      "0: 66452\n",
      "1: 223993\n"
     ]
    }
   ],
   "source": [
    "pred = np.argmax(last_test_pred, axis=1)\n",
    "print 'Prediction'\n",
    "print 'tot:', pred.shape[0]\n",
    "print '0:', pred[pred==0].shape[0]\n",
    "print '1:', pred[pred==1].shape[0]\n",
    "# print '2:', pred[pred==2].shape[0]\n",
    "# print '3:', pred[pred==3].shape[0]\n",
    "# print '4:', pred[pred==4].shape[0]"
   ]
  },
  {
   "cell_type": "code",
   "execution_count": null,
   "metadata": {
    "collapsed": true
   },
   "outputs": [],
   "source": []
  }
 ],
 "metadata": {
  "colab": {
   "default_view": {},
   "name": "4_convolutions.ipynb",
   "provenance": [],
   "version": "0.3.2",
   "views": {}
  },
  "kernelspec": {
   "display_name": "Python 2",
   "language": "python",
   "name": "python2"
  },
  "language_info": {
   "codemirror_mode": {
    "name": "ipython",
    "version": 2
   },
   "file_extension": ".py",
   "mimetype": "text/x-python",
   "name": "python",
   "nbconvert_exporter": "python",
   "pygments_lexer": "ipython2",
   "version": "2.7.13"
  },
  "toc": {
   "colors": {
    "hover_highlight": "#DAA520",
    "navigate_num": "#000000",
    "navigate_text": "#333333",
    "running_highlight": "#FF0000",
    "selected_highlight": "#FFD700",
    "sidebar_border": "#EEEEEE",
    "wrapper_background": "#FFFFFF"
   },
   "moveMenuLeft": true,
   "nav_menu": {
    "height": "86px",
    "width": "252px"
   },
   "navigate_menu": true,
   "number_sections": true,
   "sideBar": true,
   "threshold": 4,
   "toc_cell": false,
   "toc_section_display": "block",
   "toc_window_display": false,
   "widenNotebook": false
  }
 },
 "nbformat": 4,
 "nbformat_minor": 1
}
