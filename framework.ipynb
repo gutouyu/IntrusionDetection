{
 "cells": [
  {
   "cell_type": "markdown",
   "metadata": {
    "colab_type": "text",
    "id": "4embtkV0pNxM"
   },
   "source": [
    "# Deep Learning\n",
    "\n",
    "## preprocessing training dataset"
   ]
  },
  {
   "cell_type": "code",
   "execution_count": 217,
   "metadata": {},
   "outputs": [
    {
     "name": "stdout",
     "output_type": "stream",
     "text": [
      "The autoreload extension is already loaded. To reload it, use:\n",
      "  %reload_ext autoreload\n"
     ]
    }
   ],
   "source": [
    "import os\n",
    "import numpy as np\n",
    "import tensorflow as tf\n",
    "import pandas as pd\n",
    "import matplotlib.pyplot as plt\n",
    "from MLP import MLP\n",
    "\n",
    "%matplotlib inline\n",
    "plt.rcParams['figure.figsize'] = (10.0, 8.0) # set default size of plots\n",
    "plt.rcParams['image.interpolation'] = 'nearest'\n",
    "plt.rcParams['image.cmap'] = 'gray'\n",
    "%load_ext autoreload\n",
    "%autoreload 2"
   ]
  },
  {
   "cell_type": "code",
   "execution_count": 246,
   "metadata": {},
   "outputs": [],
   "source": [
    "input_file_dir = \"../datasets\"\n",
    "train_file_name = \"kddcup.data_10_percent.txt\"\n",
    "test_file_name = \"corrected.txt\"\n",
    "header_file_name = \"header.txt\"\n",
    "train_files = os.path.join(input_file_dir, train_file_name)\n",
    "test_files = os.path.join(input_file_dir, test_file_name)\n",
    "header_files = os.path.join(input_file_dir, header_file_name)\n",
    "with open(header_files, 'r') as f:\n",
    "    header = f.readline().strip().split(',')\n",
    "train_dataset = pd.read_csv(train_files)\n",
    "test_dataset = pd.read_csv(test_files)\n",
    "train_dataset.columns = header\n",
    "test_dataset.columns = header"
   ]
  },
  {
   "cell_type": "code",
   "execution_count": 247,
   "metadata": {},
   "outputs": [],
   "source": [
    "def labels_map(label):\n",
    "    label = str(label).split('.')[0]\n",
    "    if label == 'normal':\n",
    "        return 0\n",
    "    if label in ['ipsweep', 'mscan', 'nmap', 'portsweep', 'saint', 'satan']: #PROBE\n",
    "        return 1\n",
    "    if label in ['apache2', 'back', 'land', 'mailbomb', 'neptune', 'pod', 'processtable', 'smurf', 'teardrop', 'udpstorm']: #DOS\n",
    "        return 2\n",
    "    if label in ['buffer_overflow', 'httptunnel', 'loadmodule', 'perl', 'ps', 'rootkit', 'sqlattack', 'xterm']: #U2R\n",
    "        return 3\n",
    "    if label in ['ftp_write', 'guess_passwd', 'imap', 'multihop', 'named', 'phf', 'sendmail', 'snmpgetattack', 'snmpguess', 'spy', 'warezclient', 'warezmaster', 'worm', 'xlock', 'xsnoop']: #R2L\n",
    "        return 4\n",
    "    \n",
    "train_dataset['labels'] = train_dataset['labels'].apply(labels_map)\n",
    "test_dataset['labels'] = test_dataset['labels'].apply(labels_map)"
   ]
  },
  {
   "cell_type": "code",
   "execution_count": 259,
   "metadata": {},
   "outputs": [
    {
     "ename": "ValueError",
     "evalue": "The truth value of a Series is ambiguous. Use a.empty, a.bool(), a.item(), a.any() or a.all().",
     "output_type": "error",
     "traceback": [
      "\u001b[0;31m---------------------------------------------------------------------------\u001b[0m",
      "\u001b[0;31mValueError\u001b[0m                                Traceback (most recent call last)",
      "\u001b[0;32m<ipython-input-259-c7e3b9e59be2>\u001b[0m in \u001b[0;36m<module>\u001b[0;34m()\u001b[0m\n\u001b[1;32m      1\u001b[0m \u001b[0;31m#只保留DOS 和 Normal\u001b[0m\u001b[0;34m\u001b[0m\u001b[0;34m\u001b[0m\u001b[0m\n\u001b[1;32m      2\u001b[0m \u001b[0mtotal_labels\u001b[0m \u001b[0;34m=\u001b[0m \u001b[0;34m[\u001b[0m\u001b[0;36m0\u001b[0m\u001b[0;34m,\u001b[0m\u001b[0;36m2\u001b[0m\u001b[0;34m]\u001b[0m\u001b[0;34m\u001b[0m\u001b[0m\n\u001b[0;32m----> 3\u001b[0;31m \u001b[0mmask\u001b[0m \u001b[0;34m=\u001b[0m \u001b[0mnp\u001b[0m\u001b[0;34m.\u001b[0m\u001b[0marray\u001b[0m\u001b[0;34m(\u001b[0m\u001b[0;34m[\u001b[0m\u001b[0mtrain_dataset\u001b[0m\u001b[0;34m[\u001b[0m\u001b[0;34m'labels'\u001b[0m\u001b[0;34m]\u001b[0m \u001b[0;32min\u001b[0m \u001b[0mtotal_labels\u001b[0m\u001b[0;34m]\u001b[0m\u001b[0;34m)\u001b[0m\u001b[0;34m.\u001b[0m\u001b[0mreshape\u001b[0m\u001b[0;34m(\u001b[0m\u001b[0;34m(\u001b[0m\u001b[0;34m-\u001b[0m\u001b[0;36m1\u001b[0m\u001b[0;34m,\u001b[0m \u001b[0mlen\u001b[0m\u001b[0;34m(\u001b[0m\u001b[0mtotal_labels\u001b[0m\u001b[0;34m)\u001b[0m\u001b[0;34m)\u001b[0m\u001b[0;34m)\u001b[0m\u001b[0;34m\u001b[0m\u001b[0m\n\u001b[0m\u001b[1;32m      4\u001b[0m \u001b[0mtest\u001b[0m \u001b[0;34m=\u001b[0m \u001b[0mtrain_dataset\u001b[0m\u001b[0;34m[\u001b[0m\u001b[0mmask\u001b[0m\u001b[0;34m]\u001b[0m\u001b[0;34m\u001b[0m\u001b[0m\n\u001b[1;32m      5\u001b[0m \u001b[0;31m# train_dataset = train_dataset[(train_dataset['labels']==0) | (train_dataset['labels']==2)]\u001b[0m\u001b[0;34m\u001b[0m\u001b[0;34m\u001b[0m\u001b[0m\n",
      "\u001b[0;32m/Users/ninglee/anaconda/lib/python2.7/site-packages/pandas/core/generic.pyc\u001b[0m in \u001b[0;36m__nonzero__\u001b[0;34m(self)\u001b[0m\n\u001b[1;32m    953\u001b[0m         raise ValueError(\"The truth value of a {0} is ambiguous. \"\n\u001b[1;32m    954\u001b[0m                          \u001b[0;34m\"Use a.empty, a.bool(), a.item(), a.any() or a.all().\"\u001b[0m\u001b[0;34m\u001b[0m\u001b[0m\n\u001b[0;32m--> 955\u001b[0;31m                          .format(self.__class__.__name__))\n\u001b[0m\u001b[1;32m    956\u001b[0m \u001b[0;34m\u001b[0m\u001b[0m\n\u001b[1;32m    957\u001b[0m     \u001b[0m__bool__\u001b[0m \u001b[0;34m=\u001b[0m \u001b[0m__nonzero__\u001b[0m\u001b[0;34m\u001b[0m\u001b[0m\n",
      "\u001b[0;31mValueError\u001b[0m: The truth value of a Series is ambiguous. Use a.empty, a.bool(), a.item(), a.any() or a.all()."
     ]
    }
   ],
   "source": [
    "#只保留DOS 和 Normal\n",
    "train_dataset = train_dataset[(train_dataset['labels']==0) | (train_dataset['labels']==2)]\n",
    "test_dataset = test_dataset[(test_dataset['labels']==0) | (test_dataset['labels'] == 2)]"
   ]
  },
  {
   "cell_type": "code",
   "execution_count": 258,
   "metadata": {},
   "outputs": [
    {
     "name": "stdout",
     "output_type": "stream",
     "text": [
      "(494020, 2)\n",
      "[[ True  True]\n",
      " [ True  True]\n",
      " [ True  True]\n",
      " ..., \n",
      " [False False]\n",
      " [False False]\n",
      " [False False]]\n",
      "(494020, 42)\n"
     ]
    }
   ],
   "source": [
    "print mask.shape\n",
    "print mask\n",
    "print train_dataset.shape"
   ]
  },
  {
   "cell_type": "code",
   "execution_count": 140,
   "metadata": {},
   "outputs": [
    {
     "data": {
      "text/plain": [
       "2    391459\n",
       "0     97276\n",
       "1      4107\n",
       "4      1126\n",
       "3        52\n",
       "Name: labels, dtype: int64"
      ]
     },
     "execution_count": 140,
     "metadata": {},
     "output_type": "execute_result"
    }
   ],
   "source": [
    "# 查看各个类别的个数、比例\n",
    "train_dataset['labels'].value_counts()"
   ]
  },
  {
   "cell_type": "code",
   "execution_count": 143,
   "metadata": {},
   "outputs": [
    {
     "name": "stdout",
     "output_type": "stream",
     "text": [
      "Train dataset:  370515\n",
      "Valid dataset:  123505\n",
      "Test  dataset:  311028\n"
     ]
    }
   ],
   "source": [
    "from sklearn.model_selection import train_test_split\n",
    "# dataset\n",
    "train_dataset, valid_dataset, _, _ = train_test_split(train_dataset, train_dataset['labels'], test_size=0.25, random_state=42)\n",
    "train_dataset_size = train_dataset.shape[0]\n",
    "valid_dataset_size = valid_dataset.shape[0]\n",
    "test_dataset_size = test_dataset.shape[0]\n",
    "print 'Train dataset: ', train_dataset_size\n",
    "print 'Valid dataset: ', valid_dataset_size\n",
    "print 'Test  dataset: ', test_dataset_size"
   ]
  },
  {
   "cell_type": "code",
   "execution_count": 144,
   "metadata": {},
   "outputs": [],
   "source": [
    "#获取验证集\n",
    "# val_frac=0.25\n",
    "# valid_dataset_neg = train_dataset[(train_dataset['labels']==0)].sample(frac=val_frac)\n",
    "# valid_dataset_pos = train_dataset[(train_dataset['labels']==2)].sample(frac=val_frac)\n",
    "# valid_dataset = pd.concat([valid_dataset_neg, valid_dataset_pos], axis=0)\n",
    "\n",
    "# #train_dataset中分离出valid_dataset\n",
    "# train_dataset = train_dataset.select(lambda x: x not in valid_dataset.index, axis=0)\n",
    "\n",
    "\n",
    "# train_dataset_size = train_dataset.shape[0]\n",
    "# valid_dataset_size = valid_dataset.shape[0]\n",
    "# test_dataset_size = test_dataset.shape[0]\n",
    "\n",
    "# print 'Train dataset: ', train_dataset_size\n",
    "# print 'Valid dataset: ', valid_dataset_size\n",
    "# print 'Test  dataset: ', test_dataset_size"
   ]
  },
  {
   "cell_type": "code",
   "execution_count": 145,
   "metadata": {
    "collapsed": true
   },
   "outputs": [],
   "source": [
    "combine = pd.concat([train_dataset,valid_dataset, test_dataset], axis=0)"
   ]
  },
  {
   "cell_type": "code",
   "execution_count": 146,
   "metadata": {},
   "outputs": [],
   "source": [
    "# labels独热编码\n",
    "labels_dummies = pd.get_dummies(combine['labels'], prefix='label')\n",
    "combine = pd.concat([combine,labels_dummies], axis=1)"
   ]
  },
  {
   "cell_type": "code",
   "execution_count": 147,
   "metadata": {
    "scrolled": true
   },
   "outputs": [
    {
     "data": {
      "text/html": [
       "<div>\n",
       "<style>\n",
       "    .dataframe thead tr:only-child th {\n",
       "        text-align: right;\n",
       "    }\n",
       "\n",
       "    .dataframe thead th {\n",
       "        text-align: left;\n",
       "    }\n",
       "\n",
       "    .dataframe tbody tr th {\n",
       "        vertical-align: top;\n",
       "    }\n",
       "</style>\n",
       "<table border=\"1\" class=\"dataframe\">\n",
       "  <thead>\n",
       "    <tr style=\"text-align: right;\">\n",
       "      <th></th>\n",
       "      <th>duration</th>\n",
       "      <th>protocol_type</th>\n",
       "      <th>service</th>\n",
       "      <th>flag</th>\n",
       "      <th>src_bytes</th>\n",
       "      <th>dst_bytes</th>\n",
       "      <th>land</th>\n",
       "      <th>wrong_fragment</th>\n",
       "      <th>urgent</th>\n",
       "      <th>hot</th>\n",
       "      <th>...</th>\n",
       "      <th>dst_host_serror_rate</th>\n",
       "      <th>dst_host_srv_serror_rate</th>\n",
       "      <th>dst_host_rerror_rate</th>\n",
       "      <th>dst_host_srv_rerror_rate</th>\n",
       "      <th>labels</th>\n",
       "      <th>label_0</th>\n",
       "      <th>label_1</th>\n",
       "      <th>label_2</th>\n",
       "      <th>label_3</th>\n",
       "      <th>label_4</th>\n",
       "    </tr>\n",
       "  </thead>\n",
       "  <tbody>\n",
       "    <tr>\n",
       "      <th>0</th>\n",
       "      <td>0</td>\n",
       "      <td>tcp</td>\n",
       "      <td>ftp_data</td>\n",
       "      <td>SF</td>\n",
       "      <td>383</td>\n",
       "      <td>0</td>\n",
       "      <td>0</td>\n",
       "      <td>0</td>\n",
       "      <td>0</td>\n",
       "      <td>0</td>\n",
       "      <td>...</td>\n",
       "      <td>0.00</td>\n",
       "      <td>0.00</td>\n",
       "      <td>0.0</td>\n",
       "      <td>0.0</td>\n",
       "      <td>0</td>\n",
       "      <td>1</td>\n",
       "      <td>0</td>\n",
       "      <td>0</td>\n",
       "      <td>0</td>\n",
       "      <td>0</td>\n",
       "    </tr>\n",
       "    <tr>\n",
       "      <th>1</th>\n",
       "      <td>0</td>\n",
       "      <td>icmp</td>\n",
       "      <td>ecr_i</td>\n",
       "      <td>SF</td>\n",
       "      <td>1032</td>\n",
       "      <td>0</td>\n",
       "      <td>0</td>\n",
       "      <td>0</td>\n",
       "      <td>0</td>\n",
       "      <td>0</td>\n",
       "      <td>...</td>\n",
       "      <td>0.00</td>\n",
       "      <td>0.00</td>\n",
       "      <td>0.0</td>\n",
       "      <td>0.0</td>\n",
       "      <td>2</td>\n",
       "      <td>0</td>\n",
       "      <td>0</td>\n",
       "      <td>1</td>\n",
       "      <td>0</td>\n",
       "      <td>0</td>\n",
       "    </tr>\n",
       "    <tr>\n",
       "      <th>2</th>\n",
       "      <td>64</td>\n",
       "      <td>tcp</td>\n",
       "      <td>ftp</td>\n",
       "      <td>SF</td>\n",
       "      <td>1205</td>\n",
       "      <td>3380</td>\n",
       "      <td>0</td>\n",
       "      <td>0</td>\n",
       "      <td>0</td>\n",
       "      <td>24</td>\n",
       "      <td>...</td>\n",
       "      <td>0.02</td>\n",
       "      <td>0.05</td>\n",
       "      <td>0.0</td>\n",
       "      <td>0.0</td>\n",
       "      <td>0</td>\n",
       "      <td>1</td>\n",
       "      <td>0</td>\n",
       "      <td>0</td>\n",
       "      <td>0</td>\n",
       "      <td>0</td>\n",
       "    </tr>\n",
       "    <tr>\n",
       "      <th>3</th>\n",
       "      <td>0</td>\n",
       "      <td>icmp</td>\n",
       "      <td>ecr_i</td>\n",
       "      <td>SF</td>\n",
       "      <td>1032</td>\n",
       "      <td>0</td>\n",
       "      <td>0</td>\n",
       "      <td>0</td>\n",
       "      <td>0</td>\n",
       "      <td>0</td>\n",
       "      <td>...</td>\n",
       "      <td>0.00</td>\n",
       "      <td>0.00</td>\n",
       "      <td>0.0</td>\n",
       "      <td>0.0</td>\n",
       "      <td>2</td>\n",
       "      <td>0</td>\n",
       "      <td>0</td>\n",
       "      <td>1</td>\n",
       "      <td>0</td>\n",
       "      <td>0</td>\n",
       "    </tr>\n",
       "    <tr>\n",
       "      <th>4</th>\n",
       "      <td>0</td>\n",
       "      <td>icmp</td>\n",
       "      <td>ecr_i</td>\n",
       "      <td>SF</td>\n",
       "      <td>1032</td>\n",
       "      <td>0</td>\n",
       "      <td>0</td>\n",
       "      <td>0</td>\n",
       "      <td>0</td>\n",
       "      <td>0</td>\n",
       "      <td>...</td>\n",
       "      <td>0.00</td>\n",
       "      <td>0.00</td>\n",
       "      <td>0.0</td>\n",
       "      <td>0.0</td>\n",
       "      <td>2</td>\n",
       "      <td>0</td>\n",
       "      <td>0</td>\n",
       "      <td>1</td>\n",
       "      <td>0</td>\n",
       "      <td>0</td>\n",
       "    </tr>\n",
       "  </tbody>\n",
       "</table>\n",
       "<p>5 rows × 47 columns</p>\n",
       "</div>"
      ],
      "text/plain": [
       "   duration protocol_type   service flag  src_bytes  dst_bytes  land  \\\n",
       "0         0           tcp  ftp_data   SF        383          0     0   \n",
       "1         0          icmp     ecr_i   SF       1032          0     0   \n",
       "2        64           tcp       ftp   SF       1205       3380     0   \n",
       "3         0          icmp     ecr_i   SF       1032          0     0   \n",
       "4         0          icmp     ecr_i   SF       1032          0     0   \n",
       "\n",
       "   wrong_fragment  urgent  hot   ...     dst_host_serror_rate  \\\n",
       "0               0       0    0   ...                     0.00   \n",
       "1               0       0    0   ...                     0.00   \n",
       "2               0       0   24   ...                     0.02   \n",
       "3               0       0    0   ...                     0.00   \n",
       "4               0       0    0   ...                     0.00   \n",
       "\n",
       "   dst_host_srv_serror_rate  dst_host_rerror_rate  dst_host_srv_rerror_rate  \\\n",
       "0                      0.00                   0.0                       0.0   \n",
       "1                      0.00                   0.0                       0.0   \n",
       "2                      0.05                   0.0                       0.0   \n",
       "3                      0.00                   0.0                       0.0   \n",
       "4                      0.00                   0.0                       0.0   \n",
       "\n",
       "   labels  label_0  label_1  label_2  label_3  label_4  \n",
       "0       0        1        0        0        0        0  \n",
       "1       2        0        0        1        0        0  \n",
       "2       0        1        0        0        0        0  \n",
       "3       2        0        0        1        0        0  \n",
       "4       2        0        0        1        0        0  \n",
       "\n",
       "[5 rows x 47 columns]"
      ]
     },
     "execution_count": 147,
     "metadata": {},
     "output_type": "execute_result"
    }
   ],
   "source": [
    "combine.index = range(len(combine))\n",
    "combine.head()"
   ]
  },
  {
   "cell_type": "code",
   "execution_count": 148,
   "metadata": {},
   "outputs": [
    {
     "name": "stdout",
     "output_type": "stream",
     "text": [
      "icmp    448571\n",
      "tcp     309421\n",
      "udp      47056\n",
      "Name: protocol_type, dtype: int64\n"
     ]
    }
   ],
   "source": [
    "# 独热编码 protocol_type\n",
    "print combine.protocol_type.value_counts()\n",
    "protocal_type_dummies = pd.get_dummies(combine.protocol_type, prefix='protocol_type')"
   ]
  },
  {
   "cell_type": "code",
   "execution_count": 149,
   "metadata": {},
   "outputs": [
    {
     "data": {
      "text/plain": [
       "protocol_type  labels\n",
       "icmp           2         445232\n",
       "               1           1669\n",
       "               0           1666\n",
       "               4              4\n",
       "tcp            2         175087\n",
       "               0         120929\n",
       "               4           7159\n",
       "               1           5969\n",
       "               3            277\n",
       "udp            0          35273\n",
       "               4          10152\n",
       "               2            993\n",
       "               1            635\n",
       "               3              3\n",
       "Name: labels, dtype: int64"
      ]
     },
     "execution_count": 149,
     "metadata": {},
     "output_type": "execute_result"
    }
   ],
   "source": [
    "combine.groupby(['protocol_type'])['labels'].value_counts()"
   ]
  },
  {
   "cell_type": "code",
   "execution_count": 150,
   "metadata": {},
   "outputs": [],
   "source": [
    "# Service \n",
    "# 共有66个 暂时先去掉\n",
    "# combine.service.value_counts()\n",
    "# combine.groupby(['labels'])['service'].value_counts()\n",
    "# service_dummies = pd.get_dummies(combine.service, prefix='service')"
   ]
  },
  {
   "cell_type": "code",
   "execution_count": 151,
   "metadata": {},
   "outputs": [
    {
     "name": "stdout",
     "output_type": "stream",
     "text": [
      "SF        626816\n",
      "S0        105020\n",
      "REJ        68820\n",
      "RSTO        1972\n",
      "RSTR        1775\n",
      "S3           299\n",
      "SH           191\n",
      "S1            84\n",
      "S2            46\n",
      "RSTOS0        13\n",
      "OTH           12\n",
      "Name: flag, dtype: int64\n"
     ]
    }
   ],
   "source": [
    "# flag\n",
    "print combine.flag.value_counts()\n",
    "flag_dummies = pd.get_dummies(combine.flag, prefix='flag')\n",
    "# combine.groupby(['flag'])['labels'].value_counts()"
   ]
  },
  {
   "cell_type": "code",
   "execution_count": 152,
   "metadata": {
    "collapsed": true
   },
   "outputs": [],
   "source": [
    "# src_bytes & dst_bytes 去中心化\n",
    "\n",
    "# Method 1: 去中心化\n",
    "combine['src_bytes_norm'] = combine.src_bytes - combine.src_bytes.mean()\n",
    "combine['dst_bytes_norm'] = combine.dst_bytes - combine.dst_bytes.mean()"
   ]
  },
  {
   "cell_type": "code",
   "execution_count": 153,
   "metadata": {
    "collapsed": true
   },
   "outputs": [],
   "source": [
    "# 组合\n",
    "# 各个独热编码 protocal_type, flag , 暂时去掉 service_dummies\n",
    "combine = pd.concat([combine, protocal_type_dummies, flag_dummies], axis=1)\n",
    "\n",
    "# 删除不用的属性\n",
    "combine = combine.drop(['protocol_type', 'service', 'flag', 'src_bytes', 'dst_bytes', 'labels'], axis=1)\n",
    "combine = combine.astype('float')"
   ]
  },
  {
   "cell_type": "markdown",
   "metadata": {},
   "source": [
    "## preprocessing labels"
   ]
  },
  {
   "cell_type": "code",
   "execution_count": 154,
   "metadata": {},
   "outputs": [],
   "source": [
    "#分离出Train Valid Test \n",
    "sub_train_dataset = combine.iloc[:train_dataset_size, :].sample(frac=1)\n",
    "sub_valid_dataset = combine.iloc[train_dataset_size: train_dataset_size+valid_dataset_size, :].sample(frac=1)\n",
    "sub_test_dataset = combine.iloc[train_dataset_size+valid_dataset_size:, :].sample(frac=1)"
   ]
  },
  {
   "cell_type": "code",
   "execution_count": 155,
   "metadata": {},
   "outputs": [
    {
     "name": "stdout",
     "output_type": "stream",
     "text": [
      "Sub Trian:  (370515, 53) (370515, 4)\n",
      "Sub Valid:  (123505, 53) (123505, 4)\n",
      "Sub Test :  (311028, 53) (311028, 4)\n"
     ]
    }
   ],
   "source": [
    "# 分离出 label\n",
    "total_labels = ['label_%d' % i  for i in [0,1,2,3]]\n",
    "\n",
    "sub_train_labels = sub_train_dataset[total_labels]\n",
    "sub_valid_labels = sub_valid_dataset[total_labels]\n",
    "sub_test_labels = sub_test_dataset[total_labels]\n",
    "sub_train_dataset.drop(total_labels, axis=1, inplace=True)\n",
    "sub_valid_dataset.drop(total_labels, axis=1, inplace=True)\n",
    "sub_test_dataset.drop(total_labels, axis=1, inplace=True)\n",
    "\n",
    "print 'Sub Trian: ', sub_train_dataset.shape, sub_train_labels.shape\n",
    "print 'Sub Valid: ', sub_valid_dataset.shape, sub_valid_labels.shape\n",
    "print 'Sub Test : ', sub_test_dataset.shape, sub_test_labels.shape"
   ]
  },
  {
   "cell_type": "markdown",
   "metadata": {},
   "source": [
    "## model1: MLP"
   ]
  },
  {
   "cell_type": "code",
   "execution_count": 162,
   "metadata": {},
   "outputs": [
    {
     "name": "stdout",
     "output_type": "stream",
     "text": [
      "X_val (123505, 53)\n",
      "X_train (370515, 53)\n",
      "X_test (311028, 53)\n",
      "y_val (123505, 4)\n",
      "y_train (370515, 4)\n",
      "y_test (311028, 4)\n"
     ]
    }
   ],
   "source": [
    "data = {\n",
    "    'X_train': sub_train_dataset.values[:,:],\n",
    "    'y_train': sub_train_labels.values[:,:],\n",
    "    'X_val': sub_valid_dataset.as_matrix(),\n",
    "    'y_val': sub_valid_labels.as_matrix(),\n",
    "    'X_test': sub_test_dataset.as_matrix(),\n",
    "    'y_test': sub_test_labels.as_matrix()\n",
    "}\n",
    "for k, v in data.iteritems():\n",
    "    print k, v.shape"
   ]
  },
  {
   "cell_type": "code",
   "execution_count": 210,
   "metadata": {
    "collapsed": true
   },
   "outputs": [],
   "source": [
    "input_dim = data['X_train'].shape[1]\n",
    "output_dim = data['y_train'].shape[1]\n",
    "# model = MLP(data, input_dim, [512],output_dim,\n",
    "#             learning_rate=1e-5, #1e-6\n",
    "#             dropout_prob=0.0,\n",
    "#             l2_strength=0.0,\n",
    "#             batch_size=200,\n",
    "#             num_epochs=1,\n",
    "#             print_every=500,\n",
    "#             verbose=True)\n",
    "\n",
    "model = MLP(data, input_dim, [512],output_dim,\n",
    "            learning_rate=1e-6, #1e-6\n",
    "            dropout_prob=0.0,\n",
    "            l2_strength=0.0,\n",
    "            batch_size=200,\n",
    "            num_epochs=15,\n",
    "            print_every=1,\n",
    "            verbose=True)"
   ]
  },
  {
   "cell_type": "code",
   "execution_count": 211,
   "metadata": {
    "scrolled": true
   },
   "outputs": [
    {
     "name": "stdout",
     "output_type": "stream",
     "text": [
      "(Iteration 0 / 27780) train acc: 0.50%; val_acc: 0.28%; test_acc: 0.71%\n",
      "(Iteration 1 / 27780) train acc: 0.50%; val_acc: 0.28%; test_acc: 0.69%\n",
      "(Iteration 2 / 27780) train acc: 1.50%; val_acc: 0.27%; test_acc: 0.68%\n",
      "(Iteration 3 / 27780) train acc: 0.00%; val_acc: 0.27%; test_acc: 0.67%\n",
      "(Iteration 4 / 27780) train acc: 1.00%; val_acc: 0.28%; test_acc: 0.67%\n",
      "(Iteration 5 / 27780) train acc: 0.00%; val_acc: 0.29%; test_acc: 0.68%\n",
      "(Iteration 6 / 27780) train acc: 14.00%; val_acc: 12.67%; test_acc: 9.70%\n",
      "(Iteration 7 / 27780) train acc: 26.50%; val_acc: 21.22%; test_acc: 18.36%\n",
      "(Iteration 8 / 27780) train acc: 21.00%; val_acc: 22.36%; test_acc: 19.59%\n",
      "(Iteration 9 / 27780) train acc: 26.00%; val_acc: 23.23%; test_acc: 20.48%\n",
      "(Iteration 10 / 27780) train acc: 23.50%; val_acc: 23.93%; test_acc: 21.26%\n",
      "(Iteration 11 / 27780) train acc: 28.00%; val_acc: 24.68%; test_acc: 22.17%\n",
      "(Iteration 12 / 27780) train acc: 29.50%; val_acc: 27.39%; test_acc: 22.29%\n",
      "(Iteration 13 / 27780) train acc: 36.00%; val_acc: 35.46%; test_acc: 39.93%\n",
      "(Iteration 14 / 27780) train acc: 40.50%; val_acc: 35.60%; test_acc: 40.09%\n",
      "(Iteration 15 / 27780) train acc: 39.50%; val_acc: 35.65%; test_acc: 40.16%\n",
      "(Iteration 16 / 27780) train acc: 33.50%; val_acc: 35.71%; test_acc: 50.64%\n",
      "(Iteration 17 / 27780) train acc: 39.50%; val_acc: 35.79%; test_acc: 50.74%\n",
      "(Iteration 18 / 27780) train acc: 32.00%; val_acc: 36.02%; test_acc: 50.99%\n",
      "(Iteration 19 / 27780) train acc: 41.50%; val_acc: 36.07%; test_acc: 51.05%\n",
      "(Iteration 20 / 27780) train acc: 37.50%; val_acc: 36.10%; test_acc: 51.08%\n",
      "(Iteration 21 / 27780) train acc: 38.50%; val_acc: 36.16%; test_acc: 51.14%\n",
      "(Iteration 22 / 27780) train acc: 40.00%; val_acc: 36.19%; test_acc: 51.17%\n",
      "(Iteration 23 / 27780) train acc: 42.00%; val_acc: 36.24%; test_acc: 51.22%\n",
      "(Iteration 24 / 27780) train acc: 37.50%; val_acc: 36.26%; test_acc: 51.24%\n",
      "(Iteration 25 / 27780) train acc: 37.00%; val_acc: 36.44%; test_acc: 51.52%\n",
      "(Iteration 26 / 27780) train acc: 76.50%; val_acc: 82.68%; test_acc: 75.95%\n",
      "(Iteration 27 / 27780) train acc: 77.50%; val_acc: 82.71%; test_acc: 75.99%\n",
      "(Iteration 28 / 27780) train acc: 44.50%; val_acc: 43.48%; test_acc: 57.82%\n",
      "(Iteration 29 / 27780) train acc: 82.00%; val_acc: 82.80%; test_acc: 76.08%\n",
      "(Iteration 30 / 27780) train acc: 80.50%; val_acc: 82.83%; test_acc: 76.12%\n",
      "(Iteration 31 / 27780) train acc: 35.50%; val_acc: 36.70%; test_acc: 51.77%\n",
      "(Iteration 32 / 27780) train acc: 86.00%; val_acc: 82.89%; test_acc: 76.17%\n",
      "(Iteration 33 / 27780) train acc: 81.00%; val_acc: 82.92%; test_acc: 76.21%\n",
      "(Iteration 34 / 27780) train acc: 87.50%; val_acc: 82.94%; test_acc: 76.24%\n",
      "(Iteration 35 / 27780) train acc: 77.50%; val_acc: 82.99%; test_acc: 76.29%\n",
      "(Iteration 36 / 27780) train acc: 79.50%; val_acc: 83.04%; test_acc: 76.34%\n",
      "(Iteration 37 / 27780) train acc: 36.50%; val_acc: 37.22%; test_acc: 52.13%\n",
      "(Iteration 38 / 27780) train acc: 86.00%; val_acc: 83.46%; test_acc: 76.67%\n",
      "(Iteration 39 / 27780) train acc: 80.50%; val_acc: 83.52%; test_acc: 76.73%\n",
      "(Iteration 40 / 27780) train acc: 81.50%; val_acc: 83.58%; test_acc: 76.78%\n",
      "(Iteration 41 / 27780) train acc: 36.50%; val_acc: 37.47%; test_acc: 52.45%\n",
      "(Iteration 42 / 27780) train acc: 88.50%; val_acc: 83.67%; test_acc: 76.85%\n",
      "(Iteration 43 / 27780) train acc: 85.00%; val_acc: 83.72%; test_acc: 76.90%\n",
      "(Iteration 44 / 27780) train acc: 80.50%; val_acc: 83.78%; test_acc: 76.96%\n",
      "(Iteration 45 / 27780) train acc: 39.00%; val_acc: 37.68%; test_acc: 52.63%\n",
      "(Iteration 46 / 27780) train acc: 81.50%; val_acc: 83.95%; test_acc: 77.10%\n",
      "(Iteration 47 / 27780) train acc: 84.00%; val_acc: 84.01%; test_acc: 77.16%\n",
      "(Iteration 48 / 27780) train acc: 83.00%; val_acc: 84.07%; test_acc: 77.21%\n",
      "(Iteration 49 / 27780) train acc: 83.00%; val_acc: 84.14%; test_acc: 77.26%\n",
      "(Iteration 50 / 27780) train acc: 43.00%; val_acc: 44.82%; test_acc: 59.10%\n",
      "(Iteration 51 / 27780) train acc: 77.00%; val_acc: 84.25%; test_acc: 77.39%\n",
      "(Iteration 52 / 27780) train acc: 80.00%; val_acc: 84.33%; test_acc: 77.46%\n",
      "(Iteration 53 / 27780) train acc: 80.50%; val_acc: 84.40%; test_acc: 77.54%\n",
      "(Iteration 54 / 27780) train acc: 38.00%; val_acc: 38.40%; test_acc: 53.27%\n",
      "(Iteration 55 / 27780) train acc: 82.00%; val_acc: 84.48%; test_acc: 77.64%\n",
      "(Iteration 56 / 27780) train acc: 82.00%; val_acc: 84.56%; test_acc: 77.73%\n",
      "(Iteration 57 / 27780) train acc: 89.00%; val_acc: 84.60%; test_acc: 77.77%\n",
      "(Iteration 58 / 27780) train acc: 89.50%; val_acc: 84.65%; test_acc: 77.82%\n",
      "(Iteration 59 / 27780) train acc: 84.50%; val_acc: 84.70%; test_acc: 77.88%\n",
      "(Iteration 60 / 27780) train acc: 42.00%; val_acc: 38.60%; test_acc: 53.59%\n",
      "(Iteration 61 / 27780) train acc: 86.50%; val_acc: 84.85%; test_acc: 78.05%\n",
      "(Iteration 62 / 27780) train acc: 86.50%; val_acc: 84.92%; test_acc: 78.12%\n",
      "(Iteration 63 / 27780) train acc: 41.50%; val_acc: 40.22%; test_acc: 55.62%\n",
      "(Iteration 64 / 27780) train acc: 81.00%; val_acc: 85.04%; test_acc: 78.23%\n",
      "(Iteration 65 / 27780) train acc: 84.00%; val_acc: 85.12%; test_acc: 78.32%\n",
      "(Iteration 66 / 27780) train acc: 82.50%; val_acc: 85.22%; test_acc: 78.41%\n",
      "(Iteration 67 / 27780) train acc: 87.50%; val_acc: 85.30%; test_acc: 78.48%\n",
      "(Iteration 68 / 27780) train acc: 42.50%; val_acc: 39.63%; test_acc: 54.54%\n",
      "(Iteration 69 / 27780) train acc: 85.50%; val_acc: 85.42%; test_acc: 78.60%\n",
      "(Iteration 70 / 27780) train acc: 82.50%; val_acc: 85.51%; test_acc: 78.70%\n",
      "(Iteration 71 / 27780) train acc: 91.50%; val_acc: 85.57%; test_acc: 78.75%\n",
      "(Iteration 72 / 27780) train acc: 88.50%; val_acc: 85.62%; test_acc: 78.81%\n",
      "(Iteration 73 / 27780) train acc: 87.00%; val_acc: 85.69%; test_acc: 78.86%\n",
      "(Iteration 74 / 27780) train acc: 85.50%; val_acc: 85.78%; test_acc: 78.94%\n",
      "(Iteration 75 / 27780) train acc: 89.50%; val_acc: 85.85%; test_acc: 78.99%\n",
      "(Iteration 76 / 27780) train acc: 40.00%; val_acc: 39.75%; test_acc: 54.68%\n",
      "(Iteration 77 / 27780) train acc: 84.00%; val_acc: 85.96%; test_acc: 79.09%\n",
      "(Iteration 78 / 27780) train acc: 87.00%; val_acc: 86.05%; test_acc: 79.15%\n",
      "(Iteration 79 / 27780) train acc: 84.50%; val_acc: 86.14%; test_acc: 79.22%\n",
      "(Iteration 80 / 27780) train acc: 39.50%; val_acc: 40.19%; test_acc: 54.96%\n",
      "(Iteration 81 / 27780) train acc: 88.50%; val_acc: 86.22%; test_acc: 79.28%\n",
      "(Iteration 82 / 27780) train acc: 88.00%; val_acc: 86.28%; test_acc: 79.33%\n",
      "(Iteration 83 / 27780) train acc: 89.50%; val_acc: 86.34%; test_acc: 79.38%\n",
      "(Iteration 84 / 27780) train acc: 88.00%; val_acc: 86.43%; test_acc: 79.47%\n",
      "(Iteration 85 / 27780) train acc: 91.50%; val_acc: 86.49%; test_acc: 79.49%\n",
      "(Iteration 86 / 27780) train acc: 40.00%; val_acc: 40.55%; test_acc: 50.38%\n",
      "(Iteration 87 / 27780) train acc: 85.50%; val_acc: 86.59%; test_acc: 78.57%\n",
      "(Iteration 88 / 27780) train acc: 90.50%; val_acc: 86.66%; test_acc: 71.63%\n",
      "(Iteration 89 / 27780) train acc: 91.00%; val_acc: 86.73%; test_acc: 69.35%\n",
      "(Iteration 90 / 27780) train acc: 85.00%; val_acc: 86.85%; test_acc: 69.36%\n",
      "(Iteration 91 / 27780) train acc: 89.50%; val_acc: 86.94%; test_acc: 69.44%\n",
      "(Iteration 92 / 27780) train acc: 42.50%; val_acc: 40.93%; test_acc: 45.16%\n",
      "(Iteration 93 / 27780) train acc: 88.50%; val_acc: 87.09%; test_acc: 69.67%\n",
      "(Iteration 94 / 27780) train acc: 44.50%; val_acc: 41.23%; test_acc: 45.50%\n",
      "(Iteration 95 / 27780) train acc: 88.50%; val_acc: 87.24%; test_acc: 69.78%\n",
      "(Iteration 96 / 27780) train acc: 90.00%; val_acc: 87.50%; test_acc: 69.95%\n",
      "(Iteration 97 / 27780) train acc: 88.50%; val_acc: 88.33%; test_acc: 71.65%\n",
      "(Iteration 98 / 27780) train acc: 90.00%; val_acc: 89.88%; test_acc: 79.03%\n",
      "(Iteration 99 / 27780) train acc: 93.00%; val_acc: 91.28%; test_acc: 79.87%\n",
      "(Iteration 100 / 27780) train acc: 90.00%; val_acc: 92.21%; test_acc: 80.69%\n",
      "(Iteration 101 / 27780) train acc: 89.00%; val_acc: 93.09%; test_acc: 81.58%\n",
      "(Iteration 102 / 27780) train acc: 94.50%; val_acc: 93.17%; test_acc: 81.65%\n",
      "(Iteration 103 / 27780) train acc: 94.00%; val_acc: 93.42%; test_acc: 81.92%\n",
      "(Iteration 104 / 27780) train acc: 53.00%; val_acc: 47.97%; test_acc: 58.18%\n",
      "(Iteration 105 / 27780) train acc: 93.50%; val_acc: 92.80%; test_acc: 81.30%\n",
      "(Iteration 106 / 27780) train acc: 92.50%; val_acc: 93.20%; test_acc: 81.68%\n",
      "(Iteration 107 / 27780) train acc: 93.00%; val_acc: 93.72%; test_acc: 82.20%\n",
      "(Iteration 108 / 27780) train acc: 94.00%; val_acc: 93.94%; test_acc: 82.41%\n"
     ]
    },
    {
     "name": "stdout",
     "output_type": "stream",
     "text": [
      "(Iteration 109 / 27780) train acc: 90.00%; val_acc: 94.33%; test_acc: 82.72%\n",
      "(Iteration 110 / 27780) train acc: 95.00%; val_acc: 94.59%; test_acc: 82.95%\n",
      "(Iteration 111 / 27780) train acc: 94.00%; val_acc: 94.84%; test_acc: 83.17%\n",
      "(Iteration 112 / 27780) train acc: 95.00%; val_acc: 94.97%; test_acc: 83.28%\n",
      "(Iteration 113 / 27780) train acc: 96.00%; val_acc: 95.12%; test_acc: 83.41%\n",
      "(Iteration 114 / 27780) train acc: 97.50%; val_acc: 95.22%; test_acc: 83.49%\n",
      "(Iteration 115 / 27780) train acc: 50.50%; val_acc: 49.16%; test_acc: 59.24%\n",
      "(Iteration 116 / 27780) train acc: 93.50%; val_acc: 93.73%; test_acc: 82.22%\n",
      "(Iteration 117 / 27780) train acc: 97.00%; val_acc: 93.83%; test_acc: 82.33%\n",
      "(Iteration 118 / 27780) train acc: 94.50%; val_acc: 94.17%; test_acc: 82.60%\n",
      "(Iteration 119 / 27780) train acc: 96.50%; val_acc: 94.33%; test_acc: 82.73%\n",
      "(Iteration 120 / 27780) train acc: 93.00%; val_acc: 94.58%; test_acc: 82.97%\n",
      "(Iteration 121 / 27780) train acc: 95.50%; val_acc: 94.77%; test_acc: 83.13%\n",
      "(Iteration 122 / 27780) train acc: 92.50%; val_acc: 95.09%; test_acc: 83.41%\n",
      "(Iteration 123 / 27780) train acc: 95.50%; val_acc: 95.23%; test_acc: 83.52%\n",
      "(Iteration 124 / 27780) train acc: 96.00%; val_acc: 95.42%; test_acc: 83.67%\n",
      "(Iteration 125 / 27780) train acc: 95.00%; val_acc: 95.55%; test_acc: 83.77%\n",
      "(Iteration 126 / 27780) train acc: 94.50%; val_acc: 95.68%; test_acc: 83.86%\n",
      "(Iteration 127 / 27780) train acc: 96.50%; val_acc: 95.74%; test_acc: 83.89%\n",
      "(Iteration 128 / 27780) train acc: 96.50%; val_acc: 95.63%; test_acc: 83.91%\n",
      "(Iteration 129 / 27780) train acc: 58.00%; val_acc: 49.67%; test_acc: 59.55%\n",
      "(Iteration 130 / 27780) train acc: 93.50%; val_acc: 94.77%; test_acc: 83.14%\n",
      "(Iteration 131 / 27780) train acc: 95.50%; val_acc: 94.90%; test_acc: 83.24%\n",
      "(Iteration 132 / 27780) train acc: 95.00%; val_acc: 95.08%; test_acc: 83.41%\n",
      "(Iteration 133 / 27780) train acc: 95.00%; val_acc: 95.26%; test_acc: 83.55%\n",
      "(Iteration 134 / 27780) train acc: 96.50%; val_acc: 95.32%; test_acc: 83.60%\n",
      "(Iteration 135 / 27780) train acc: 96.00%; val_acc: 95.42%; test_acc: 83.68%\n",
      "(Iteration 136 / 27780) train acc: 93.00%; val_acc: 95.59%; test_acc: 83.80%\n",
      "(Iteration 137 / 27780) train acc: 96.50%; val_acc: 95.66%; test_acc: 83.85%\n",
      "(Iteration 138 / 27780) train acc: 94.00%; val_acc: 95.76%; test_acc: 83.92%\n",
      "(Iteration 139 / 27780) train acc: 95.50%; val_acc: 95.89%; test_acc: 83.98%\n",
      "(Iteration 140 / 27780) train acc: 95.50%; val_acc: 95.94%; test_acc: 84.00%\n",
      "(Iteration 141 / 27780) train acc: 94.50%; val_acc: 96.02%; test_acc: 84.05%\n",
      "(Iteration 142 / 27780) train acc: 97.00%; val_acc: 96.09%; test_acc: 84.08%\n",
      "(Iteration 143 / 27780) train acc: 96.50%; val_acc: 96.08%; test_acc: 84.08%\n",
      "(Iteration 144 / 27780) train acc: 96.50%; val_acc: 96.14%; test_acc: 84.09%\n",
      "(Iteration 145 / 27780) train acc: 47.00%; val_acc: 50.02%; test_acc: 59.75%\n",
      "(Iteration 146 / 27780) train acc: 98.00%; val_acc: 94.97%; test_acc: 83.32%\n",
      "(Iteration 147 / 27780) train acc: 93.00%; val_acc: 95.20%; test_acc: 83.52%\n",
      "(Iteration 148 / 27780) train acc: 96.00%; val_acc: 95.30%; test_acc: 83.60%\n",
      "(Iteration 149 / 27780) train acc: 95.50%; val_acc: 95.37%; test_acc: 83.66%\n",
      "(Iteration 150 / 27780) train acc: 96.50%; val_acc: 95.42%; test_acc: 83.69%\n",
      "(Iteration 151 / 27780) train acc: 94.00%; val_acc: 95.56%; test_acc: 83.80%\n",
      "(Iteration 152 / 27780) train acc: 96.50%; val_acc: 95.64%; test_acc: 83.85%\n",
      "(Iteration 153 / 27780) train acc: 96.50%; val_acc: 95.70%; test_acc: 83.89%\n",
      "(Iteration 154 / 27780) train acc: 93.50%; val_acc: 95.86%; test_acc: 83.98%\n",
      "(Iteration 155 / 27780) train acc: 98.00%; val_acc: 95.93%; test_acc: 84.01%\n",
      "(Iteration 156 / 27780) train acc: 98.00%; val_acc: 95.98%; test_acc: 84.04%\n",
      "(Iteration 157 / 27780) train acc: 97.50%; val_acc: 96.00%; test_acc: 84.05%\n",
      "(Iteration 158 / 27780) train acc: 95.00%; val_acc: 96.10%; test_acc: 84.09%\n",
      "(Iteration 159 / 27780) train acc: 97.50%; val_acc: 96.19%; test_acc: 84.12%\n",
      "(Iteration 160 / 27780) train acc: 96.00%; val_acc: 96.26%; test_acc: 84.14%\n",
      "(Iteration 161 / 27780) train acc: 97.00%; val_acc: 96.32%; test_acc: 84.17%\n",
      "(Iteration 162 / 27780) train acc: 96.00%; val_acc: 96.38%; test_acc: 84.20%\n",
      "(Iteration 163 / 27780) train acc: 94.50%; val_acc: 96.42%; test_acc: 84.21%\n",
      "(Iteration 164 / 27780) train acc: 99.50%; val_acc: 96.19%; test_acc: 84.13%\n",
      "(Iteration 165 / 27780) train acc: 96.00%; val_acc: 96.28%; test_acc: 84.16%\n",
      "(Iteration 166 / 27780) train acc: 97.00%; val_acc: 96.34%; test_acc: 84.18%\n",
      "(Iteration 167 / 27780) train acc: 96.00%; val_acc: 96.40%; test_acc: 84.21%\n",
      "(Iteration 168 / 27780) train acc: 95.00%; val_acc: 96.48%; test_acc: 84.23%\n",
      "(Iteration 169 / 27780) train acc: 97.00%; val_acc: 96.51%; test_acc: 84.25%\n",
      "(Iteration 170 / 27780) train acc: 97.50%; val_acc: 96.57%; test_acc: 84.29%\n",
      "(Iteration 171 / 27780) train acc: 96.50%; val_acc: 96.62%; test_acc: 84.32%\n",
      "(Iteration 172 / 27780) train acc: 97.00%; val_acc: 96.66%; test_acc: 84.36%\n",
      "(Iteration 173 / 27780) train acc: 97.50%; val_acc: 96.71%; test_acc: 84.38%\n",
      "(Iteration 174 / 27780) train acc: 46.50%; val_acc: 50.56%; test_acc: 60.11%\n",
      "(Iteration 175 / 27780) train acc: 96.50%; val_acc: 95.73%; test_acc: 83.91%\n",
      "(Iteration 176 / 27780) train acc: 97.00%; val_acc: 95.76%; test_acc: 83.94%\n",
      "(Iteration 177 / 27780) train acc: 95.50%; val_acc: 95.87%; test_acc: 83.99%\n",
      "(Iteration 178 / 27780) train acc: 95.00%; val_acc: 95.99%; test_acc: 84.05%\n",
      "(Iteration 179 / 27780) train acc: 96.50%; val_acc: 96.06%; test_acc: 84.09%\n",
      "(Iteration 180 / 27780) train acc: 94.50%; val_acc: 96.15%; test_acc: 84.12%\n",
      "(Iteration 181 / 27780) train acc: 94.00%; val_acc: 96.25%; test_acc: 84.15%\n",
      "(Iteration 182 / 27780) train acc: 96.00%; val_acc: 96.36%; test_acc: 84.20%\n",
      "(Iteration 183 / 27780) train acc: 96.50%; val_acc: 96.41%; test_acc: 84.22%\n",
      "(Iteration 184 / 27780) train acc: 94.50%; val_acc: 96.48%; test_acc: 84.25%\n",
      "(Iteration 185 / 27780) train acc: 95.50%; val_acc: 96.55%; test_acc: 84.29%\n",
      "(Iteration 186 / 27780) train acc: 95.50%; val_acc: 96.60%; test_acc: 84.33%\n",
      "(Iteration 187 / 27780) train acc: 97.50%; val_acc: 96.64%; test_acc: 84.35%\n",
      "(Iteration 188 / 27780) train acc: 97.00%; val_acc: 96.65%; test_acc: 84.36%\n",
      "(Iteration 189 / 27780) train acc: 97.50%; val_acc: 96.60%; test_acc: 84.33%\n",
      "(Iteration 190 / 27780) train acc: 98.00%; val_acc: 96.60%; test_acc: 84.33%\n",
      "(Iteration 191 / 27780) train acc: 98.00%; val_acc: 96.60%; test_acc: 84.34%\n",
      "(Iteration 192 / 27780) train acc: 99.00%; val_acc: 96.61%; test_acc: 84.35%\n",
      "(Iteration 193 / 27780) train acc: 98.00%; val_acc: 96.69%; test_acc: 84.39%\n",
      "(Iteration 194 / 27780) train acc: 97.00%; val_acc: 96.71%; test_acc: 84.41%\n",
      "(Iteration 195 / 27780) train acc: 97.00%; val_acc: 96.72%; test_acc: 84.42%\n",
      "(Iteration 196 / 27780) train acc: 96.50%; val_acc: 96.76%; test_acc: 84.48%\n",
      "(Iteration 197 / 27780) train acc: 95.50%; val_acc: 96.74%; test_acc: 84.56%\n",
      "(Iteration 198 / 27780) train acc: 95.50%; val_acc: 96.82%; test_acc: 84.64%\n",
      "(Iteration 199 / 27780) train acc: 98.00%; val_acc: 96.81%; test_acc: 84.64%\n",
      "(Iteration 200 / 27780) train acc: 99.00%; val_acc: 96.86%; test_acc: 84.69%\n",
      "(Iteration 201 / 27780) train acc: 97.00%; val_acc: 96.72%; test_acc: 84.72%\n",
      "(Iteration 202 / 27780) train acc: 97.00%; val_acc: 96.67%; test_acc: 84.70%\n",
      "(Iteration 203 / 27780) train acc: 98.00%; val_acc: 96.82%; test_acc: 84.73%\n",
      "(Iteration 204 / 27780) train acc: 97.00%; val_acc: 96.73%; test_acc: 84.72%\n",
      "(Iteration 205 / 27780) train acc: 97.50%; val_acc: 96.64%; test_acc: 84.64%\n",
      "(Iteration 206 / 27780) train acc: 94.50%; val_acc: 96.77%; test_acc: 84.53%\n",
      "(Iteration 207 / 27780) train acc: 96.50%; val_acc: 96.74%; test_acc: 84.57%\n",
      "(Iteration 208 / 27780) train acc: 95.00%; val_acc: 96.74%; test_acc: 84.60%\n",
      "(Iteration 209 / 27780) train acc: 97.50%; val_acc: 96.87%; test_acc: 84.69%\n",
      "(Iteration 210 / 27780) train acc: 52.00%; val_acc: 52.09%; test_acc: 62.16%\n",
      "(Iteration 211 / 27780) train acc: 97.50%; val_acc: 96.34%; test_acc: 84.21%\n",
      "(Iteration 212 / 27780) train acc: 98.00%; val_acc: 96.37%; test_acc: 84.23%\n",
      "(Iteration 213 / 27780) train acc: 97.50%; val_acc: 96.44%; test_acc: 84.26%\n",
      "(Iteration 214 / 27780) train acc: 97.00%; val_acc: 96.54%; test_acc: 84.31%\n",
      "(Iteration 215 / 27780) train acc: 97.50%; val_acc: 96.58%; test_acc: 84.33%\n"
     ]
    },
    {
     "name": "stdout",
     "output_type": "stream",
     "text": [
      "(Iteration 216 / 27780) train acc: 96.50%; val_acc: 96.65%; test_acc: 84.37%\n",
      "(Iteration 217 / 27780) train acc: 97.50%; val_acc: 96.70%; test_acc: 84.40%\n",
      "(Iteration 218 / 27780) train acc: 97.50%; val_acc: 96.71%; test_acc: 84.41%\n",
      "(Iteration 219 / 27780) train acc: 96.00%; val_acc: 96.73%; test_acc: 84.43%\n",
      "(Iteration 220 / 27780) train acc: 96.50%; val_acc: 96.76%; test_acc: 84.46%\n",
      "(Iteration 221 / 27780) train acc: 97.00%; val_acc: 96.78%; test_acc: 84.54%\n",
      "(Iteration 222 / 27780) train acc: 98.50%; val_acc: 96.78%; test_acc: 84.55%\n",
      "(Iteration 223 / 27780) train acc: 97.00%; val_acc: 96.84%; test_acc: 84.68%\n",
      "(Iteration 224 / 27780) train acc: 99.50%; val_acc: 96.83%; test_acc: 84.71%\n",
      "(Iteration 225 / 27780) train acc: 95.50%; val_acc: 96.86%; test_acc: 84.75%\n",
      "(Iteration 226 / 27780) train acc: 93.50%; val_acc: 96.40%; test_acc: 84.28%\n",
      "(Iteration 227 / 27780) train acc: 95.50%; val_acc: 96.47%; test_acc: 84.31%\n",
      "(Iteration 228 / 27780) train acc: 94.50%; val_acc: 96.52%; test_acc: 84.33%\n",
      "(Iteration 229 / 27780) train acc: 97.00%; val_acc: 96.59%; test_acc: 84.37%\n",
      "(Iteration 230 / 27780) train acc: 96.00%; val_acc: 96.65%; test_acc: 84.41%\n",
      "(Iteration 231 / 27780) train acc: 97.50%; val_acc: 96.67%; test_acc: 84.42%\n",
      "(Iteration 232 / 27780) train acc: 96.00%; val_acc: 96.70%; test_acc: 84.45%\n",
      "(Iteration 233 / 27780) train acc: 96.50%; val_acc: 96.74%; test_acc: 84.49%\n",
      "(Iteration 234 / 27780) train acc: 95.50%; val_acc: 96.79%; test_acc: 84.58%\n",
      "(Iteration 235 / 27780) train acc: 96.00%; val_acc: 96.80%; test_acc: 84.64%\n",
      "(Iteration 236 / 27780) train acc: 95.00%; val_acc: 96.79%; test_acc: 84.68%\n",
      "(Iteration 237 / 27780) train acc: 95.50%; val_acc: 96.72%; test_acc: 84.72%\n",
      "(Iteration 238 / 27780) train acc: 95.50%; val_acc: 96.72%; test_acc: 84.73%\n",
      "(Iteration 239 / 27780) train acc: 97.00%; val_acc: 96.72%; test_acc: 84.72%\n",
      "(Iteration 240 / 27780) train acc: 98.50%; val_acc: 96.76%; test_acc: 84.70%\n",
      "(Iteration 241 / 27780) train acc: 98.50%; val_acc: 96.76%; test_acc: 84.69%\n",
      "(Iteration 242 / 27780) train acc: 95.00%; val_acc: 96.72%; test_acc: 84.73%\n",
      "(Iteration 243 / 27780) train acc: 95.50%; val_acc: 96.75%; test_acc: 84.70%\n",
      "(Iteration 244 / 27780) train acc: 96.00%; val_acc: 96.81%; test_acc: 84.64%\n",
      "(Iteration 245 / 27780) train acc: 96.50%; val_acc: 96.78%; test_acc: 84.68%\n",
      "(Iteration 246 / 27780) train acc: 97.00%; val_acc: 96.76%; test_acc: 84.69%\n",
      "(Iteration 247 / 27780) train acc: 96.00%; val_acc: 96.76%; test_acc: 84.69%\n",
      "(Iteration 248 / 27780) train acc: 94.50%; val_acc: 96.77%; test_acc: 84.69%\n",
      "(Iteration 249 / 27780) train acc: 97.50%; val_acc: 96.77%; test_acc: 84.69%\n",
      "(Iteration 250 / 27780) train acc: 96.50%; val_acc: 96.72%; test_acc: 84.73%\n",
      "(Iteration 251 / 27780) train acc: 97.00%; val_acc: 96.63%; test_acc: 84.78%\n",
      "(Iteration 252 / 27780) train acc: 97.50%; val_acc: 96.43%; test_acc: 84.63%\n",
      "(Iteration 253 / 27780) train acc: 96.00%; val_acc: 96.31%; test_acc: 84.54%\n",
      "(Iteration 254 / 27780) train acc: 97.50%; val_acc: 96.36%; test_acc: 84.56%\n",
      "(Iteration 255 / 27780) train acc: 96.50%; val_acc: 96.33%; test_acc: 84.53%\n",
      "(Iteration 256 / 27780) train acc: 97.00%; val_acc: 96.42%; test_acc: 84.61%\n",
      "(Iteration 257 / 27780) train acc: 95.00%; val_acc: 96.63%; test_acc: 84.78%\n",
      "(Iteration 258 / 27780) train acc: 97.50%; val_acc: 96.52%; test_acc: 84.67%\n",
      "(Iteration 259 / 27780) train acc: 97.50%; val_acc: 96.61%; test_acc: 84.79%\n",
      "(Iteration 260 / 27780) train acc: 94.50%; val_acc: 96.64%; test_acc: 84.78%\n",
      "(Iteration 261 / 27780) train acc: 98.50%; val_acc: 96.72%; test_acc: 84.73%\n",
      "(Iteration 262 / 27780) train acc: 98.00%; val_acc: 96.75%; test_acc: 84.72%\n",
      "(Iteration 263 / 27780) train acc: 96.50%; val_acc: 96.73%; test_acc: 84.73%\n",
      "(Iteration 264 / 27780) train acc: 97.00%; val_acc: 96.72%; test_acc: 84.73%\n",
      "(Iteration 265 / 27780) train acc: 95.00%; val_acc: 96.72%; test_acc: 84.73%\n",
      "(Iteration 266 / 27780) train acc: 97.50%; val_acc: 96.60%; test_acc: 84.24%\n",
      "(Iteration 267 / 27780) train acc: 95.50%; val_acc: 96.66%; test_acc: 84.27%\n",
      "(Iteration 268 / 27780) train acc: 98.00%; val_acc: 96.71%; test_acc: 84.33%\n",
      "(Iteration 269 / 27780) train acc: 97.00%; val_acc: 96.76%; test_acc: 84.38%\n",
      "(Iteration 270 / 27780) train acc: 98.00%; val_acc: 96.76%; test_acc: 84.38%\n",
      "(Iteration 271 / 27780) train acc: 98.00%; val_acc: 96.76%; test_acc: 84.39%\n",
      "(Iteration 272 / 27780) train acc: 93.50%; val_acc: 96.82%; test_acc: 84.47%\n",
      "(Iteration 273 / 27780) train acc: 97.50%; val_acc: 96.86%; test_acc: 84.51%\n",
      "(Iteration 274 / 27780) train acc: 98.00%; val_acc: 96.85%; test_acc: 84.52%\n",
      "(Iteration 275 / 27780) train acc: 99.00%; val_acc: 96.84%; test_acc: 84.53%\n",
      "(Iteration 276 / 27780) train acc: 96.50%; val_acc: 96.85%; test_acc: 84.52%\n",
      "(Iteration 277 / 27780) train acc: 96.00%; val_acc: 96.83%; test_acc: 84.54%\n",
      "(Iteration 278 / 27780) train acc: 97.00%; val_acc: 96.84%; test_acc: 84.53%\n",
      "(Iteration 279 / 27780) train acc: 98.50%; val_acc: 96.82%; test_acc: 84.54%\n",
      "(Iteration 280 / 27780) train acc: 96.00%; val_acc: 96.81%; test_acc: 84.54%\n",
      "(Iteration 281 / 27780) train acc: 97.50%; val_acc: 96.76%; test_acc: 84.57%\n",
      "(Iteration 282 / 27780) train acc: 98.00%; val_acc: 96.74%; test_acc: 84.59%\n",
      "(Iteration 283 / 27780) train acc: 97.00%; val_acc: 96.76%; test_acc: 84.57%\n",
      "(Iteration 284 / 27780) train acc: 95.00%; val_acc: 96.64%; test_acc: 84.64%\n",
      "(Iteration 285 / 27780) train acc: 95.00%; val_acc: 96.66%; test_acc: 84.63%\n",
      "(Iteration 286 / 27780) train acc: 96.00%; val_acc: 96.61%; test_acc: 84.63%\n",
      "(Iteration 287 / 27780) train acc: 98.50%; val_acc: 96.76%; test_acc: 84.57%\n",
      "(Iteration 288 / 27780) train acc: 97.00%; val_acc: 96.76%; test_acc: 84.57%\n",
      "(Iteration 289 / 27780) train acc: 94.50%; val_acc: 96.32%; test_acc: 84.41%\n",
      "(Iteration 290 / 27780) train acc: 97.00%; val_acc: 95.40%; test_acc: 83.85%\n",
      "(Iteration 291 / 27780) train acc: 97.50%; val_acc: 96.71%; test_acc: 84.61%\n",
      "(Iteration 292 / 27780) train acc: 99.00%; val_acc: 96.75%; test_acc: 84.58%\n",
      "(Iteration 293 / 27780) train acc: 97.00%; val_acc: 96.71%; test_acc: 84.61%\n",
      "(Iteration 294 / 27780) train acc: 96.00%; val_acc: 96.61%; test_acc: 84.63%\n",
      "(Iteration 295 / 27780) train acc: 97.50%; val_acc: 96.22%; test_acc: 84.37%\n",
      "(Iteration 296 / 27780) train acc: 96.50%; val_acc: 95.24%; test_acc: 83.72%\n",
      "(Iteration 297 / 27780) train acc: 95.00%; val_acc: 96.44%; test_acc: 84.49%\n",
      "(Iteration 298 / 27780) train acc: 98.00%; val_acc: 96.35%; test_acc: 84.42%\n",
      "(Iteration 299 / 27780) train acc: 96.50%; val_acc: 96.57%; test_acc: 84.58%\n",
      "(Iteration 300 / 27780) train acc: 96.00%; val_acc: 96.44%; test_acc: 84.49%\n",
      "(Iteration 301 / 27780) train acc: 96.50%; val_acc: 96.60%; test_acc: 84.62%\n",
      "(Iteration 302 / 27780) train acc: 96.50%; val_acc: 96.77%; test_acc: 84.58%\n",
      "(Iteration 303 / 27780) train acc: 98.00%; val_acc: 96.78%; test_acc: 84.57%\n",
      "(Iteration 304 / 27780) train acc: 96.50%; val_acc: 96.80%; test_acc: 84.56%\n",
      "(Iteration 305 / 27780) train acc: 99.00%; val_acc: 96.80%; test_acc: 84.56%\n",
      "(Iteration 306 / 27780) train acc: 97.50%; val_acc: 96.82%; test_acc: 84.55%\n",
      "(Iteration 307 / 27780) train acc: 97.00%; val_acc: 96.77%; test_acc: 84.57%\n",
      "(Iteration 308 / 27780) train acc: 92.50%; val_acc: 92.40%; test_acc: 79.44%\n",
      "(Iteration 309 / 27780) train acc: 90.00%; val_acc: 92.71%; test_acc: 79.77%\n",
      "(Iteration 310 / 27780) train acc: 93.50%; val_acc: 92.98%; test_acc: 80.08%\n",
      "(Iteration 311 / 27780) train acc: 46.50%; val_acc: 53.91%; test_acc: 62.11%\n",
      "(Iteration 312 / 27780) train acc: 93.00%; val_acc: 93.58%; test_acc: 80.82%\n",
      "(Iteration 313 / 27780) train acc: 96.00%; val_acc: 93.98%; test_acc: 81.33%\n",
      "(Iteration 314 / 27780) train acc: 95.00%; val_acc: 94.23%; test_acc: 81.60%\n",
      "(Iteration 315 / 27780) train acc: 93.00%; val_acc: 94.59%; test_acc: 81.94%\n",
      "(Iteration 316 / 27780) train acc: 97.00%; val_acc: 94.75%; test_acc: 82.18%\n",
      "(Iteration 317 / 27780) train acc: 95.00%; val_acc: 94.98%; test_acc: 82.51%\n",
      "(Iteration 318 / 27780) train acc: 96.50%; val_acc: 95.21%; test_acc: 82.74%\n",
      "(Iteration 319 / 27780) train acc: 95.00%; val_acc: 95.32%; test_acc: 82.92%\n",
      "(Iteration 320 / 27780) train acc: 97.00%; val_acc: 95.49%; test_acc: 83.11%\n",
      "(Iteration 321 / 27780) train acc: 96.50%; val_acc: 95.60%; test_acc: 83.25%\n",
      "(Iteration 322 / 27780) train acc: 95.50%; val_acc: 95.69%; test_acc: 83.37%\n"
     ]
    },
    {
     "name": "stdout",
     "output_type": "stream",
     "text": [
      "(Iteration 323 / 27780) train acc: 94.00%; val_acc: 95.52%; test_acc: 83.37%\n",
      "(Iteration 324 / 27780) train acc: 98.00%; val_acc: 95.86%; test_acc: 83.49%\n",
      "(Iteration 325 / 27780) train acc: 96.50%; val_acc: 95.90%; test_acc: 83.54%\n",
      "(Iteration 326 / 27780) train acc: 94.50%; val_acc: 95.69%; test_acc: 83.46%\n",
      "(Iteration 327 / 27780) train acc: 94.50%; val_acc: 95.11%; test_acc: 83.38%\n",
      "(Iteration 328 / 27780) train acc: 97.50%; val_acc: 96.08%; test_acc: 83.72%\n",
      "(Iteration 329 / 27780) train acc: 98.00%; val_acc: 96.10%; test_acc: 83.78%\n",
      "(Iteration 330 / 27780) train acc: 96.00%; val_acc: 96.23%; test_acc: 83.88%\n",
      "(Iteration 331 / 27780) train acc: 99.50%; val_acc: 96.20%; test_acc: 83.87%\n",
      "(Iteration 332 / 27780) train acc: 95.50%; val_acc: 96.09%; test_acc: 83.79%\n",
      "(Iteration 333 / 27780) train acc: 99.00%; val_acc: 96.30%; test_acc: 83.96%\n",
      "(Iteration 334 / 27780) train acc: 93.50%; val_acc: 96.32%; test_acc: 83.99%\n",
      "(Iteration 335 / 27780) train acc: 95.50%; val_acc: 96.46%; test_acc: 84.13%\n",
      "(Iteration 336 / 27780) train acc: 97.00%; val_acc: 96.44%; test_acc: 84.11%\n",
      "(Iteration 337 / 27780) train acc: 98.00%; val_acc: 96.41%; test_acc: 84.14%\n",
      "(Iteration 338 / 27780) train acc: 97.50%; val_acc: 96.41%; test_acc: 84.10%\n",
      "(Iteration 339 / 27780) train acc: 95.50%; val_acc: 96.28%; test_acc: 83.99%\n",
      "(Iteration 340 / 27780) train acc: 97.00%; val_acc: 96.26%; test_acc: 83.97%\n",
      "(Iteration 341 / 27780) train acc: 95.00%; val_acc: 96.26%; test_acc: 83.98%\n",
      "(Iteration 342 / 27780) train acc: 94.50%; val_acc: 96.34%; test_acc: 84.03%\n",
      "(Iteration 343 / 27780) train acc: 96.00%; val_acc: 95.93%; test_acc: 83.93%\n",
      "(Iteration 344 / 27780) train acc: 98.50%; val_acc: 96.49%; test_acc: 84.13%\n",
      "(Iteration 345 / 27780) train acc: 98.00%; val_acc: 96.40%; test_acc: 84.07%\n",
      "(Iteration 346 / 27780) train acc: 96.00%; val_acc: 96.49%; test_acc: 84.13%\n",
      "(Iteration 347 / 27780) train acc: 97.50%; val_acc: 96.41%; test_acc: 84.07%\n",
      "(Iteration 348 / 27780) train acc: 95.50%; val_acc: 96.48%; test_acc: 84.13%\n",
      "(Iteration 349 / 27780) train acc: 97.00%; val_acc: 96.51%; test_acc: 84.18%\n",
      "(Iteration 350 / 27780) train acc: 97.00%; val_acc: 96.44%; test_acc: 84.12%\n",
      "(Iteration 351 / 27780) train acc: 98.50%; val_acc: 96.44%; test_acc: 84.14%\n",
      "(Iteration 352 / 27780) train acc: 97.50%; val_acc: 96.44%; test_acc: 84.16%\n",
      "(Iteration 353 / 27780) train acc: 97.50%; val_acc: 96.50%; test_acc: 84.20%\n",
      "(Iteration 354 / 27780) train acc: 96.00%; val_acc: 96.31%; test_acc: 84.01%\n",
      "(Iteration 355 / 27780) train acc: 96.00%; val_acc: 96.22%; test_acc: 83.99%\n",
      "(Iteration 356 / 27780) train acc: 96.50%; val_acc: 96.40%; test_acc: 84.08%\n",
      "(Iteration 357 / 27780) train acc: 97.50%; val_acc: 96.45%; test_acc: 84.11%\n",
      "(Iteration 358 / 27780) train acc: 98.00%; val_acc: 96.32%; test_acc: 84.03%\n",
      "(Iteration 359 / 27780) train acc: 98.00%; val_acc: 96.37%; test_acc: 84.07%\n",
      "(Iteration 360 / 27780) train acc: 98.50%; val_acc: 96.24%; test_acc: 84.00%\n",
      "(Iteration 361 / 27780) train acc: 94.50%; val_acc: 96.20%; test_acc: 84.00%\n",
      "(Iteration 362 / 27780) train acc: 95.50%; val_acc: 96.40%; test_acc: 84.08%\n",
      "(Iteration 363 / 27780) train acc: 93.50%; val_acc: 95.76%; test_acc: 83.87%\n",
      "(Iteration 364 / 27780) train acc: 93.00%; val_acc: 94.35%; test_acc: 82.81%\n",
      "(Iteration 365 / 27780) train acc: 95.00%; val_acc: 96.38%; test_acc: 84.08%\n",
      "(Iteration 366 / 27780) train acc: 94.50%; val_acc: 96.15%; test_acc: 84.03%\n",
      "(Iteration 367 / 27780) train acc: 93.50%; val_acc: 95.74%; test_acc: 83.91%\n",
      "(Iteration 368 / 27780) train acc: 95.00%; val_acc: 96.36%; test_acc: 84.09%\n",
      "(Iteration 369 / 27780) train acc: 98.00%; val_acc: 96.25%; test_acc: 84.05%\n",
      "(Iteration 370 / 27780) train acc: 96.00%; val_acc: 96.05%; test_acc: 84.04%\n",
      "(Iteration 371 / 27780) train acc: 97.00%; val_acc: 96.36%; test_acc: 84.08%\n",
      "(Iteration 372 / 27780) train acc: 95.00%; val_acc: 96.32%; test_acc: 84.07%\n",
      "(Iteration 373 / 27780) train acc: 96.50%; val_acc: 96.18%; test_acc: 84.07%\n",
      "(Iteration 374 / 27780) train acc: 96.00%; val_acc: 96.13%; test_acc: 84.08%\n",
      "(Iteration 375 / 27780) train acc: 49.00%; val_acc: 50.16%; test_acc: 59.71%\n",
      "(Iteration 376 / 27780) train acc: 95.50%; val_acc: 96.26%; test_acc: 83.78%\n",
      "(Iteration 377 / 27780) train acc: 96.00%; val_acc: 96.39%; test_acc: 83.96%\n",
      "(Iteration 378 / 27780) train acc: 95.50%; val_acc: 96.52%; test_acc: 84.08%\n",
      "(Iteration 379 / 27780) train acc: 98.00%; val_acc: 96.56%; test_acc: 84.12%\n",
      "(Iteration 380 / 27780) train acc: 98.00%; val_acc: 96.56%; test_acc: 84.12%\n",
      "(Iteration 381 / 27780) train acc: 97.00%; val_acc: 96.58%; test_acc: 84.16%\n",
      "(Iteration 382 / 27780) train acc: 97.50%; val_acc: 96.60%; test_acc: 84.21%\n",
      "(Iteration 383 / 27780) train acc: 95.00%; val_acc: 96.57%; test_acc: 84.29%\n",
      "(Iteration 384 / 27780) train acc: 96.00%; val_acc: 96.57%; test_acc: 84.29%\n",
      "(Iteration 385 / 27780) train acc: 96.50%; val_acc: 96.59%; test_acc: 84.24%\n",
      "(Iteration 386 / 27780) train acc: 98.00%; val_acc: 96.55%; test_acc: 84.22%\n",
      "(Iteration 387 / 27780) train acc: 95.50%; val_acc: 96.50%; test_acc: 84.18%\n",
      "(Iteration 388 / 27780) train acc: 97.50%; val_acc: 96.64%; test_acc: 84.30%\n",
      "(Iteration 389 / 27780) train acc: 95.50%; val_acc: 96.49%; test_acc: 84.18%\n",
      "(Iteration 390 / 27780) train acc: 97.00%; val_acc: 96.37%; test_acc: 84.12%\n",
      "(Iteration 391 / 27780) train acc: 95.50%; val_acc: 96.59%; test_acc: 84.24%\n",
      "(Iteration 392 / 27780) train acc: 96.00%; val_acc: 96.60%; test_acc: 84.29%\n",
      "(Iteration 393 / 27780) train acc: 96.00%; val_acc: 96.60%; test_acc: 84.29%\n",
      "(Iteration 394 / 27780) train acc: 92.50%; val_acc: 96.59%; test_acc: 84.31%\n",
      "(Iteration 395 / 27780) train acc: 96.00%; val_acc: 96.42%; test_acc: 84.14%\n",
      "(Iteration 396 / 27780) train acc: 95.50%; val_acc: 96.68%; test_acc: 84.33%\n",
      "(Iteration 397 / 27780) train acc: 98.50%; val_acc: 96.70%; test_acc: 84.51%\n",
      "(Iteration 398 / 27780) train acc: 97.00%; val_acc: 96.68%; test_acc: 84.50%\n",
      "(Iteration 399 / 27780) train acc: 95.50%; val_acc: 96.57%; test_acc: 84.43%\n",
      "(Iteration 400 / 27780) train acc: 98.00%; val_acc: 96.67%; test_acc: 84.48%\n",
      "(Iteration 401 / 27780) train acc: 99.50%; val_acc: 96.71%; test_acc: 84.53%\n",
      "(Iteration 402 / 27780) train acc: 95.00%; val_acc: 96.45%; test_acc: 84.34%\n",
      "(Iteration 403 / 27780) train acc: 97.50%; val_acc: 96.50%; test_acc: 84.37%\n",
      "(Iteration 404 / 27780) train acc: 95.50%; val_acc: 96.70%; test_acc: 84.52%\n",
      "(Iteration 405 / 27780) train acc: 97.50%; val_acc: 96.65%; test_acc: 84.50%\n",
      "(Iteration 406 / 27780) train acc: 96.50%; val_acc: 96.68%; test_acc: 84.56%\n",
      "(Iteration 407 / 27780) train acc: 94.00%; val_acc: 96.72%; test_acc: 84.54%\n",
      "(Iteration 408 / 27780) train acc: 98.50%; val_acc: 96.58%; test_acc: 84.42%\n",
      "(Iteration 409 / 27780) train acc: 98.50%; val_acc: 96.72%; test_acc: 84.53%\n",
      "(Iteration 410 / 27780) train acc: 96.50%; val_acc: 96.65%; test_acc: 84.50%\n",
      "(Iteration 411 / 27780) train acc: 96.50%; val_acc: 96.65%; test_acc: 84.49%\n",
      "(Iteration 412 / 27780) train acc: 96.00%; val_acc: 96.65%; test_acc: 84.52%\n",
      "(Iteration 413 / 27780) train acc: 97.00%; val_acc: 96.72%; test_acc: 84.54%\n",
      "(Iteration 414 / 27780) train acc: 97.00%; val_acc: 96.67%; test_acc: 84.46%\n",
      "(Iteration 415 / 27780) train acc: 95.00%; val_acc: 96.66%; test_acc: 84.49%\n",
      "(Iteration 416 / 27780) train acc: 97.00%; val_acc: 96.65%; test_acc: 84.53%\n",
      "(Iteration 417 / 27780) train acc: 86.50%; val_acc: 85.59%; test_acc: 72.76%\n",
      "(Iteration 418 / 27780) train acc: 98.50%; val_acc: 95.78%; test_acc: 83.54%\n",
      "(Iteration 419 / 27780) train acc: 97.00%; val_acc: 95.79%; test_acc: 83.53%\n",
      "(Iteration 420 / 27780) train acc: 93.50%; val_acc: 94.62%; test_acc: 82.91%\n",
      "(Iteration 421 / 27780) train acc: 96.50%; val_acc: 96.32%; test_acc: 84.04%\n",
      "(Iteration 422 / 27780) train acc: 92.00%; val_acc: 95.34%; test_acc: 83.57%\n",
      "(Iteration 423 / 27780) train acc: 97.00%; val_acc: 96.61%; test_acc: 84.26%\n",
      "(Iteration 424 / 27780) train acc: 94.00%; val_acc: 96.58%; test_acc: 84.26%\n",
      "(Iteration 425 / 27780) train acc: 97.50%; val_acc: 96.72%; test_acc: 84.34%\n",
      "(Iteration 426 / 27780) train acc: 98.50%; val_acc: 96.78%; test_acc: 84.34%\n",
      "(Iteration 427 / 27780) train acc: 97.00%; val_acc: 96.75%; test_acc: 84.34%\n",
      "(Iteration 428 / 27780) train acc: 98.00%; val_acc: 96.72%; test_acc: 84.34%\n",
      "(Iteration 429 / 27780) train acc: 98.50%; val_acc: 96.72%; test_acc: 84.37%\n"
     ]
    },
    {
     "name": "stdout",
     "output_type": "stream",
     "text": [
      "(Iteration 430 / 27780) train acc: 97.50%; val_acc: 96.75%; test_acc: 84.36%\n",
      "(Iteration 431 / 27780) train acc: 96.50%; val_acc: 96.78%; test_acc: 84.34%\n",
      "(Iteration 432 / 27780) train acc: 98.00%; val_acc: 96.78%; test_acc: 84.35%\n",
      "(Iteration 433 / 27780) train acc: 96.00%; val_acc: 96.68%; test_acc: 84.36%\n",
      "(Iteration 434 / 27780) train acc: 97.50%; val_acc: 96.73%; test_acc: 84.34%\n",
      "(Iteration 435 / 27780) train acc: 96.50%; val_acc: 96.73%; test_acc: 84.34%\n",
      "(Iteration 436 / 27780) train acc: 98.00%; val_acc: 96.77%; test_acc: 84.36%\n",
      "(Iteration 437 / 27780) train acc: 95.50%; val_acc: 96.75%; test_acc: 84.36%\n",
      "(Iteration 438 / 27780) train acc: 98.00%; val_acc: 96.74%; test_acc: 84.37%\n",
      "(Iteration 439 / 27780) train acc: 97.00%; val_acc: 96.73%; test_acc: 84.38%\n",
      "(Iteration 440 / 27780) train acc: 97.50%; val_acc: 96.79%; test_acc: 84.47%\n",
      "(Iteration 441 / 27780) train acc: 96.00%; val_acc: 96.85%; test_acc: 84.49%\n",
      "(Iteration 442 / 27780) train acc: 43.50%; val_acc: 46.96%; test_acc: 57.10%\n",
      "(Iteration 443 / 27780) train acc: 96.50%; val_acc: 96.07%; test_acc: 83.78%\n",
      "(Iteration 444 / 27780) train acc: 99.00%; val_acc: 96.10%; test_acc: 83.80%\n",
      "(Iteration 445 / 27780) train acc: 93.50%; val_acc: 96.30%; test_acc: 83.96%\n",
      "(Iteration 446 / 27780) train acc: 96.00%; val_acc: 96.33%; test_acc: 84.01%\n",
      "(Iteration 447 / 27780) train acc: 95.00%; val_acc: 96.50%; test_acc: 84.13%\n",
      "(Iteration 448 / 27780) train acc: 97.50%; val_acc: 96.57%; test_acc: 84.21%\n",
      "(Iteration 449 / 27780) train acc: 97.50%; val_acc: 96.58%; test_acc: 84.23%\n",
      "(Iteration 450 / 27780) train acc: 96.00%; val_acc: 96.63%; test_acc: 84.30%\n",
      "(Iteration 451 / 27780) train acc: 98.00%; val_acc: 96.75%; test_acc: 84.51%\n",
      "(Iteration 452 / 27780) train acc: 97.50%; val_acc: 96.73%; test_acc: 84.49%\n",
      "(Iteration 453 / 27780) train acc: 97.00%; val_acc: 96.75%; test_acc: 84.50%\n",
      "(Iteration 454 / 27780) train acc: 97.50%; val_acc: 96.73%; test_acc: 84.53%\n",
      "(Iteration 455 / 27780) train acc: 96.50%; val_acc: 96.73%; test_acc: 84.53%\n",
      "(Iteration 456 / 27780) train acc: 98.50%; val_acc: 96.78%; test_acc: 84.55%\n",
      "(Iteration 457 / 27780) train acc: 94.00%; val_acc: 96.65%; test_acc: 84.44%\n",
      "(Iteration 458 / 27780) train acc: 96.00%; val_acc: 96.65%; test_acc: 84.44%\n",
      "(Iteration 459 / 27780) train acc: 97.00%; val_acc: 96.57%; test_acc: 84.39%\n",
      "(Iteration 460 / 27780) train acc: 97.50%; val_acc: 96.58%; test_acc: 84.39%\n",
      "(Iteration 461 / 27780) train acc: 96.50%; val_acc: 96.51%; test_acc: 84.36%\n",
      "(Iteration 462 / 27780) train acc: 98.00%; val_acc: 96.58%; test_acc: 84.39%\n",
      "(Iteration 463 / 27780) train acc: 96.50%; val_acc: 96.69%; test_acc: 84.50%\n",
      "(Iteration 464 / 27780) train acc: 98.50%; val_acc: 96.66%; test_acc: 84.45%\n",
      "(Iteration 465 / 27780) train acc: 97.50%; val_acc: 96.66%; test_acc: 84.45%\n",
      "(Iteration 466 / 27780) train acc: 95.00%; val_acc: 96.65%; test_acc: 84.43%\n",
      "(Iteration 467 / 27780) train acc: 94.50%; val_acc: 96.57%; test_acc: 84.40%\n",
      "(Iteration 468 / 27780) train acc: 96.50%; val_acc: 96.53%; test_acc: 84.37%\n",
      "(Iteration 469 / 27780) train acc: 95.50%; val_acc: 95.50%; test_acc: 83.17%\n",
      "(Iteration 470 / 27780) train acc: 96.00%; val_acc: 95.63%; test_acc: 83.26%\n",
      "(Iteration 471 / 27780) train acc: 97.50%; val_acc: 95.71%; test_acc: 83.47%\n",
      "(Iteration 472 / 27780) train acc: 98.50%; val_acc: 95.79%; test_acc: 83.53%\n",
      "(Iteration 473 / 27780) train acc: 96.50%; val_acc: 95.83%; test_acc: 83.55%\n",
      "(Iteration 474 / 27780) train acc: 96.00%; val_acc: 96.01%; test_acc: 83.73%\n",
      "(Iteration 475 / 27780) train acc: 96.00%; val_acc: 96.07%; test_acc: 83.80%\n",
      "(Iteration 476 / 27780) train acc: 96.00%; val_acc: 96.21%; test_acc: 83.98%\n",
      "(Iteration 477 / 27780) train acc: 95.00%; val_acc: 96.26%; test_acc: 84.02%\n",
      "(Iteration 478 / 27780) train acc: 97.50%; val_acc: 96.26%; test_acc: 84.02%\n",
      "(Iteration 479 / 27780) train acc: 93.00%; val_acc: 96.40%; test_acc: 84.17%\n",
      "(Iteration 480 / 27780) train acc: 98.50%; val_acc: 96.32%; test_acc: 84.12%\n",
      "(Iteration 481 / 27780) train acc: 96.00%; val_acc: 96.41%; test_acc: 84.16%\n",
      "(Iteration 482 / 27780) train acc: 94.00%; val_acc: 96.38%; test_acc: 84.18%\n",
      "(Iteration 483 / 27780) train acc: 96.00%; val_acc: 96.21%; test_acc: 84.08%\n",
      "(Iteration 484 / 27780) train acc: 96.50%; val_acc: 96.15%; test_acc: 84.04%\n",
      "(Iteration 485 / 27780) train acc: 94.50%; val_acc: 96.11%; test_acc: 84.02%\n",
      "(Iteration 486 / 27780) train acc: 96.50%; val_acc: 96.02%; test_acc: 84.00%\n",
      "(Iteration 487 / 27780) train acc: 96.50%; val_acc: 95.94%; test_acc: 84.01%\n",
      "(Iteration 488 / 27780) train acc: 98.50%; val_acc: 95.96%; test_acc: 84.01%\n",
      "(Iteration 489 / 27780) train acc: 95.50%; val_acc: 95.93%; test_acc: 84.01%\n",
      "(Iteration 490 / 27780) train acc: 96.50%; val_acc: 95.78%; test_acc: 83.98%\n",
      "(Iteration 491 / 27780) train acc: 96.00%; val_acc: 96.05%; test_acc: 84.00%\n",
      "(Iteration 492 / 27780) train acc: 95.00%; val_acc: 95.75%; test_acc: 83.97%\n",
      "(Iteration 493 / 27780) train acc: 94.00%; val_acc: 96.11%; test_acc: 83.85%\n",
      "(Iteration 494 / 27780) train acc: 96.00%; val_acc: 95.88%; test_acc: 83.81%\n",
      "(Iteration 495 / 27780) train acc: 97.00%; val_acc: 95.21%; test_acc: 83.63%\n",
      "(Iteration 496 / 27780) train acc: 94.50%; val_acc: 94.27%; test_acc: 82.85%\n",
      "(Iteration 497 / 27780) train acc: 96.50%; val_acc: 95.90%; test_acc: 83.81%\n",
      "(Iteration 498 / 27780) train acc: 95.00%; val_acc: 95.87%; test_acc: 83.81%\n",
      "(Iteration 499 / 27780) train acc: 95.50%; val_acc: 95.81%; test_acc: 83.81%\n",
      "(Iteration 500 / 27780) train acc: 94.00%; val_acc: 95.86%; test_acc: 83.82%\n",
      "(Iteration 501 / 27780) train acc: 38.00%; val_acc: 40.19%; test_acc: 49.16%\n",
      "(Iteration 502 / 27780) train acc: 95.50%; val_acc: 96.23%; test_acc: 83.68%\n",
      "(Iteration 503 / 27780) train acc: 96.00%; val_acc: 96.42%; test_acc: 83.86%\n",
      "(Iteration 504 / 27780) train acc: 98.50%; val_acc: 96.58%; test_acc: 83.92%\n",
      "(Iteration 505 / 27780) train acc: 97.00%; val_acc: 97.05%; test_acc: 84.40%\n",
      "(Iteration 506 / 27780) train acc: 99.00%; val_acc: 97.07%; test_acc: 84.48%\n",
      "(Iteration 507 / 27780) train acc: 95.50%; val_acc: 96.96%; test_acc: 84.55%\n",
      "(Iteration 508 / 27780) train acc: 96.00%; val_acc: 96.91%; test_acc: 84.55%\n",
      "(Iteration 509 / 27780) train acc: 56.00%; val_acc: 57.42%; test_acc: 66.18%\n",
      "(Iteration 510 / 27780) train acc: 93.00%; val_acc: 96.49%; test_acc: 83.95%\n",
      "(Iteration 511 / 27780) train acc: 94.50%; val_acc: 96.61%; test_acc: 84.06%\n",
      "(Iteration 512 / 27780) train acc: 96.50%; val_acc: 96.67%; test_acc: 84.13%\n",
      "(Iteration 513 / 27780) train acc: 96.00%; val_acc: 96.72%; test_acc: 84.17%\n",
      "(Iteration 514 / 27780) train acc: 97.50%; val_acc: 96.82%; test_acc: 84.28%\n",
      "(Iteration 515 / 27780) train acc: 95.50%; val_acc: 97.11%; test_acc: 84.45%\n",
      "(Iteration 516 / 27780) train acc: 99.00%; val_acc: 97.09%; test_acc: 84.38%\n",
      "(Iteration 517 / 27780) train acc: 96.50%; val_acc: 97.10%; test_acc: 84.45%\n",
      "(Iteration 518 / 27780) train acc: 96.50%; val_acc: 97.08%; test_acc: 84.55%\n",
      "(Iteration 519 / 27780) train acc: 98.50%; val_acc: 97.11%; test_acc: 84.48%\n"
     ]
    },
    {
     "ename": "KeyboardInterrupt",
     "evalue": "",
     "output_type": "error",
     "traceback": [
      "\u001b[0;31m---------------------------------------------------------------------------\u001b[0m",
      "\u001b[0;31mKeyboardInterrupt\u001b[0m                         Traceback (most recent call last)",
      "\u001b[0;32m<ipython-input-211-22a9f6312119>\u001b[0m in \u001b[0;36m<module>\u001b[0;34m()\u001b[0m\n\u001b[0;32m----> 1\u001b[0;31m \u001b[0mmodel\u001b[0m\u001b[0;34m.\u001b[0m\u001b[0mtrain\u001b[0m\u001b[0;34m(\u001b[0m\u001b[0;34m)\u001b[0m\u001b[0;34m\u001b[0m\u001b[0m\n\u001b[0m",
      "\u001b[0;32m/Users/ninglee/Documents/IntrutionDection/practise/MLP.py\u001b[0m in \u001b[0;36mtrain\u001b[0;34m(self)\u001b[0m\n\u001b[1;32m    150\u001b[0m                                 \u001b[0mself\u001b[0m\u001b[0;34m.\u001b[0m\u001b[0mval_acc_history\u001b[0m\u001b[0;34m.\u001b[0m\u001b[0mappend\u001b[0m\u001b[0;34m(\u001b[0m\u001b[0mval_acc\u001b[0m\u001b[0;34m)\u001b[0m\u001b[0;34m\u001b[0m\u001b[0m\n\u001b[1;32m    151\u001b[0m                                 \u001b[0;32mif\u001b[0m \u001b[0;34m'X_test'\u001b[0m \u001b[0;32min\u001b[0m \u001b[0mself\u001b[0m\u001b[0;34m.\u001b[0m\u001b[0mdata\u001b[0m\u001b[0;34m.\u001b[0m\u001b[0mkeys\u001b[0m\u001b[0;34m(\u001b[0m\u001b[0;34m)\u001b[0m\u001b[0;34m:\u001b[0m\u001b[0;34m\u001b[0m\u001b[0m\n\u001b[0;32m--> 152\u001b[0;31m                                         \u001b[0mtest_acc\u001b[0m \u001b[0;34m=\u001b[0m \u001b[0msess\u001b[0m\u001b[0;34m.\u001b[0m\u001b[0mrun\u001b[0m\u001b[0;34m(\u001b[0m\u001b[0maccuracy\u001b[0m\u001b[0;34m,\u001b[0m \u001b[0mfeed_dict\u001b[0m\u001b[0;34m=\u001b[0m\u001b[0;34m{\u001b[0m\u001b[0mXs\u001b[0m\u001b[0;34m:\u001b[0m \u001b[0mself\u001b[0m\u001b[0;34m.\u001b[0m\u001b[0mdata\u001b[0m\u001b[0;34m[\u001b[0m\u001b[0;34m'X_test'\u001b[0m\u001b[0;34m]\u001b[0m\u001b[0;34m,\u001b[0m \u001b[0mys\u001b[0m\u001b[0;34m:\u001b[0m\u001b[0mself\u001b[0m\u001b[0;34m.\u001b[0m\u001b[0mdata\u001b[0m\u001b[0;34m[\u001b[0m\u001b[0;34m'y_test'\u001b[0m\u001b[0;34m]\u001b[0m\u001b[0;34m}\u001b[0m\u001b[0;34m)\u001b[0m\u001b[0;34m\u001b[0m\u001b[0m\n\u001b[0m\u001b[1;32m    153\u001b[0m                                         \u001b[0mself\u001b[0m\u001b[0;34m.\u001b[0m\u001b[0mtest_acc_history\u001b[0m\u001b[0;34m.\u001b[0m\u001b[0mappend\u001b[0m\u001b[0;34m(\u001b[0m\u001b[0mtest_acc\u001b[0m\u001b[0;34m)\u001b[0m\u001b[0;34m\u001b[0m\u001b[0m\n\u001b[1;32m    154\u001b[0m                                         \u001b[0;32mprint\u001b[0m\u001b[0;34m(\u001b[0m\u001b[0;34m'(Iteration %d / %d) train acc: %.2f%%; val_acc: %.2f%%; test_acc: %.2f%%'\u001b[0m \u001b[0;34m%\u001b[0m \u001b[0;34m(\u001b[0m\u001b[0mt\u001b[0m\u001b[0;34m,\u001b[0m \u001b[0mnum_iterations\u001b[0m\u001b[0;34m,\u001b[0m \u001b[0mtrain_acc\u001b[0m\u001b[0;34m*\u001b[0m\u001b[0;36m100\u001b[0m\u001b[0;34m,\u001b[0m \u001b[0mval_acc\u001b[0m\u001b[0;34m*\u001b[0m\u001b[0;36m100\u001b[0m\u001b[0;34m,\u001b[0m \u001b[0mtest_acc\u001b[0m\u001b[0;34m*\u001b[0m\u001b[0;36m100\u001b[0m\u001b[0;34m)\u001b[0m\u001b[0;34m)\u001b[0m\u001b[0;34m\u001b[0m\u001b[0m\n",
      "\u001b[0;32m/Users/ninglee/anaconda/lib/python2.7/site-packages/tensorflow/python/client/session.pyc\u001b[0m in \u001b[0;36mrun\u001b[0;34m(self, fetches, feed_dict, options, run_metadata)\u001b[0m\n\u001b[1;32m    787\u001b[0m     \u001b[0;32mtry\u001b[0m\u001b[0;34m:\u001b[0m\u001b[0;34m\u001b[0m\u001b[0m\n\u001b[1;32m    788\u001b[0m       result = self._run(None, fetches, feed_dict, options_ptr,\n\u001b[0;32m--> 789\u001b[0;31m                          run_metadata_ptr)\n\u001b[0m\u001b[1;32m    790\u001b[0m       \u001b[0;32mif\u001b[0m \u001b[0mrun_metadata\u001b[0m\u001b[0;34m:\u001b[0m\u001b[0;34m\u001b[0m\u001b[0m\n\u001b[1;32m    791\u001b[0m         \u001b[0mproto_data\u001b[0m \u001b[0;34m=\u001b[0m \u001b[0mtf_session\u001b[0m\u001b[0;34m.\u001b[0m\u001b[0mTF_GetBuffer\u001b[0m\u001b[0;34m(\u001b[0m\u001b[0mrun_metadata_ptr\u001b[0m\u001b[0;34m)\u001b[0m\u001b[0;34m\u001b[0m\u001b[0m\n",
      "\u001b[0;32m/Users/ninglee/anaconda/lib/python2.7/site-packages/tensorflow/python/client/session.pyc\u001b[0m in \u001b[0;36m_run\u001b[0;34m(self, handle, fetches, feed_dict, options, run_metadata)\u001b[0m\n\u001b[1;32m    995\u001b[0m     \u001b[0;32mif\u001b[0m \u001b[0mfinal_fetches\u001b[0m \u001b[0;32mor\u001b[0m \u001b[0mfinal_targets\u001b[0m\u001b[0;34m:\u001b[0m\u001b[0;34m\u001b[0m\u001b[0m\n\u001b[1;32m    996\u001b[0m       results = self._do_run(handle, final_targets, final_fetches,\n\u001b[0;32m--> 997\u001b[0;31m                              feed_dict_string, options, run_metadata)\n\u001b[0m\u001b[1;32m    998\u001b[0m     \u001b[0;32melse\u001b[0m\u001b[0;34m:\u001b[0m\u001b[0;34m\u001b[0m\u001b[0m\n\u001b[1;32m    999\u001b[0m       \u001b[0mresults\u001b[0m \u001b[0;34m=\u001b[0m \u001b[0;34m[\u001b[0m\u001b[0;34m]\u001b[0m\u001b[0;34m\u001b[0m\u001b[0m\n",
      "\u001b[0;32m/Users/ninglee/anaconda/lib/python2.7/site-packages/tensorflow/python/client/session.pyc\u001b[0m in \u001b[0;36m_do_run\u001b[0;34m(self, handle, target_list, fetch_list, feed_dict, options, run_metadata)\u001b[0m\n\u001b[1;32m   1130\u001b[0m     \u001b[0;32mif\u001b[0m \u001b[0mhandle\u001b[0m \u001b[0;32mis\u001b[0m \u001b[0mNone\u001b[0m\u001b[0;34m:\u001b[0m\u001b[0;34m\u001b[0m\u001b[0m\n\u001b[1;32m   1131\u001b[0m       return self._do_call(_run_fn, self._session, feed_dict, fetch_list,\n\u001b[0;32m-> 1132\u001b[0;31m                            target_list, options, run_metadata)\n\u001b[0m\u001b[1;32m   1133\u001b[0m     \u001b[0;32melse\u001b[0m\u001b[0;34m:\u001b[0m\u001b[0;34m\u001b[0m\u001b[0m\n\u001b[1;32m   1134\u001b[0m       return self._do_call(_prun_fn, self._session, handle, feed_dict,\n",
      "\u001b[0;32m/Users/ninglee/anaconda/lib/python2.7/site-packages/tensorflow/python/client/session.pyc\u001b[0m in \u001b[0;36m_do_call\u001b[0;34m(self, fn, *args)\u001b[0m\n\u001b[1;32m   1137\u001b[0m   \u001b[0;32mdef\u001b[0m \u001b[0m_do_call\u001b[0m\u001b[0;34m(\u001b[0m\u001b[0mself\u001b[0m\u001b[0;34m,\u001b[0m \u001b[0mfn\u001b[0m\u001b[0;34m,\u001b[0m \u001b[0;34m*\u001b[0m\u001b[0margs\u001b[0m\u001b[0;34m)\u001b[0m\u001b[0;34m:\u001b[0m\u001b[0;34m\u001b[0m\u001b[0m\n\u001b[1;32m   1138\u001b[0m     \u001b[0;32mtry\u001b[0m\u001b[0;34m:\u001b[0m\u001b[0;34m\u001b[0m\u001b[0m\n\u001b[0;32m-> 1139\u001b[0;31m       \u001b[0;32mreturn\u001b[0m \u001b[0mfn\u001b[0m\u001b[0;34m(\u001b[0m\u001b[0;34m*\u001b[0m\u001b[0margs\u001b[0m\u001b[0;34m)\u001b[0m\u001b[0;34m\u001b[0m\u001b[0m\n\u001b[0m\u001b[1;32m   1140\u001b[0m     \u001b[0;32mexcept\u001b[0m \u001b[0merrors\u001b[0m\u001b[0;34m.\u001b[0m\u001b[0mOpError\u001b[0m \u001b[0;32mas\u001b[0m \u001b[0me\u001b[0m\u001b[0;34m:\u001b[0m\u001b[0;34m\u001b[0m\u001b[0m\n\u001b[1;32m   1141\u001b[0m       \u001b[0mmessage\u001b[0m \u001b[0;34m=\u001b[0m \u001b[0mcompat\u001b[0m\u001b[0;34m.\u001b[0m\u001b[0mas_text\u001b[0m\u001b[0;34m(\u001b[0m\u001b[0me\u001b[0m\u001b[0;34m.\u001b[0m\u001b[0mmessage\u001b[0m\u001b[0;34m)\u001b[0m\u001b[0;34m\u001b[0m\u001b[0m\n",
      "\u001b[0;32m/Users/ninglee/anaconda/lib/python2.7/site-packages/tensorflow/python/client/session.pyc\u001b[0m in \u001b[0;36m_run_fn\u001b[0;34m(session, feed_dict, fetch_list, target_list, options, run_metadata)\u001b[0m\n\u001b[1;32m   1119\u001b[0m         return tf_session.TF_Run(session, options,\n\u001b[1;32m   1120\u001b[0m                                  \u001b[0mfeed_dict\u001b[0m\u001b[0;34m,\u001b[0m \u001b[0mfetch_list\u001b[0m\u001b[0;34m,\u001b[0m \u001b[0mtarget_list\u001b[0m\u001b[0;34m,\u001b[0m\u001b[0;34m\u001b[0m\u001b[0m\n\u001b[0;32m-> 1121\u001b[0;31m                                  status, run_metadata)\n\u001b[0m\u001b[1;32m   1122\u001b[0m \u001b[0;34m\u001b[0m\u001b[0m\n\u001b[1;32m   1123\u001b[0m     \u001b[0;32mdef\u001b[0m \u001b[0m_prun_fn\u001b[0m\u001b[0;34m(\u001b[0m\u001b[0msession\u001b[0m\u001b[0;34m,\u001b[0m \u001b[0mhandle\u001b[0m\u001b[0;34m,\u001b[0m \u001b[0mfeed_dict\u001b[0m\u001b[0;34m,\u001b[0m \u001b[0mfetch_list\u001b[0m\u001b[0;34m)\u001b[0m\u001b[0;34m:\u001b[0m\u001b[0;34m\u001b[0m\u001b[0m\n",
      "\u001b[0;31mKeyboardInterrupt\u001b[0m: "
     ]
    }
   ],
   "source": [
    "model.train()"
   ]
  },
  {
   "cell_type": "code",
   "execution_count": 212,
   "metadata": {},
   "outputs": [
    {
     "data": {
      "text/plain": [
       "[]"
      ]
     },
     "execution_count": 212,
     "metadata": {},
     "output_type": "execute_result"
    },
    {
     "data": {
      "image/png": "[encoded data removed]",
      "text/plain": [
       "<matplotlib.figure.Figure at 0x117947190>"
      ]
     },
     "metadata": {},
     "output_type": "display_data"
    }
   ],
   "source": [
    "fig = plt.figure()\n",
    "ax = fig.add_subplot(1,1,1)\n",
    "ax.plot(range(len(model.loss_history)), model.loss_history, '-o')\n",
    "plt.plot()"
   ]
  },
  {
   "cell_type": "code",
   "execution_count": 213,
   "metadata": {},
   "outputs": [
    {
     "name": "stdout",
     "output_type": "stream",
     "text": [
      "521\n",
      "0.888609 0.88729 0.790619\n"
     ]
    },
    {
     "data": {
      "image/png": "[encoded data removed]",
      "text/plain": [
       "<matplotlib.figure.Figure at 0x135e57150>"
      ]
     },
     "metadata": {},
     "output_type": "display_data"
    }
   ],
   "source": [
    "plt_len = len(model.train_acc_history)\n",
    "print plt_len\n",
    "print np.mean(model.train_acc_history), np.mean(model.val_acc_history), np.mean(model.test_acc_history)\n",
    "plt.subplot(1,1,1)\n",
    "plt.title('Accuracy')\n",
    "plt.plot(model.train_acc_history, '-o', label='train')\n",
    "plt.plot(model.test_acc_history, '-o', label='test')\n",
    "plt.plot(model.val_acc_history, '-o', label='valid')\n",
    "# plt.plot([90] * plt_len, 'k--')\n",
    "plt.xlabel('Iteration/300')\n",
    "plt.legend(loc='lower right')\n",
    "plt.gcf().set_size_inches(12,8)\n",
    "plt.show()"
   ]
  },
  {
   "cell_type": "markdown",
   "metadata": {},
   "source": [
    "## Analysis"
   ]
  },
  {
   "cell_type": "code",
   "execution_count": 214,
   "metadata": {},
   "outputs": [],
   "source": [
    "def getConfusionMatrix(y_true, y_pred, header):\n",
    "    m = len(header)\n",
    "    y_true = np.argmax(y_true, axis=1)\n",
    "    y_pred = np.argmax(y_pred, axis=1)\n",
    "    mat = np.mat(np.zeros((m,m)))\n",
    "    for real, pred in zip(y_true,y_pred):\n",
    "        mat[real,pred] = mat[real,pred] + 1\n",
    "    return pd.DataFrame(data=mat, index= header, columns=header, dtype=int)\n",
    "\n",
    "def accuracy(predictions, labels):\n",
    "  return (100.0 * np.sum(np.argmax(predictions, 1) == np.argmax(labels, 1))\n",
    "          / predictions.shape[0])"
   ]
  },
  {
   "cell_type": "code",
   "execution_count": 215,
   "metadata": {},
   "outputs": [
    {
     "name": "stdout",
     "output_type": "stream",
     "text": [
      "84.5316177322\n"
     ]
    }
   ],
   "source": [
    "y_pred = model.predict(data['X_test'])\n",
    "print accuracy(y_pred, data['y_test'])"
   ]
  },
  {
   "cell_type": "code",
   "execution_count": 216,
   "metadata": {},
   "outputs": [
    {
     "data": {
      "text/html": [
       "<div>\n",
       "<style>\n",
       "    .dataframe thead tr:only-child th {\n",
       "        text-align: right;\n",
       "    }\n",
       "\n",
       "    .dataframe thead th {\n",
       "        text-align: left;\n",
       "    }\n",
       "\n",
       "    .dataframe tbody tr th {\n",
       "        vertical-align: top;\n",
       "    }\n",
       "</style>\n",
       "<table border=\"1\" class=\"dataframe\">\n",
       "  <thead>\n",
       "    <tr style=\"text-align: right;\">\n",
       "      <th></th>\n",
       "      <th>normal</th>\n",
       "      <th>probe</th>\n",
       "      <th>dos</th>\n",
       "      <th>u2r</th>\n",
       "      <th>r2l</th>\n",
       "    </tr>\n",
       "  </thead>\n",
       "  <tbody>\n",
       "    <tr>\n",
       "      <th>normal</th>\n",
       "      <td>72851</td>\n",
       "      <td>68</td>\n",
       "      <td>3823</td>\n",
       "      <td>39</td>\n",
       "      <td>0</td>\n",
       "    </tr>\n",
       "    <tr>\n",
       "      <th>probe</th>\n",
       "      <td>1619</td>\n",
       "      <td>0</td>\n",
       "      <td>2547</td>\n",
       "      <td>0</td>\n",
       "      <td>0</td>\n",
       "    </tr>\n",
       "    <tr>\n",
       "      <th>dos</th>\n",
       "      <td>39232</td>\n",
       "      <td>24</td>\n",
       "      <td>190066</td>\n",
       "      <td>531</td>\n",
       "      <td>0</td>\n",
       "    </tr>\n",
       "    <tr>\n",
       "      <th>u2r</th>\n",
       "      <td>195</td>\n",
       "      <td>3</td>\n",
       "      <td>30</td>\n",
       "      <td>0</td>\n",
       "      <td>0</td>\n",
       "    </tr>\n",
       "    <tr>\n",
       "      <th>r2l</th>\n",
       "      <td>0</td>\n",
       "      <td>0</td>\n",
       "      <td>0</td>\n",
       "      <td>0</td>\n",
       "      <td>0</td>\n",
       "    </tr>\n",
       "  </tbody>\n",
       "</table>\n",
       "</div>"
      ],
      "text/plain": [
       "        normal  probe     dos  u2r  r2l\n",
       "normal   72851     68    3823   39    0\n",
       "probe     1619      0    2547    0    0\n",
       "dos      39232     24  190066  531    0\n",
       "u2r        195      3      30    0    0\n",
       "r2l          0      0       0    0    0"
      ]
     },
     "execution_count": 216,
     "metadata": {},
     "output_type": "execute_result"
    }
   ],
   "source": [
    "confMatrix = getConfusionMatrix(data['y_test'], y_pred, ['normal', 'probe', 'dos', 'u2r', 'r2l'])\n",
    "confMatrix"
   ]
  },
  {
   "cell_type": "code",
   "execution_count": 79,
   "metadata": {
    "collapsed": true
   },
   "outputs": [],
   "source": [
    "#统计每个列别的precision TP/(TP + FN)检测率   Recall: TP/(TP + FP)对应误报率\n",
    "\n",
    "#negative对应的是正常的，positive对应的是attack.以此转换成二分类问题\n",
    "def precission_recall(predictions, actuals, negative=[0], positive=[1,2,3,4]):\n",
    "    pred_labels = np.argmax(predictions,axis=1)\n",
    "    actual_labels = np.argmax(actuals, axis=1)\n",
    "    TP = 0.0\n",
    "    TN = 0.0\n",
    "    FP = 0.0\n",
    "    FN = 0.0\n",
    "    test_size = predictions.shape[0]\n",
    "    for i in xrange(test_size):\n",
    "        if pred_labels[i] in positive:\n",
    "            if actual_labels[i] in positive:\n",
    "                TP += 1.0\n",
    "            else:\n",
    "                FP += 1.0\n",
    "        else:\n",
    "            if actual_labels[i] in negative:\n",
    "                TN += 1.0\n",
    "            else:\n",
    "                FN += 1.0\n",
    "    if TP + FN == 0:\n",
    "        print 'There is no positive in test'\n",
    "        precission = -1\n",
    "    else:\n",
    "        precission = TP / (TP + FN)\n",
    "    if TP + FP == 0:\n",
    "        print 'There is no positive in the prediction'\n",
    "        recall = -1\n",
    "    else:\n",
    "        recall = TP / (TP + FP)\n",
    "    return precission, recall"
   ]
  },
  {
   "cell_type": "code",
   "execution_count": 80,
   "metadata": {},
   "outputs": [
    {
     "name": "stdout",
     "output_type": "stream",
     "text": [
      "(290445,) (290445,)\n",
      "检测率: 96.97%\n",
      "误报率： 0.49%\n"
     ]
    }
   ],
   "source": [
    "#normal: 0 PROBE:1 DOS:2 U2R:3 R2L:4 Positive:1-4攻击； Negative:0 正常；\n",
    "last_test_pred = model.predict(data['X_test'])\n",
    "last_test_pred_idx = np.argmax(last_test_pred, axis=1)\n",
    "sub_test_idx = np.argmax(sub_test_labels.values[::],axis=1)\n",
    "print last_test_pred_idx.shape, sub_test_idx.shape\n",
    "\n",
    "precission, recall = precission_recall(last_test_pred, sub_test_labels.values[::], negative=[0], positive=[1])\n",
    "\n",
    "print '检测率: %.2f%%' % (precission * 100)\n",
    "print '误报率： %.2f%%' % (100 - recall * 100)"
   ]
  },
  {
   "cell_type": "code",
   "execution_count": 81,
   "metadata": {},
   "outputs": [
    {
     "name": "stdout",
     "output_type": "stream",
     "text": [
      "Test\n",
      "290445\n",
      "0: 60592\n",
      "2: 229853\n"
     ]
    }
   ],
   "source": [
    "print 'Test'\n",
    "print len(sub_test_labels)\n",
    "print '0:', np.sum(sub_test_labels.label_0 == 1)\n",
    "# print '1:', np.sum(sub_test_labels.label_1 == 1)\n",
    "print '2:', np.sum(sub_test_labels.label_2 == 1)\n",
    "# print '3:', np.sum(sub_test_labels.label_3 == 1)\n",
    "# print '4:', np.sum(sub_test_labels.label_4 == 1)"
   ]
  },
  {
   "cell_type": "code",
   "execution_count": 82,
   "metadata": {},
   "outputs": [
    {
     "name": "stdout",
     "output_type": "stream",
     "text": [
      "Prediction\n",
      "tot: 290445\n",
      "0: 66452\n",
      "1: 223993\n"
     ]
    }
   ],
   "source": [
    "pred = np.argmax(last_test_pred, axis=1)\n",
    "print 'Prediction'\n",
    "print 'tot:', pred.shape[0]\n",
    "print '0:', pred[pred==0].shape[0]\n",
    "print '1:', pred[pred==1].shape[0]\n",
    "# print '2:', pred[pred==2].shape[0]\n",
    "# print '3:', pred[pred==3].shape[0]\n",
    "# print '4:', pred[pred==4].shape[0]"
   ]
  },
  {
   "cell_type": "code",
   "execution_count": null,
   "metadata": {
    "collapsed": true
   },
   "outputs": [],
   "source": []
  }
 ],
 "metadata": {
  "colab": {
   "default_view": {},
   "name": "4_convolutions.ipynb",
   "provenance": [],
   "version": "0.3.2",
   "views": {}
  },
  "kernelspec": {
   "display_name": "Python 2",
   "language": "python",
   "name": "python2"
  },
  "language_info": {
   "codemirror_mode": {
    "name": "ipython",
    "version": 2
   },
   "file_extension": ".py",
   "mimetype": "text/x-python",
   "name": "python",
   "nbconvert_exporter": "python",
   "pygments_lexer": "ipython2",
   "version": "2.7.13"
  },
  "toc": {
   "colors": {
    "hover_highlight": "#DAA520",
    "navigate_num": "#000000",
    "navigate_text": "#333333",
    "running_highlight": "#FF0000",
    "selected_highlight": "#FFD700",
    "sidebar_border": "#EEEEEE",
    "wrapper_background": "#FFFFFF"
   },
   "moveMenuLeft": true,
   "nav_menu": {
    "height": "86px",
    "width": "252px"
   },
   "navigate_menu": true,
   "number_sections": true,
   "sideBar": true,
   "threshold": 4,
   "toc_cell": false,
   "toc_section_display": "block",
   "toc_window_display": false,
   "widenNotebook": false
  }
 },
 "nbformat": 4,
 "nbformat_minor": 1
}
